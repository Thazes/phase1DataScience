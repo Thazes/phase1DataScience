{
 "cells": [
  {
   "cell_type": "markdown",
   "metadata": {},
   "source": [
    "# Phase 1 project\n",
    "\n",
    "This note book is designed to analyse data National Transportation Safety Board that includes aviation accident data from 1962 to 2023 about civil aviation accidents and selected incidents in the United States and international waters  and identify the lowest-risk aircraft for the company to purchase and operate in the commercial and private aviation sectors, providing actionable insights to guide decision-making for the new aviation division\n",
    "\n",
    "Specifically, this will cover:\n",
    "\n",
    "* Using pandas to filter data\n",
    "* Using pandas to handle missing values\n",
    "* Using matplotlib to create a graph using data from a dataframe\n",
    "\n",
    "##  Task: Analyze Airplane Data\n",
    "\n",
    "### The following questions are to be answered from the analysis of the data:\n",
    "1. Determine which aircraft are the lowest risk for the company to start this new business endeavor.\n",
    "2. Identify actionable insights to help the head of the new aviation division decide which aircraft to purchase.\n",
    "\n",
    "### Data Understanding\n",
    "\n",
    "In this repository under the file path `AviationData.csv` there is a CSV file containing information about events that occured on various aircrafts\n",
    "\n",
    "There is also `USState_Codes.csv` which contains short form identifies of various states in the United states\n",
    "\n",
    "\n",
    "\n",
    "\n",
    "### Requirements\n",
    "\n",
    "#### 1. Filter Data to Relevant Columns\n",
    "\n",
    "#### 2. Filter Data to Relevant Rows\n",
    "\n",
    "#### 3. Drop Rows with Missing Values\n",
    "\n",
    "#### 4. Identify lowest risk plane\n",
    "\n",
    "#### 5. Plot charts to support the assement above\n",
    "\n",
    "### Setup\n",
    "\n",
    "In the cell below we import the relevant libraries\n",
    "\n"
   ]
  },
  {
   "cell_type": "code",
   "execution_count": 1,
   "metadata": {},
   "outputs": [],
   "source": [
    "import pandas as pd\n",
    "import matplotlib.pyplot as plt\n",
    "import seaborn as sns\n",
    "%matplotlib inline"
   ]
  },
  {
   "cell_type": "markdown",
   "metadata": {},
   "source": [
    "## Open up the CSV file as a dataframe called `df ` \n",
    "\n",
    "In the cell below we open the `AviationData.csv` file as a df and print the first 5 rows to get an overview of the data. The data is encoded in latin and the standard `pd.read_csv('data')`command doesn't work hence the need to add\n",
    "`encoding=latin-1` arguement and setting `low_memory=False` to stop the printing of warnings"
   ]
  },
  {
   "cell_type": "code",
   "execution_count": 2,
   "metadata": {},
   "outputs": [
    {
     "data": {
      "text/html": [
       "<div>\n",
       "<style scoped>\n",
       "    .dataframe tbody tr th:only-of-type {\n",
       "        vertical-align: middle;\n",
       "    }\n",
       "\n",
       "    .dataframe tbody tr th {\n",
       "        vertical-align: top;\n",
       "    }\n",
       "\n",
       "    .dataframe thead th {\n",
       "        text-align: right;\n",
       "    }\n",
       "</style>\n",
       "<table border=\"1\" class=\"dataframe\">\n",
       "  <thead>\n",
       "    <tr style=\"text-align: right;\">\n",
       "      <th></th>\n",
       "      <th>Event.Id</th>\n",
       "      <th>Investigation.Type</th>\n",
       "      <th>Accident.Number</th>\n",
       "      <th>Event.Date</th>\n",
       "      <th>Location</th>\n",
       "      <th>Country</th>\n",
       "      <th>Latitude</th>\n",
       "      <th>Longitude</th>\n",
       "      <th>Airport.Code</th>\n",
       "      <th>Airport.Name</th>\n",
       "      <th>...</th>\n",
       "      <th>Purpose.of.flight</th>\n",
       "      <th>Air.carrier</th>\n",
       "      <th>Total.Fatal.Injuries</th>\n",
       "      <th>Total.Serious.Injuries</th>\n",
       "      <th>Total.Minor.Injuries</th>\n",
       "      <th>Total.Uninjured</th>\n",
       "      <th>Weather.Condition</th>\n",
       "      <th>Broad.phase.of.flight</th>\n",
       "      <th>Report.Status</th>\n",
       "      <th>Publication.Date</th>\n",
       "    </tr>\n",
       "  </thead>\n",
       "  <tbody>\n",
       "    <tr>\n",
       "      <th>0</th>\n",
       "      <td>20001218X45444</td>\n",
       "      <td>Accident</td>\n",
       "      <td>SEA87LA080</td>\n",
       "      <td>1948-10-24</td>\n",
       "      <td>MOOSE CREEK, ID</td>\n",
       "      <td>United States</td>\n",
       "      <td>NaN</td>\n",
       "      <td>NaN</td>\n",
       "      <td>NaN</td>\n",
       "      <td>NaN</td>\n",
       "      <td>...</td>\n",
       "      <td>Personal</td>\n",
       "      <td>NaN</td>\n",
       "      <td>2.0</td>\n",
       "      <td>0.0</td>\n",
       "      <td>0.0</td>\n",
       "      <td>0.0</td>\n",
       "      <td>UNK</td>\n",
       "      <td>Cruise</td>\n",
       "      <td>Probable Cause</td>\n",
       "      <td>NaN</td>\n",
       "    </tr>\n",
       "    <tr>\n",
       "      <th>1</th>\n",
       "      <td>20001218X45447</td>\n",
       "      <td>Accident</td>\n",
       "      <td>LAX94LA336</td>\n",
       "      <td>1962-07-19</td>\n",
       "      <td>BRIDGEPORT, CA</td>\n",
       "      <td>United States</td>\n",
       "      <td>NaN</td>\n",
       "      <td>NaN</td>\n",
       "      <td>NaN</td>\n",
       "      <td>NaN</td>\n",
       "      <td>...</td>\n",
       "      <td>Personal</td>\n",
       "      <td>NaN</td>\n",
       "      <td>4.0</td>\n",
       "      <td>0.0</td>\n",
       "      <td>0.0</td>\n",
       "      <td>0.0</td>\n",
       "      <td>UNK</td>\n",
       "      <td>Unknown</td>\n",
       "      <td>Probable Cause</td>\n",
       "      <td>19-09-1996</td>\n",
       "    </tr>\n",
       "    <tr>\n",
       "      <th>2</th>\n",
       "      <td>20061025X01555</td>\n",
       "      <td>Accident</td>\n",
       "      <td>NYC07LA005</td>\n",
       "      <td>1974-08-30</td>\n",
       "      <td>Saltville, VA</td>\n",
       "      <td>United States</td>\n",
       "      <td>36.922223</td>\n",
       "      <td>-81.878056</td>\n",
       "      <td>NaN</td>\n",
       "      <td>NaN</td>\n",
       "      <td>...</td>\n",
       "      <td>Personal</td>\n",
       "      <td>NaN</td>\n",
       "      <td>3.0</td>\n",
       "      <td>NaN</td>\n",
       "      <td>NaN</td>\n",
       "      <td>NaN</td>\n",
       "      <td>IMC</td>\n",
       "      <td>Cruise</td>\n",
       "      <td>Probable Cause</td>\n",
       "      <td>26-02-2007</td>\n",
       "    </tr>\n",
       "    <tr>\n",
       "      <th>3</th>\n",
       "      <td>20001218X45448</td>\n",
       "      <td>Accident</td>\n",
       "      <td>LAX96LA321</td>\n",
       "      <td>1977-06-19</td>\n",
       "      <td>EUREKA, CA</td>\n",
       "      <td>United States</td>\n",
       "      <td>NaN</td>\n",
       "      <td>NaN</td>\n",
       "      <td>NaN</td>\n",
       "      <td>NaN</td>\n",
       "      <td>...</td>\n",
       "      <td>Personal</td>\n",
       "      <td>NaN</td>\n",
       "      <td>2.0</td>\n",
       "      <td>0.0</td>\n",
       "      <td>0.0</td>\n",
       "      <td>0.0</td>\n",
       "      <td>IMC</td>\n",
       "      <td>Cruise</td>\n",
       "      <td>Probable Cause</td>\n",
       "      <td>12-09-2000</td>\n",
       "    </tr>\n",
       "    <tr>\n",
       "      <th>4</th>\n",
       "      <td>20041105X01764</td>\n",
       "      <td>Accident</td>\n",
       "      <td>CHI79FA064</td>\n",
       "      <td>1979-08-02</td>\n",
       "      <td>Canton, OH</td>\n",
       "      <td>United States</td>\n",
       "      <td>NaN</td>\n",
       "      <td>NaN</td>\n",
       "      <td>NaN</td>\n",
       "      <td>NaN</td>\n",
       "      <td>...</td>\n",
       "      <td>Personal</td>\n",
       "      <td>NaN</td>\n",
       "      <td>1.0</td>\n",
       "      <td>2.0</td>\n",
       "      <td>NaN</td>\n",
       "      <td>0.0</td>\n",
       "      <td>VMC</td>\n",
       "      <td>Approach</td>\n",
       "      <td>Probable Cause</td>\n",
       "      <td>16-04-1980</td>\n",
       "    </tr>\n",
       "  </tbody>\n",
       "</table>\n",
       "<p>5 rows × 31 columns</p>\n",
       "</div>"
      ],
      "text/plain": [
       "         Event.Id Investigation.Type Accident.Number  Event.Date  \\\n",
       "0  20001218X45444           Accident      SEA87LA080  1948-10-24   \n",
       "1  20001218X45447           Accident      LAX94LA336  1962-07-19   \n",
       "2  20061025X01555           Accident      NYC07LA005  1974-08-30   \n",
       "3  20001218X45448           Accident      LAX96LA321  1977-06-19   \n",
       "4  20041105X01764           Accident      CHI79FA064  1979-08-02   \n",
       "\n",
       "          Location        Country   Latitude   Longitude Airport.Code  \\\n",
       "0  MOOSE CREEK, ID  United States        NaN         NaN          NaN   \n",
       "1   BRIDGEPORT, CA  United States        NaN         NaN          NaN   \n",
       "2    Saltville, VA  United States  36.922223  -81.878056          NaN   \n",
       "3       EUREKA, CA  United States        NaN         NaN          NaN   \n",
       "4       Canton, OH  United States        NaN         NaN          NaN   \n",
       "\n",
       "  Airport.Name  ... Purpose.of.flight Air.carrier Total.Fatal.Injuries  \\\n",
       "0          NaN  ...          Personal         NaN                  2.0   \n",
       "1          NaN  ...          Personal         NaN                  4.0   \n",
       "2          NaN  ...          Personal         NaN                  3.0   \n",
       "3          NaN  ...          Personal         NaN                  2.0   \n",
       "4          NaN  ...          Personal         NaN                  1.0   \n",
       "\n",
       "  Total.Serious.Injuries Total.Minor.Injuries Total.Uninjured  \\\n",
       "0                    0.0                  0.0             0.0   \n",
       "1                    0.0                  0.0             0.0   \n",
       "2                    NaN                  NaN             NaN   \n",
       "3                    0.0                  0.0             0.0   \n",
       "4                    2.0                  NaN             0.0   \n",
       "\n",
       "  Weather.Condition  Broad.phase.of.flight   Report.Status Publication.Date  \n",
       "0               UNK                 Cruise  Probable Cause              NaN  \n",
       "1               UNK                Unknown  Probable Cause       19-09-1996  \n",
       "2               IMC                 Cruise  Probable Cause       26-02-2007  \n",
       "3               IMC                 Cruise  Probable Cause       12-09-2000  \n",
       "4               VMC               Approach  Probable Cause       16-04-1980  \n",
       "\n",
       "[5 rows x 31 columns]"
      ]
     },
     "execution_count": 2,
     "metadata": {},
     "output_type": "execute_result"
    }
   ],
   "source": [
    "df=pd.read_csv('AviationData.csv',encoding='latin-1',low_memory=False)\n",
    "df.head()"
   ]
  },
  {
   "cell_type": "markdown",
   "metadata": {},
   "source": [
    "## Identify information about the data set\n",
    "In the cells below we identify information about the dataset such number of columns and rows and datatypes represented by each column"
   ]
  },
  {
   "cell_type": "code",
   "execution_count": 3,
   "metadata": {},
   "outputs": [
    {
     "data": {
      "text/plain": [
       "(88889, 31)"
      ]
     },
     "execution_count": 3,
     "metadata": {},
     "output_type": "execute_result"
    }
   ],
   "source": [
    "#Get datatypes of each column and number of rows and columns\n",
    "df.shape"
   ]
  },
  {
   "cell_type": "code",
   "execution_count": 4,
   "metadata": {},
   "outputs": [
    {
     "name": "stdout",
     "output_type": "stream",
     "text": [
      "<class 'pandas.core.frame.DataFrame'>\n",
      "RangeIndex: 88889 entries, 0 to 88888\n",
      "Data columns (total 31 columns):\n",
      " #   Column                  Non-Null Count  Dtype  \n",
      "---  ------                  --------------  -----  \n",
      " 0   Event.Id                88889 non-null  object \n",
      " 1   Investigation.Type      88889 non-null  object \n",
      " 2   Accident.Number         88889 non-null  object \n",
      " 3   Event.Date              88889 non-null  object \n",
      " 4   Location                88837 non-null  object \n",
      " 5   Country                 88663 non-null  object \n",
      " 6   Latitude                34382 non-null  object \n",
      " 7   Longitude               34373 non-null  object \n",
      " 8   Airport.Code            50249 non-null  object \n",
      " 9   Airport.Name            52790 non-null  object \n",
      " 10  Injury.Severity         87889 non-null  object \n",
      " 11  Aircraft.damage         85695 non-null  object \n",
      " 12  Aircraft.Category       32287 non-null  object \n",
      " 13  Registration.Number     87572 non-null  object \n",
      " 14  Make                    88826 non-null  object \n",
      " 15  Model                   88797 non-null  object \n",
      " 16  Amateur.Built           88787 non-null  object \n",
      " 17  Number.of.Engines       82805 non-null  float64\n",
      " 18  Engine.Type             81812 non-null  object \n",
      " 19  FAR.Description         32023 non-null  object \n",
      " 20  Schedule                12582 non-null  object \n",
      " 21  Purpose.of.flight       82697 non-null  object \n",
      " 22  Air.carrier             16648 non-null  object \n",
      " 23  Total.Fatal.Injuries    77488 non-null  float64\n",
      " 24  Total.Serious.Injuries  76379 non-null  float64\n",
      " 25  Total.Minor.Injuries    76956 non-null  float64\n",
      " 26  Total.Uninjured         82977 non-null  float64\n",
      " 27  Weather.Condition       84397 non-null  object \n",
      " 28  Broad.phase.of.flight   61724 non-null  object \n",
      " 29  Report.Status           82508 non-null  object \n",
      " 30  Publication.Date        75118 non-null  object \n",
      "dtypes: float64(5), object(26)\n",
      "memory usage: 21.0+ MB\n"
     ]
    }
   ],
   "source": [
    "#Get datatypes of each column and number of rows and columns\n",
    "df.info()"
   ]
  },
  {
   "cell_type": "markdown",
   "metadata": {},
   "source": [
    "## Overview analysis of the dataset \n",
    "* From the cells above, we can see that the dataset has `88889` rows and `31` columns\n",
    "* The data has various datatypes\n",
    "* Some columns seems to have null values\n",
    "\n",
    "#### In the cell below, we will try and identify the number of null values in the dataset"
   ]
  },
  {
   "cell_type": "code",
   "execution_count": 5,
   "metadata": {},
   "outputs": [
    {
     "data": {
      "text/plain": [
       "Event.Id                   0.000000\n",
       "Investigation.Type         0.000000\n",
       "Accident.Number            0.000000\n",
       "Event.Date                 0.000000\n",
       "Location                   0.058500\n",
       "Country                    0.254250\n",
       "Latitude                  61.320298\n",
       "Longitude                 61.330423\n",
       "Airport.Code              43.469946\n",
       "Airport.Name              40.611324\n",
       "Injury.Severity            1.124999\n",
       "Aircraft.damage            3.593246\n",
       "Aircraft.Category         63.677170\n",
       "Registration.Number        1.481623\n",
       "Make                       0.070875\n",
       "Model                      0.103500\n",
       "Amateur.Built              0.114750\n",
       "Number.of.Engines          6.844491\n",
       "Engine.Type                7.961615\n",
       "FAR.Description           63.974170\n",
       "Schedule                  85.845268\n",
       "Purpose.of.flight          6.965991\n",
       "Air.carrier               81.271023\n",
       "Total.Fatal.Injuries      12.826109\n",
       "Total.Serious.Injuries    14.073732\n",
       "Total.Minor.Injuries      13.424608\n",
       "Total.Uninjured            6.650992\n",
       "Weather.Condition          5.053494\n",
       "Broad.phase.of.flight     30.560587\n",
       "Report.Status              7.178616\n",
       "Publication.Date          15.492356\n",
       "dtype: float64"
      ]
     },
     "execution_count": 5,
     "metadata": {},
     "output_type": "execute_result"
    }
   ],
   "source": [
    "#Percentage of null values from each column\n",
    "df.isna().sum()/ len(df) * 100"
   ]
  },
  {
   "cell_type": "markdown",
   "metadata": {},
   "source": [
    "## Analysis of the null values in the dataset\n",
    "* From the cell above we can see almost all the cells have null values apart from 4 columns are `Event.Id`,`Investigation.Type`,`Accident.Number` and `Event.Date`\n",
    "* We will drop all columns with null percentage value of over 40 % from the data set.This columns include  `Latitude`,`Longitude`,`Airport.Code`,`Airport.Name`,`Aircraft.Category`,`FAR.Description`,`Schedule`,`Air.carrier`.\n",
    "\n",
    "We want to drop the above columns because there more or close to more missing data than available data, which makes it difficult to extract meaningful insights. Retaining such columns may introduce bias or inaccuracies in our analysis."
   ]
  },
  {
   "cell_type": "code",
   "execution_count": 6,
   "metadata": {},
   "outputs": [],
   "source": [
    "# List of columns to drop\n",
    "columns_to_drop = [\n",
    "    'Latitude', 'Longitude', 'Airport.Code', 'Airport.Name', \n",
    "    'Aircraft.Category', 'FAR.Description', 'Schedule', 'Air.carrier'\n",
    "]\n",
    "\n",
    "# Drop the columns from the DataFrame\n",
    "df = df.drop(columns=columns_to_drop)"
   ]
  },
  {
   "cell_type": "code",
   "execution_count": 7,
   "metadata": {},
   "outputs": [
    {
     "data": {
      "text/plain": [
       "Event.Id                   0.000000\n",
       "Investigation.Type         0.000000\n",
       "Accident.Number            0.000000\n",
       "Event.Date                 0.000000\n",
       "Location                   0.058500\n",
       "Country                    0.254250\n",
       "Injury.Severity            1.124999\n",
       "Aircraft.damage            3.593246\n",
       "Registration.Number        1.481623\n",
       "Make                       0.070875\n",
       "Model                      0.103500\n",
       "Amateur.Built              0.114750\n",
       "Number.of.Engines          6.844491\n",
       "Engine.Type                7.961615\n",
       "Purpose.of.flight          6.965991\n",
       "Total.Fatal.Injuries      12.826109\n",
       "Total.Serious.Injuries    14.073732\n",
       "Total.Minor.Injuries      13.424608\n",
       "Total.Uninjured            6.650992\n",
       "Weather.Condition          5.053494\n",
       "Broad.phase.of.flight     30.560587\n",
       "Report.Status              7.178616\n",
       "Publication.Date          15.492356\n",
       "dtype: float64"
      ]
     },
     "execution_count": 7,
     "metadata": {},
     "output_type": "execute_result"
    }
   ],
   "source": [
    "#Verifying the result that all columns with null percentage value of over 40% are dropped\n",
    "df.isna().sum()/ len(df) * 100"
   ]
  },
  {
   "cell_type": "markdown",
   "metadata": {},
   "source": [
    "# Dealing with remaining null values\n",
    "\n",
    "## Location column\n",
    "\n",
    "First we will start with columns that have non-numerical data such as `Location` \n",
    "We will drop all rows where column location is null. This is because the column `Location`  has a null percentage of  0.058500%. Dropping these rows means we are only losing a small portion of ourdata, which is often acceptable."
   ]
  },
  {
   "cell_type": "code",
   "execution_count": 8,
   "metadata": {},
   "outputs": [],
   "source": [
    "# Drop rows where 'Location' is null\n",
    "df.dropna(subset=['Location'], inplace=True)"
   ]
  },
  {
   "cell_type": "code",
   "execution_count": 9,
   "metadata": {},
   "outputs": [
    {
     "data": {
      "text/plain": [
       "Event.Id                   0.000000\n",
       "Investigation.Type         0.000000\n",
       "Accident.Number            0.000000\n",
       "Event.Date                 0.000000\n",
       "Location                   0.000000\n",
       "Country                    0.253273\n",
       "Injury.Severity            1.125657\n",
       "Aircraft.damage            3.587469\n",
       "Registration.Number        1.457726\n",
       "Make                       0.070916\n",
       "Model                      0.103560\n",
       "Amateur.Built              0.110314\n",
       "Number.of.Engines          6.815854\n",
       "Engine.Type                7.959521\n",
       "Purpose.of.flight          6.958812\n",
       "Total.Fatal.Injuries      12.817857\n",
       "Total.Serious.Injuries    14.061709\n",
       "Total.Minor.Injuries      13.411079\n",
       "Total.Uninjured            6.642503\n",
       "Weather.Condition          5.050823\n",
       "Broad.phase.of.flight     30.535700\n",
       "Report.Status              7.182818\n",
       "Publication.Date          15.487916\n",
       "dtype: float64"
      ]
     },
     "execution_count": 9,
     "metadata": {},
     "output_type": "execute_result"
    }
   ],
   "source": [
    "# Verify the result\n",
    "df.isna().sum()/ len(df) * 100"
   ]
  },
  {
   "cell_type": "markdown",
   "metadata": {},
   "source": [
    "## Country column\n",
    "\n",
    "Next we will move to the `Country` column. \n",
    "\n",
    "Similar to the Location column, We will drop all rows where column `country` is null. This is because the column `Location`  has a null percentage of  0.253273%. Dropping these rows means we are only losing a small portion of ourdata, which is often acceptable."
   ]
  },
  {
   "cell_type": "code",
   "execution_count": 10,
   "metadata": {},
   "outputs": [],
   "source": [
    "# Drop rows where 'Country' is null\n",
    "df.dropna(subset=['Country'], inplace=True)"
   ]
  },
  {
   "cell_type": "code",
   "execution_count": 11,
   "metadata": {},
   "outputs": [
    {
     "data": {
      "text/plain": [
       "Event.Id                   0.000000\n",
       "Investigation.Type         0.000000\n",
       "Accident.Number            0.000000\n",
       "Event.Date                 0.000000\n",
       "Location                   0.000000\n",
       "Country                    0.000000\n",
       "Injury.Severity            1.128515\n",
       "Aircraft.damage            3.578522\n",
       "Registration.Number        1.455785\n",
       "Make                       0.069968\n",
       "Model                      0.102695\n",
       "Amateur.Built              0.110595\n",
       "Number.of.Engines          6.825261\n",
       "Engine.Type                7.972961\n",
       "Purpose.of.flight          6.968582\n",
       "Total.Fatal.Injuries      12.837990\n",
       "Total.Serious.Injuries    14.086128\n",
       "Total.Minor.Injuries      13.433846\n",
       "Total.Uninjured            6.649212\n",
       "Weather.Condition          5.058006\n",
       "Broad.phase.of.flight     30.601950\n",
       "Report.Status              7.201056\n",
       "Publication.Date          15.462917\n",
       "dtype: float64"
      ]
     },
     "execution_count": 11,
     "metadata": {},
     "output_type": "execute_result"
    }
   ],
   "source": [
    "# Verify the result\n",
    "df.isna().sum()/ len(df) * 100"
   ]
  },
  {
   "cell_type": "markdown",
   "metadata": {},
   "source": [
    "## Injury.Severity column\n",
    "\n",
    "Next we will move to the `Injury.Severity` column. \n",
    "\n",
    "Let's look at the type of data we are dealing with:"
   ]
  },
  {
   "cell_type": "code",
   "execution_count": 12,
   "metadata": {},
   "outputs": [
    {
     "data": {
      "text/plain": [
       "Non-Fatal     76.696115\n",
       "Fatal(1)       7.004748\n",
       "Fatal          6.006027\n",
       "Fatal(2)       4.210610\n",
       "Incident       2.496233\n",
       "                ...    \n",
       "Fatal(30)      0.001141\n",
       "Fatal(199)     0.001141\n",
       "Fatal(229)     0.001141\n",
       "Fatal(228)     0.001141\n",
       "Fatal(111)     0.001141\n",
       "Name: Injury.Severity, Length: 109, dtype: float64"
      ]
     },
     "execution_count": 12,
     "metadata": {},
     "output_type": "execute_result"
    }
   ],
   "source": [
    "injury_severity_percentage = df['Injury.Severity'].value_counts(normalize=True) * 100\n",
    "injury_severity_percentage"
   ]
  },
  {
   "cell_type": "markdown",
   "metadata": {},
   "source": [
    "Seems like the data should have two categories which are `fatal` and `non-fatal`. But the way data has been stored the rows categorised as `fatal` have an integer placed in brackets making it seem like there more than two categories yet they referring to the same thing. We will clean up the rows by replacing all rows categorised as `fatal(int)` to `fatal`"
   ]
  },
  {
   "cell_type": "code",
   "execution_count": 13,
   "metadata": {},
   "outputs": [
    {
     "data": {
      "text/plain": [
       "Non-Fatal      76.696115\n",
       "Fatal          20.256358\n",
       "Incident        2.496233\n",
       "Minor           0.248824\n",
       "Serious         0.197462\n",
       "Unavailable     0.105008\n",
       "Name: Injury.Severity, dtype: float64"
      ]
     },
     "execution_count": 13,
     "metadata": {},
     "output_type": "execute_result"
    }
   ],
   "source": [
    "# Replace 'Fatal(number)' with 'Fatal'\n",
    "df['Injury.Severity'] = df['Injury.Severity'].str.replace(r'Fatal\\(\\d+\\)', 'Fatal', regex=True)\n",
    "\n",
    "# Verify the replacement\n",
    "df['Injury.Severity'].value_counts(normalize=True) * 100"
   ]
  },
  {
   "cell_type": "markdown",
   "metadata": {},
   "source": [
    "### Analysis of `Injury.Severity` column\n",
    "From the above verification we see that most injuries are Non-fatal then Followed by Fatal then Incident, Minor, Serious and finally Unavailable. Since the data is already skewed towards `Non-fatal` which represents 76% of the data we will replace all null values with `Non-fatal`"
   ]
  },
  {
   "cell_type": "code",
   "execution_count": 14,
   "metadata": {},
   "outputs": [],
   "source": [
    "# Replace all null values in Injury.Severity to Non-Fatal\n",
    "df['Injury.Severity'].fillna('Non-Fatal', inplace=True)"
   ]
  },
  {
   "cell_type": "code",
   "execution_count": 15,
   "metadata": {},
   "outputs": [
    {
     "data": {
      "text/plain": [
       "Event.Id                   0.000000\n",
       "Investigation.Type         0.000000\n",
       "Accident.Number            0.000000\n",
       "Event.Date                 0.000000\n",
       "Location                   0.000000\n",
       "Country                    0.000000\n",
       "Injury.Severity            0.000000\n",
       "Aircraft.damage            3.578522\n",
       "Registration.Number        1.455785\n",
       "Make                       0.069968\n",
       "Model                      0.102695\n",
       "Amateur.Built              0.110595\n",
       "Number.of.Engines          6.825261\n",
       "Engine.Type                7.972961\n",
       "Purpose.of.flight          6.968582\n",
       "Total.Fatal.Injuries      12.837990\n",
       "Total.Serious.Injuries    14.086128\n",
       "Total.Minor.Injuries      13.433846\n",
       "Total.Uninjured            6.649212\n",
       "Weather.Condition          5.058006\n",
       "Broad.phase.of.flight     30.601950\n",
       "Report.Status              7.201056\n",
       "Publication.Date          15.462917\n",
       "dtype: float64"
      ]
     },
     "execution_count": 15,
     "metadata": {},
     "output_type": "execute_result"
    }
   ],
   "source": [
    "# Verify the result\n",
    "df.isna().sum()/ len(df) * 100"
   ]
  },
  {
   "cell_type": "markdown",
   "metadata": {},
   "source": [
    "## Aircraft.damage column\n",
    "\n",
    "Next we will move to the `Aircraft.damage` column. \n",
    "\n",
    "The column has 3% missing value percentage. Let's look at how the data is categorised in this column"
   ]
  },
  {
   "cell_type": "code",
   "execution_count": 16,
   "metadata": {},
   "outputs": [
    {
     "data": {
      "text/plain": [
       "Substantial    74.928898\n",
       "Destroyed      21.673435\n",
       "Minor           3.258389\n",
       "Unknown         0.139277\n",
       "Name: Aircraft.damage, dtype: float64"
      ]
     },
     "execution_count": 16,
     "metadata": {},
     "output_type": "execute_result"
    }
   ],
   "source": [
    "aircraft_damage_percentage = df['Aircraft.damage'].value_counts(normalize=True) * 100\n",
    "aircraft_damage_percentage"
   ]
  },
  {
   "cell_type": "markdown",
   "metadata": {},
   "source": [
    "### Analysis of `Aircraft.damage` column\n",
    "\n",
    "The data seems to be categorical where we have three categories which are Substantial, Destroyed,Unknown and Minor. And the dataset seems to be skeweed towards the value Substantial as it accounts for 74% of the total value. I will replace all null values with `Substantial` value \n"
   ]
  },
  {
   "cell_type": "code",
   "execution_count": 17,
   "metadata": {},
   "outputs": [],
   "source": [
    "# Replace all null values in Aircraft.damage to Non-Fatal\n",
    "df['Aircraft.damage'].fillna('Substantial', inplace=True)"
   ]
  },
  {
   "cell_type": "code",
   "execution_count": 18,
   "metadata": {},
   "outputs": [
    {
     "data": {
      "text/plain": [
       "Event.Id                   0.000000\n",
       "Investigation.Type         0.000000\n",
       "Accident.Number            0.000000\n",
       "Event.Date                 0.000000\n",
       "Location                   0.000000\n",
       "Country                    0.000000\n",
       "Injury.Severity            0.000000\n",
       "Aircraft.damage            0.000000\n",
       "Registration.Number        1.455785\n",
       "Make                       0.069968\n",
       "Model                      0.102695\n",
       "Amateur.Built              0.110595\n",
       "Number.of.Engines          6.825261\n",
       "Engine.Type                7.972961\n",
       "Purpose.of.flight          6.968582\n",
       "Total.Fatal.Injuries      12.837990\n",
       "Total.Serious.Injuries    14.086128\n",
       "Total.Minor.Injuries      13.433846\n",
       "Total.Uninjured            6.649212\n",
       "Weather.Condition          5.058006\n",
       "Broad.phase.of.flight     30.601950\n",
       "Report.Status              7.201056\n",
       "Publication.Date          15.462917\n",
       "dtype: float64"
      ]
     },
     "execution_count": 18,
     "metadata": {},
     "output_type": "execute_result"
    }
   ],
   "source": [
    "# Verify the result\n",
    "df.isna().sum()/ len(df) * 100"
   ]
  },
  {
   "cell_type": "markdown",
   "metadata": {},
   "source": [
    "## Registration.Number column\n",
    "\n",
    "Next we will move to the `Registration.Number` column. \n",
    "\n",
    "The column has 1.2% missing value percentage. Let's look at how the data is categorised in this column"
   ]
  },
  {
   "cell_type": "code",
   "execution_count": 19,
   "metadata": {},
   "outputs": [
    {
     "data": {
      "text/plain": [
       "NONE      0.392799\n",
       "UNREG     0.144294\n",
       "None      0.074437\n",
       "UNK       0.014887\n",
       "USAF      0.010307\n",
       "            ...   \n",
       "N9400L    0.001145\n",
       "N9711L    0.001145\n",
       "N53444    0.001145\n",
       "N2428P    0.001145\n",
       "N4556C    0.001145\n",
       "Name: Registration.Number, Length: 78887, dtype: float64"
      ]
     },
     "execution_count": 19,
     "metadata": {},
     "output_type": "execute_result"
    }
   ],
   "source": [
    "registration_number_percentage = df['Registration.Number'].value_counts(normalize=True) * 100\n",
    "registration_number_percentage"
   ]
  },
  {
   "cell_type": "markdown",
   "metadata": {},
   "source": [
    "### Analysis of `Registration.Number` column\n",
    "\n",
    "The data seems to be unique such that each aircraft had a unique registration number and since almost all the rows had the registration number filled apart from 1.2%, we will drop the null values"
   ]
  },
  {
   "cell_type": "code",
   "execution_count": 20,
   "metadata": {},
   "outputs": [],
   "source": [
    "# Drop rows where 'Registration.Number' is null\n",
    "df.dropna(subset=['Registration.Number'], inplace=True)"
   ]
  },
  {
   "cell_type": "code",
   "execution_count": 21,
   "metadata": {},
   "outputs": [
    {
     "data": {
      "text/plain": [
       "Event.Id                   0.000000\n",
       "Investigation.Type         0.000000\n",
       "Accident.Number            0.000000\n",
       "Event.Date                 0.000000\n",
       "Location                   0.000000\n",
       "Country                    0.000000\n",
       "Injury.Severity            0.000000\n",
       "Aircraft.damage            0.000000\n",
       "Registration.Number        0.000000\n",
       "Make                       0.028630\n",
       "Model                      0.061840\n",
       "Amateur.Built              0.036646\n",
       "Number.of.Engines          5.556446\n",
       "Engine.Type                7.054351\n",
       "Purpose.of.flight          6.427933\n",
       "Total.Fatal.Injuries      12.432148\n",
       "Total.Serious.Injuries    13.321958\n",
       "Total.Minor.Injuries      12.584458\n",
       "Total.Uninjured            5.906873\n",
       "Weather.Condition          4.684959\n",
       "Broad.phase.of.flight     29.614530\n",
       "Report.Status              7.270791\n",
       "Publication.Date          15.439408\n",
       "dtype: float64"
      ]
     },
     "execution_count": 21,
     "metadata": {},
     "output_type": "execute_result"
    }
   ],
   "source": [
    "# Verify the result\n",
    "df.isna().sum()/ len(df) * 100"
   ]
  },
  {
   "cell_type": "markdown",
   "metadata": {},
   "source": [
    "## Make column\n",
    "\n",
    "Next we will move to the `Make` column. \n",
    "\n",
    "The column has 0.02% missing value percentage. Let's look at how the data is categorised in this column"
   ]
  },
  {
   "cell_type": "code",
   "execution_count": 22,
   "metadata": {},
   "outputs": [
    {
     "data": {
      "text/plain": [
       "Cessna                    25.099373\n",
       "Piper                     13.617879\n",
       "CESSNA                     5.635933\n",
       "Beech                      4.869583\n",
       "PIPER                      3.254407\n",
       "                            ...    \n",
       "Beechcraft Corporation     0.001146\n",
       "Air Trikes                 0.001146\n",
       "RICHARDSON ANDREW P        0.001146\n",
       "JACOBS                     0.001146\n",
       "Bitonti                    0.001146\n",
       "Name: Make, Length: 8218, dtype: float64"
      ]
     },
     "execution_count": 22,
     "metadata": {},
     "output_type": "execute_result"
    }
   ],
   "source": [
    "make_number_percentage = df['Make'].value_counts(normalize=True) * 100\n",
    "make_number_percentage"
   ]
  },
  {
   "cell_type": "markdown",
   "metadata": {},
   "source": [
    "### Analysis of `Make` column\n",
    "First we see that there two categories `Cessna` and `CESSNA` which seems to be reffering to the same category. We will replace one with the other\n",
    "\n",
    "We will drop all rows where column `make` is null. This is because the column `make`  has a null percentage of  0.02%. Dropping these rows means we are only losing a small portion of ourdata, which is often acceptable. "
   ]
  },
  {
   "cell_type": "code",
   "execution_count": 23,
   "metadata": {},
   "outputs": [
    {
     "data": {
      "text/plain": [
       "Cessna                 30.735306\n",
       "Piper                  16.872287\n",
       "Beech                   6.062064\n",
       "Bell                    2.915335\n",
       "Boeing                  2.837440\n",
       "                         ...    \n",
       "RICHARDSON ANDREW P     0.001146\n",
       "JACOBS                  0.001146\n",
       "Mahre                   0.001146\n",
       "ALLEN JAN A             0.001146\n",
       "Bitonti                 0.001146\n",
       "Name: Make, Length: 8213, dtype: float64"
      ]
     },
     "execution_count": 23,
     "metadata": {},
     "output_type": "execute_result"
    }
   ],
   "source": [
    "# Replace CESSNA with Cessna\n",
    "df['Make'] = df['Make'].replace('CESSNA', 'Cessna')\n",
    "\n",
    "# Replace PIPER with Piper\n",
    "df['Make'] = df['Make'].replace('PIPER', 'Piper')\n",
    "\n",
    "# Replace BEECH with beech\n",
    "df['Make'] = df['Make'].replace('BEECH', 'Beech')\n",
    "\n",
    "# Replace BELL with bell\n",
    "df['Make'] = df['Make'].replace('BELL', 'Bell')\n",
    "\n",
    "# Replace BOEING with boeing\n",
    "df['Make'] = df['Make'].replace('BOEING', 'Boeing')\n",
    "\n",
    "#verifying the replacement\n",
    "df['Make'].value_counts(normalize=True) * 100"
   ]
  },
  {
   "cell_type": "code",
   "execution_count": 24,
   "metadata": {},
   "outputs": [],
   "source": [
    "# Drop rows where 'Make' is null\n",
    "df.dropna(subset=['Make'], inplace=True)"
   ]
  },
  {
   "cell_type": "code",
   "execution_count": 25,
   "metadata": {},
   "outputs": [
    {
     "data": {
      "text/plain": [
       "Event.Id                   0.000000\n",
       "Investigation.Type         0.000000\n",
       "Accident.Number            0.000000\n",
       "Event.Date                 0.000000\n",
       "Location                   0.000000\n",
       "Country                    0.000000\n",
       "Injury.Severity            0.000000\n",
       "Aircraft.damage            0.000000\n",
       "Registration.Number        0.000000\n",
       "Make                       0.000000\n",
       "Model                      0.051548\n",
       "Amateur.Built              0.035511\n",
       "Number.of.Engines          5.544291\n",
       "Engine.Type                7.040334\n",
       "Purpose.of.flight          6.420610\n",
       "Total.Fatal.Injuries      12.433417\n",
       "Total.Serious.Injuries    13.323482\n",
       "Total.Minor.Injuries      12.584625\n",
       "Total.Uninjured            5.906274\n",
       "Weather.Condition          4.674846\n",
       "Broad.phase.of.flight     29.606974\n",
       "Report.Status              7.260272\n",
       "Publication.Date          15.443830\n",
       "dtype: float64"
      ]
     },
     "execution_count": 25,
     "metadata": {},
     "output_type": "execute_result"
    }
   ],
   "source": [
    "# Verify the result\n",
    "df.isna().sum()/ len(df) * 100"
   ]
  },
  {
   "cell_type": "markdown",
   "metadata": {},
   "source": [
    "## Model column\n",
    "\n",
    "Next we will move to the `Model` column. \n",
    "\n",
    "The column has 0.04% missing value percentage. Let's look at how the data is categorised in this column"
   ]
  },
  {
   "cell_type": "code",
   "execution_count": 26,
   "metadata": {},
   "outputs": [
    {
     "data": {
      "text/plain": [
       "152            2.704809\n",
       "172            1.996516\n",
       "172N           1.324898\n",
       "PA-28-140      1.062440\n",
       "150            0.945537\n",
       "                 ...   \n",
       "2S SPORT       0.001146\n",
       "2T-1A-Z        0.001146\n",
       "E-Racer        0.001146\n",
       "P-51-51        0.001146\n",
       "Sport Light    0.001146\n",
       "Name: Model, Length: 12064, dtype: float64"
      ]
     },
     "execution_count": 26,
     "metadata": {},
     "output_type": "execute_result"
    }
   ],
   "source": [
    "model_number_percentage = df['Model'].value_counts(normalize=True) * 100\n",
    "model_number_percentage"
   ]
  },
  {
   "cell_type": "code",
   "execution_count": 27,
   "metadata": {},
   "outputs": [
    {
     "name": "stdout",
     "output_type": "stream",
     "text": [
      "['108-3' 'PA24-180' '172M' ... 'ROTORWAY EXEC 162-F' 'KITFOX S5'\n",
      " 'M-8 EAGLE']\n"
     ]
    }
   ],
   "source": [
    "# Find unique values in the 'Model' column\n",
    "unique_model = df['Model'].unique()\n",
    "\n",
    "# Display the unique values\n",
    "print(unique_model)"
   ]
  },
  {
   "cell_type": "markdown",
   "metadata": {},
   "source": [
    "### Analysis of `Model` column\n",
    "The data seems to be categorised well with no data not looking ot of place\n",
    "\n",
    "\n",
    "We will drop all rows where column `model` is null. This is because the column `model`  has a null percentage of  0.04%. Dropping these rows means we are only losing a small portion of ourdata, which is often acceptable. "
   ]
  },
  {
   "cell_type": "code",
   "execution_count": 28,
   "metadata": {},
   "outputs": [],
   "source": [
    "# Drop rows where 'Model' is null\n",
    "df.dropna(subset=['Model'], inplace=True)"
   ]
  },
  {
   "cell_type": "code",
   "execution_count": 29,
   "metadata": {},
   "outputs": [
    {
     "data": {
      "text/plain": [
       "Event.Id                   0.000000\n",
       "Investigation.Type         0.000000\n",
       "Accident.Number            0.000000\n",
       "Event.Date                 0.000000\n",
       "Location                   0.000000\n",
       "Country                    0.000000\n",
       "Injury.Severity            0.000000\n",
       "Aircraft.damage            0.000000\n",
       "Registration.Number        0.000000\n",
       "Make                       0.000000\n",
       "Model                      0.000000\n",
       "Amateur.Built              0.035529\n",
       "Number.of.Engines          5.537982\n",
       "Engine.Type                7.023335\n",
       "Purpose.of.flight          6.412460\n",
       "Total.Fatal.Injuries      12.431807\n",
       "Total.Serious.Injuries    13.321185\n",
       "Total.Minor.Injuries      12.584239\n",
       "Total.Uninjured            5.905882\n",
       "Weather.Condition          4.662357\n",
       "Broad.phase.of.flight     29.605052\n",
       "Report.Status              7.249117\n",
       "Publication.Date          15.449503\n",
       "dtype: float64"
      ]
     },
     "execution_count": 29,
     "metadata": {},
     "output_type": "execute_result"
    }
   ],
   "source": [
    "# Verify the result\n",
    "df.isna().sum()/ len(df) * 100"
   ]
  },
  {
   "cell_type": "markdown",
   "metadata": {},
   "source": [
    "## Amateur.Built column\n",
    "\n",
    "Next we will move to the `Amateur.Built` column. \n",
    "\n",
    "The column has 0.03% missing value percentage. Let's look at how the data is categorised in this column"
   ]
  },
  {
   "cell_type": "code",
   "execution_count": 30,
   "metadata": {},
   "outputs": [
    {
     "name": "stdout",
     "output_type": "stream",
     "text": [
      "['No' 'Yes' nan]\n"
     ]
    }
   ],
   "source": [
    "# Find unique values in the 'Amateur.Built' column\n",
    "unique_amateur_built = df['Amateur.Built'].unique()\n",
    "\n",
    "# Display the unique values\n",
    "print(unique_amateur_built)"
   ]
  },
  {
   "cell_type": "code",
   "execution_count": 31,
   "metadata": {},
   "outputs": [
    {
     "data": {
      "text/plain": [
       "No     90.372731\n",
       "Yes     9.627269\n",
       "Name: Amateur.Built, dtype: float64"
      ]
     },
     "execution_count": 31,
     "metadata": {},
     "output_type": "execute_result"
    }
   ],
   "source": [
    "amateur_built_percentage = df['Amateur.Built'].value_counts(normalize=True) * 100\n",
    "amateur_built_percentage"
   ]
  },
  {
   "cell_type": "markdown",
   "metadata": {},
   "source": [
    "### Analysis of `Amateur.Built` column\n",
    "The data seems to be categorised well with no data not looking ot of place\n",
    "\n",
    "We will fill the null values with no since it won't skew the data any further"
   ]
  },
  {
   "cell_type": "code",
   "execution_count": 32,
   "metadata": {},
   "outputs": [],
   "source": [
    "# Fill null values in 'Amateur.Built' column with 'No'\n",
    "df['Amateur.Built'].fillna('No', inplace=True)"
   ]
  },
  {
   "cell_type": "code",
   "execution_count": 33,
   "metadata": {},
   "outputs": [
    {
     "data": {
      "text/plain": [
       "Event.Id                   0.000000\n",
       "Investigation.Type         0.000000\n",
       "Accident.Number            0.000000\n",
       "Event.Date                 0.000000\n",
       "Location                   0.000000\n",
       "Country                    0.000000\n",
       "Injury.Severity            0.000000\n",
       "Aircraft.damage            0.000000\n",
       "Registration.Number        0.000000\n",
       "Make                       0.000000\n",
       "Model                      0.000000\n",
       "Amateur.Built              0.000000\n",
       "Number.of.Engines          5.537982\n",
       "Engine.Type                7.023335\n",
       "Purpose.of.flight          6.412460\n",
       "Total.Fatal.Injuries      12.431807\n",
       "Total.Serious.Injuries    13.321185\n",
       "Total.Minor.Injuries      12.584239\n",
       "Total.Uninjured            5.905882\n",
       "Weather.Condition          4.662357\n",
       "Broad.phase.of.flight     29.605052\n",
       "Report.Status              7.249117\n",
       "Publication.Date          15.449503\n",
       "dtype: float64"
      ]
     },
     "execution_count": 33,
     "metadata": {},
     "output_type": "execute_result"
    }
   ],
   "source": [
    "# Verify the result\n",
    "df.isna().sum()/ len(df) * 100"
   ]
  },
  {
   "cell_type": "markdown",
   "metadata": {},
   "source": [
    "## Number.of.Engines column\n",
    "\n",
    "Next we will move to the `Number.of.Engines` column. \n",
    "\n",
    "The column has 4.1% missing value percentage. Let's look at how the data is categorised in this column"
   ]
  },
  {
   "cell_type": "code",
   "execution_count": 34,
   "metadata": {},
   "outputs": [
    {
     "name": "stdout",
     "output_type": "stream",
     "text": [
      "[ 1. nan  2.  0.  3.  4.  8.  6.]\n"
     ]
    }
   ],
   "source": [
    "# Find unique values in the 'Number.of.Engines' column\n",
    "unique_number_engines = df['Number.of.Engines'].unique()\n",
    "\n",
    "# Display the unique values\n",
    "print(unique_number_engines)"
   ]
  },
  {
   "cell_type": "code",
   "execution_count": 35,
   "metadata": {},
   "outputs": [
    {
     "data": {
      "text/plain": [
       "1.0    84.162825\n",
       "2.0    13.297743\n",
       "0.0     1.452317\n",
       "3.0     0.572677\n",
       "4.0     0.509585\n",
       "8.0     0.003640\n",
       "6.0     0.001213\n",
       "Name: Number.of.Engines, dtype: float64"
      ]
     },
     "execution_count": 35,
     "metadata": {},
     "output_type": "execute_result"
    }
   ],
   "source": [
    "number_engine_percentage = df['Number.of.Engines'].value_counts(normalize=True) * 100\n",
    "number_engine_percentage"
   ]
  },
  {
   "cell_type": "code",
   "execution_count": 36,
   "metadata": {},
   "outputs": [
    {
     "name": "stdout",
     "output_type": "stream",
     "text": [
      "Mean: 1.145510798349915\n",
      "Median: 1.0\n"
     ]
    }
   ],
   "source": [
    "# Calculate mean and median of 'Number.of.Engines'\n",
    "mean_engines = df['Number.of.Engines'].mean()\n",
    "median_engines = df['Number.of.Engines'].median()\n",
    "\n",
    "# Display the results\n",
    "print(f\"Mean: {mean_engines}\")\n",
    "print(f\"Median: {median_engines}\")"
   ]
  },
  {
   "cell_type": "markdown",
   "metadata": {},
   "source": [
    "### Analysis of `Number.of.Engines` column\n",
    "\n",
    "The data has 6 categories of engines in which 1-engine aircraft is 85.89% followed by 2-engine aircraft with a percentage of 12%.\n",
    "\n",
    "The mean of the engine is 1.12 and the median is 1.\n",
    "\n",
    "From the above we will fill the null values with 1 which will not skew the data in any way since 1 engine aircraft are already majority\n"
   ]
  },
  {
   "cell_type": "code",
   "execution_count": 37,
   "metadata": {},
   "outputs": [],
   "source": [
    "# Fill null values in 'Number.of.Engines' column with 1'\n",
    "df['Number.of.Engines'].fillna(1, inplace=True)"
   ]
  },
  {
   "cell_type": "code",
   "execution_count": 38,
   "metadata": {},
   "outputs": [
    {
     "data": {
      "text/plain": [
       "Event.Id                   0.000000\n",
       "Investigation.Type         0.000000\n",
       "Accident.Number            0.000000\n",
       "Event.Date                 0.000000\n",
       "Location                   0.000000\n",
       "Country                    0.000000\n",
       "Injury.Severity            0.000000\n",
       "Aircraft.damage            0.000000\n",
       "Registration.Number        0.000000\n",
       "Make                       0.000000\n",
       "Model                      0.000000\n",
       "Amateur.Built              0.000000\n",
       "Number.of.Engines          0.000000\n",
       "Engine.Type                7.023335\n",
       "Purpose.of.flight          6.412460\n",
       "Total.Fatal.Injuries      12.431807\n",
       "Total.Serious.Injuries    13.321185\n",
       "Total.Minor.Injuries      12.584239\n",
       "Total.Uninjured            5.905882\n",
       "Weather.Condition          4.662357\n",
       "Broad.phase.of.flight     29.605052\n",
       "Report.Status              7.249117\n",
       "Publication.Date          15.449503\n",
       "dtype: float64"
      ]
     },
     "execution_count": 38,
     "metadata": {},
     "output_type": "execute_result"
    }
   ],
   "source": [
    "#verification of replacement\n",
    "df.isna().sum()/ len(df) * 100"
   ]
  },
  {
   "cell_type": "markdown",
   "metadata": {},
   "source": [
    "## Engine.Type column\n",
    "\n",
    "Next we will move to the `Engine.Type` column. \n",
    "\n",
    "The column has 5.1% missing value percentage. Let's look at how the data is categorised in this column"
   ]
  },
  {
   "cell_type": "code",
   "execution_count": 39,
   "metadata": {},
   "outputs": [
    {
     "name": "stdout",
     "output_type": "stream",
     "text": [
      "['Reciprocating' nan 'Turbo Fan' 'Turbo Shaft' 'Unknown' 'Turbo Prop'\n",
      " 'Turbo Jet' 'None' 'Electric' 'Hybrid Rocket' 'Geared Turbofan' 'LR'\n",
      " 'NONE' 'UNK']\n"
     ]
    }
   ],
   "source": [
    "# Find unique values in the 'Number.of.Engines' column\n",
    "unique_engine_type = df['Engine.Type'].unique()\n",
    "\n",
    "# Display the unique values\n",
    "print(unique_engine_type)"
   ]
  },
  {
   "cell_type": "code",
   "execution_count": 40,
   "metadata": {},
   "outputs": [
    {
     "data": {
      "text/plain": [
       "Reciprocating      85.491347\n",
       "Turbo Shaft         4.330408\n",
       "Turbo Prop          4.159065\n",
       "Turbo Fan           3.007741\n",
       "Unknown             2.095557\n",
       "Turbo Jet           0.857946\n",
       "None                0.023421\n",
       "Geared Turbofan     0.014792\n",
       "Electric            0.012327\n",
       "LR                  0.002465\n",
       "NONE                0.002465\n",
       "Hybrid Rocket       0.001233\n",
       "UNK                 0.001233\n",
       "Name: Engine.Type, dtype: float64"
      ]
     },
     "execution_count": 40,
     "metadata": {},
     "output_type": "execute_result"
    }
   ],
   "source": [
    "#Find value counts in percentage form of each engine type\n",
    "engine_type_percentage = df['Engine.Type'].value_counts(normalize=True) * 100\n",
    "engine_type_percentage"
   ]
  },
  {
   "cell_type": "markdown",
   "metadata": {},
   "source": [
    "### Analysis of `Engine.Type` column\n",
    "\n",
    "From the analysis the engine type, the engine type with highest percentage is Reciprocating engines at 87% followed by Turbo Shaft, Turbo prop.\n",
    "\n",
    "From the analysis we seem to be having two categories having `NONE` and `none` engine types. I assumed that the they are referring to the same engine type first thing is will replace all `NONE` with `none`"
   ]
  },
  {
   "cell_type": "code",
   "execution_count": 41,
   "metadata": {},
   "outputs": [
    {
     "name": "stdout",
     "output_type": "stream",
     "text": [
      "Reciprocating      69354\n",
      "Turbo Shaft         3513\n",
      "Turbo Prop          3374\n",
      "Turbo Fan           2440\n",
      "Unknown             1700\n",
      "Turbo Jet            696\n",
      "None                  19\n",
      "Geared Turbofan       12\n",
      "Electric              10\n",
      "LR                     2\n",
      "none                   2\n",
      "Hybrid Rocket          1\n",
      "UNK                    1\n",
      "Name: Engine.Type, dtype: int64\n"
     ]
    }
   ],
   "source": [
    "# Replace 'NONE' with 'none' in the 'Engine.Type' column\n",
    "df['Engine.Type'] = df['Engine.Type'].replace('NONE', 'none')\n",
    "\n",
    "# Verify the replacement\n",
    "print(df['Engine.Type'].value_counts())"
   ]
  },
  {
   "cell_type": "markdown",
   "metadata": {},
   "source": [
    "### Analysis of `Engine.Type` column continued\n",
    "\n",
    "Since the percentage of null values is 5.5% we will replace the null values with Reciprocating engine type since the data is already skewed towards the engine type"
   ]
  },
  {
   "cell_type": "code",
   "execution_count": 42,
   "metadata": {},
   "outputs": [],
   "source": [
    "# Fill null values in 'Engine.Type' column with Reciprocating\n",
    "df['Engine.Type'].fillna('Reciprocating', inplace=True)"
   ]
  },
  {
   "cell_type": "code",
   "execution_count": 43,
   "metadata": {},
   "outputs": [
    {
     "data": {
      "text/plain": [
       "Event.Id                   0.000000\n",
       "Investigation.Type         0.000000\n",
       "Accident.Number            0.000000\n",
       "Event.Date                 0.000000\n",
       "Location                   0.000000\n",
       "Country                    0.000000\n",
       "Injury.Severity            0.000000\n",
       "Aircraft.damage            0.000000\n",
       "Registration.Number        0.000000\n",
       "Make                       0.000000\n",
       "Model                      0.000000\n",
       "Amateur.Built              0.000000\n",
       "Number.of.Engines          0.000000\n",
       "Engine.Type                0.000000\n",
       "Purpose.of.flight          6.412460\n",
       "Total.Fatal.Injuries      12.431807\n",
       "Total.Serious.Injuries    13.321185\n",
       "Total.Minor.Injuries      12.584239\n",
       "Total.Uninjured            5.905882\n",
       "Weather.Condition          4.662357\n",
       "Broad.phase.of.flight     29.605052\n",
       "Report.Status              7.249117\n",
       "Publication.Date          15.449503\n",
       "dtype: float64"
      ]
     },
     "execution_count": 43,
     "metadata": {},
     "output_type": "execute_result"
    }
   ],
   "source": [
    "df.isna().sum()/ len(df) * 100"
   ]
  },
  {
   "cell_type": "markdown",
   "metadata": {},
   "source": [
    "## Purpose.of.flight column\n",
    "\n",
    "Next we will move to the `Purpose.of.flight` column. \n",
    "\n",
    "The column has 4.3% missing value percentage. Let's look at how the data is categorised in this column"
   ]
  },
  {
   "cell_type": "code",
   "execution_count": 44,
   "metadata": {},
   "outputs": [
    {
     "name": "stdout",
     "output_type": "stream",
     "text": [
      "['Personal' nan 'Business' 'Instructional' 'Unknown' 'Ferry'\n",
      " 'Executive/corporate' 'Aerial Observation' 'Aerial Application'\n",
      " 'Public Aircraft' 'Skydiving' 'Other Work Use' 'Positioning'\n",
      " 'Flight Test' 'Air Race/show' 'Air Drop' 'Public Aircraft - Federal'\n",
      " 'Glider Tow' 'Public Aircraft - Local' 'External Load'\n",
      " 'Public Aircraft - State' 'Banner Tow' 'Firefighting' 'Air Race show'\n",
      " 'PUBS' 'ASHO' 'PUBL']\n"
     ]
    }
   ],
   "source": [
    "# Find unique values in the 'Purpose.of.flight' column\n",
    "unique_purpose_flight = df['Purpose.of.flight'].unique()\n",
    "\n",
    "# Display the unique values\n",
    "print(unique_purpose_flight)"
   ]
  },
  {
   "cell_type": "code",
   "execution_count": 45,
   "metadata": {},
   "outputs": [
    {
     "data": {
      "text/plain": [
       "Personal                     60.220189\n",
       "Instructional                12.900302\n",
       "Unknown                       7.786228\n",
       "Aerial Application            5.739863\n",
       "Business                      4.836083\n",
       "Positioning                   1.970437\n",
       "Other Work Use                1.514873\n",
       "Ferry                         0.977259\n",
       "Aerial Observation            0.935621\n",
       "Public Aircraft               0.865817\n",
       "Executive/corporate           0.649056\n",
       "Flight Test                   0.489854\n",
       "Skydiving                     0.220434\n",
       "External Load                 0.146956\n",
       "Public Aircraft - Federal     0.124913\n",
       "Banner Tow                    0.123688\n",
       "Air Race show                 0.121239\n",
       "Public Aircraft - Local       0.090623\n",
       "Public Aircraft - State       0.077152\n",
       "Air Race/show                 0.072253\n",
       "Glider Tow                    0.064906\n",
       "Firefighting                  0.046536\n",
       "Air Drop                      0.012246\n",
       "ASHO                          0.007348\n",
       "PUBS                          0.004899\n",
       "PUBL                          0.001225\n",
       "Name: Purpose.of.flight, dtype: float64"
      ]
     },
     "execution_count": 45,
     "metadata": {},
     "output_type": "execute_result"
    }
   ],
   "source": [
    "#Find value counts of each unique purpose\n",
    "purpose_flight_percentage = df['Purpose.of.flight'].value_counts(normalize=True) * 100\n",
    "purpose_flight_percentage"
   ]
  },
  {
   "cell_type": "markdown",
   "metadata": {},
   "source": [
    "### Analysis of `Purpose.of.flight` column \n",
    "\n",
    "The data in this column seems to be skeweed towards Personal as the purpose of the flight and the null values percentage is 4.3%. I have decided to replace null data values with the value `Personal` since it won't have an effect on general skeweness of data"
   ]
  },
  {
   "cell_type": "code",
   "execution_count": 46,
   "metadata": {},
   "outputs": [
    {
     "data": {
      "text/plain": [
       "Personal                     62.771054\n",
       "Instructional                12.073076\n",
       "Unknown                       7.286939\n",
       "Aerial Application            5.371797\n",
       "Business                      4.525971\n",
       "Positioning                   1.844084\n",
       "Other Work Use                1.417733\n",
       "Ferry                         0.914592\n",
       "Aerial Observation            0.875625\n",
       "Public Aircraft               0.810297\n",
       "Executive/corporate           0.607436\n",
       "Flight Test                   0.458442\n",
       "Skydiving                     0.206299\n",
       "External Load                 0.137533\n",
       "Public Aircraft - Federal     0.116903\n",
       "Banner Tow                    0.115757\n",
       "Air Race show                 0.113464\n",
       "Public Aircraft - Local       0.084812\n",
       "Public Aircraft - State       0.072205\n",
       "Air Race/show                 0.067620\n",
       "Glider Tow                    0.060744\n",
       "Firefighting                  0.043552\n",
       "Air Drop                      0.011461\n",
       "ASHO                          0.006877\n",
       "PUBS                          0.004584\n",
       "PUBL                          0.001146\n",
       "Name: Purpose.of.flight, dtype: float64"
      ]
     },
     "execution_count": 46,
     "metadata": {},
     "output_type": "execute_result"
    }
   ],
   "source": [
    "# Fill null values in 'Purpose.of.flight' column with Reciprocating\n",
    "df['Purpose.of.flight'].fillna('Personal', inplace=True)\n",
    "# Verify the replacement\n",
    "df['Purpose.of.flight'].value_counts(normalize=True) * 100"
   ]
  },
  {
   "cell_type": "code",
   "execution_count": 47,
   "metadata": {},
   "outputs": [
    {
     "data": {
      "text/plain": [
       "Event.Id                   0.000000\n",
       "Investigation.Type         0.000000\n",
       "Accident.Number            0.000000\n",
       "Event.Date                 0.000000\n",
       "Location                   0.000000\n",
       "Country                    0.000000\n",
       "Injury.Severity            0.000000\n",
       "Aircraft.damage            0.000000\n",
       "Registration.Number        0.000000\n",
       "Make                       0.000000\n",
       "Model                      0.000000\n",
       "Amateur.Built              0.000000\n",
       "Number.of.Engines          0.000000\n",
       "Engine.Type                0.000000\n",
       "Purpose.of.flight          0.000000\n",
       "Total.Fatal.Injuries      12.431807\n",
       "Total.Serious.Injuries    13.321185\n",
       "Total.Minor.Injuries      12.584239\n",
       "Total.Uninjured            5.905882\n",
       "Weather.Condition          4.662357\n",
       "Broad.phase.of.flight     29.605052\n",
       "Report.Status              7.249117\n",
       "Publication.Date          15.449503\n",
       "dtype: float64"
      ]
     },
     "execution_count": 47,
     "metadata": {},
     "output_type": "execute_result"
    }
   ],
   "source": [
    "#Verify whether the percentage of null values is now zero\n",
    "df.isna().sum()/ len(df) * 100"
   ]
  },
  {
   "cell_type": "markdown",
   "metadata": {},
   "source": [
    "## Injuries column\n",
    "\n",
    "We will move to the next four columns which deal with injuries. The columns are `Total.Fatal.Injuries`, `Total.Serious.Injuries`,`Total.Minor.Injuries`and `Total.Uninjured` \n",
    "\n",
    "The Distribution of null values for each of the above columns is listed below:\n",
    "\n",
    "* Total.Fatal.Injuries - 12.532674%\n",
    "* Total.Serious.Injuries - 13.654647%\n",
    "* Total.Minor.Injuries - 12.733197%\n",
    "* Total.Uninjured - 6.118332%\n",
    "\n",
    "We will first get identify the datatypes stored on each of the above 4 listed columns in order to proceed with our analysis. I will create function to handle the above in order to prevent code repetition"
   ]
  },
  {
   "cell_type": "code",
   "execution_count": 48,
   "metadata": {},
   "outputs": [],
   "source": [
    "#Function to identify data types \n",
    "\n",
    "def print_column_dtype(df, column_name):\n",
    "    \"\"\"\n",
    "    Prints the name of the column and its data type.\n",
    "    \n",
    "    Parameters:\n",
    "        df (pd.DataFrame): The DataFrame containing the column.\n",
    "        column_name (str): The name of the column.\n",
    "    \"\"\"\n",
    "    if column_name in df.columns:\n",
    "        dtype = df[column_name].dtype\n",
    "        print(f\"The column '{column_name}' has data type: {dtype}\")\n",
    "    else:\n",
    "        print(f\"Column '{column_name}' does not exist in the DataFrame.\")\n"
   ]
  },
  {
   "cell_type": "code",
   "execution_count": 49,
   "metadata": {},
   "outputs": [
    {
     "name": "stdout",
     "output_type": "stream",
     "text": [
      "The column 'Total.Fatal.Injuries' has data type: float64\n",
      "The column 'Total.Serious.Injuries' has data type: float64\n",
      "The column 'Total.Minor.Injuries' has data type: float64\n",
      "The column 'Total.Uninjured' has data type: float64\n"
     ]
    }
   ],
   "source": [
    "#Identiying data types in each of the four Injury columns\n",
    "print_column_dtype(df, 'Total.Fatal.Injuries')\n",
    "print_column_dtype(df, 'Total.Serious.Injuries')\n",
    "print_column_dtype(df, 'Total.Minor.Injuries')\n",
    "print_column_dtype(df, 'Total.Uninjured')"
   ]
  },
  {
   "cell_type": "markdown",
   "metadata": {},
   "source": [
    "### Analysis of Injuries columns\n",
    "First we can see that data type of all listed columns above is float. This means that we are dealing with numerical data. We can therefore calculate measures of central tendency.\n",
    "\n",
    "We will then do the mean and median of all the four columns together to avoid repeating the same code"
   ]
  },
  {
   "cell_type": "code",
   "execution_count": 50,
   "metadata": {},
   "outputs": [],
   "source": [
    "#Function to get the mean and median based on column passed\n",
    "def print_column_stats(df, column_name):\n",
    "    \"\"\"\n",
    "    Prints the mean and median of a specified column in a DataFrame.\n",
    "    \n",
    "    Parameters:\n",
    "        df (pd.DataFrame): The DataFrame containing the column.\n",
    "        column_name (str): The name of the column.\n",
    "    \"\"\"\n",
    "    if column_name in df.columns:\n",
    "        mean_value = df[column_name].mean()\n",
    "        median_value = df[column_name].median()\n",
    "        print(f\"The column '{column_name}' has:\")\n",
    "        print(f\"Mean: {mean_value}\")\n",
    "        print(f\"Median: {median_value}\")\n",
    "    else:\n",
    "        print(f\"Column '{column_name}' does not exist in the DataFrame.\")"
   ]
  },
  {
   "cell_type": "code",
   "execution_count": 51,
   "metadata": {},
   "outputs": [
    {
     "name": "stdout",
     "output_type": "stream",
     "text": [
      "The column 'Total.Fatal.Injuries' has:\n",
      "Mean: 0.5405012760944964\n",
      "Median: 0.0\n",
      "The column 'Total.Serious.Injuries' has:\n",
      "Mean: 0.26541406074389456\n",
      "Median: 0.0\n",
      "The column 'Total.Minor.Injuries' has:\n",
      "Mean: 0.33859083280889446\n",
      "Median: 0.0\n",
      "The column 'Total.Uninjured' has:\n",
      "Mean: 5.108844200294766\n",
      "Median: 1.0\n"
     ]
    }
   ],
   "source": [
    "#Identiying mean and median in each of the four Injury columns\n",
    "\n",
    "print_column_stats(df, 'Total.Fatal.Injuries')\n",
    "print_column_stats(df, 'Total.Serious.Injuries')\n",
    "print_column_stats(df, 'Total.Minor.Injuries')\n",
    "print_column_stats(df, 'Total.Uninjured')"
   ]
  },
  {
   "cell_type": "markdown",
   "metadata": {},
   "source": [
    "### Analysis of Injuries columns continued\n",
    "\n",
    "#### `Total.Fatal.Injuries`\n",
    "From the above function we can see that the mean and median of the Fatal Injuries is 0.5584 and 0 respectively.\n",
    "\n",
    "#### `Total.Serious.Injuries`\n",
    "The mean and median of the Serious Injuries is 0.2581 and 0 respectively.\n",
    "\n",
    "#### `Total.Minor.Injuries`\n",
    "The mean and median of the Minor Injuries is 0.3309 and 0 respectively.\n",
    "\n",
    "#### `Total.Uninjured`\n",
    "The mean and median of the Uninjured is 3.3095 and 0 respectively.\n",
    "\n",
    "This does not guide us on how to deal with the null values.We will plot Histogram to view how the data is skewed for each of the four columns"
   ]
  },
  {
   "cell_type": "code",
   "execution_count": 52,
   "metadata": {},
   "outputs": [
    {
     "data": {
      "image/png": "[encoded data removed]",
      "text/plain": [
       "<Figure size 1152x864 with 4 Axes>"
      ]
     },
     "metadata": {
      "needs_background": "light"
     },
     "output_type": "display_data"
    }
   ],
   "source": [
    "# Define the columns and corresponding colors\n",
    "columns = ['Total.Fatal.Injuries', 'Total.Serious.Injuries', 'Total.Minor.Injuries', 'Total.Uninjured']\n",
    "colors = ['skyblue', 'lightgreen', 'orange', 'pink']\n",
    "\n",
    "# Set up the figure and axes\n",
    "fig, axes = plt.subplots(2, 2, figsize=(16, 12))  # Create a 2x2 grid\n",
    "axes = axes.flatten()  # Flatten the array of axes for easy iteration\n",
    "\n",
    "# Plot each column\n",
    "for i, col in enumerate(columns):\n",
    "    axes[i].hist(df[col].dropna(), bins=range(0, 10), \n",
    "                 color=colors[i], edgecolor='black', align='left')\n",
    "    axes[i].set_title(f'Histogram of {col}', fontsize=14)\n",
    "    axes[i].set_xlabel(col, fontsize=12)\n",
    "    axes[i].set_ylabel('Frequency', fontsize=12)\n",
    "    axes[i].grid(axis='y', alpha=0.75)\n",
    "\n",
    "# Adjust layout\n",
    "plt.tight_layout()\n",
    "plt.show()"
   ]
  },
  {
   "cell_type": "markdown",
   "metadata": {},
   "source": [
    "### Analysis of Injuries column continued\n",
    "\n",
    "From the histogram above, looking at the `Total Fatal Injuries`, `Total Serious Injuries` and `Total Minor Injuries`. The data seems to skewed towards 0 which is all the above three columns have a median of zero. Therefore we will fill all null values with 0 since the data is already and it won't have an effect on the data\n",
    "\n",
    "For the last remaining column, `Total Uninjured`, the mean is 3.3 but looking at the data, is skewed towards 0 and since our median is 1, we will fill all null values with 1\n",
    "\n",
    "Below I will fill fill all the columns above with respective median value as discussed above\n"
   ]
  },
  {
   "cell_type": "code",
   "execution_count": 53,
   "metadata": {},
   "outputs": [],
   "source": [
    "# Fill null values in 'Total.Fatal.Injuries' column with 0\n",
    "df['Total.Fatal.Injuries'].fillna(0, inplace=True)\n",
    "\n",
    "# Fill null values in 'Total Serious Injuries' column with 0\n",
    "df['Total.Serious.Injuries'].fillna(0, inplace=True)\n",
    "\n",
    "# Fill null values in 'Total.Fatal.Injuries' column with 0\n",
    "df['Total.Minor.Injuries'].fillna(0, inplace=True)\n",
    "\n",
    "# Fill null values in 'Total.Fatal.Injuries' column with 0\n",
    "df['Total.Uninjured'].fillna(1, inplace=True)"
   ]
  },
  {
   "cell_type": "code",
   "execution_count": 54,
   "metadata": {},
   "outputs": [
    {
     "data": {
      "text/plain": [
       "Event.Id                   0.000000\n",
       "Investigation.Type         0.000000\n",
       "Accident.Number            0.000000\n",
       "Event.Date                 0.000000\n",
       "Location                   0.000000\n",
       "Country                    0.000000\n",
       "Injury.Severity            0.000000\n",
       "Aircraft.damage            0.000000\n",
       "Registration.Number        0.000000\n",
       "Make                       0.000000\n",
       "Model                      0.000000\n",
       "Amateur.Built              0.000000\n",
       "Number.of.Engines          0.000000\n",
       "Engine.Type                0.000000\n",
       "Purpose.of.flight          0.000000\n",
       "Total.Fatal.Injuries       0.000000\n",
       "Total.Serious.Injuries     0.000000\n",
       "Total.Minor.Injuries       0.000000\n",
       "Total.Uninjured            0.000000\n",
       "Weather.Condition          4.662357\n",
       "Broad.phase.of.flight     29.605052\n",
       "Report.Status              7.249117\n",
       "Publication.Date          15.449503\n",
       "dtype: float64"
      ]
     },
     "execution_count": 54,
     "metadata": {},
     "output_type": "execute_result"
    }
   ],
   "source": [
    "#Verifying null values have been replaced\n",
    "df.isna().sum()/ len(df) * 100"
   ]
  },
  {
   "cell_type": "markdown",
   "metadata": {},
   "source": [
    "##  Weather condition column\n",
    "Next we will move to the `Weather.Condition` column. \n",
    "\n",
    "The column has 3.09% missing value percentage. Let's look at how the data is categorized in the column"
   ]
  },
  {
   "cell_type": "code",
   "execution_count": 55,
   "metadata": {},
   "outputs": [
    {
     "data": {
      "text/plain": [
       "VMC    91.898682\n",
       "IMC     6.967686\n",
       "UNK     0.818667\n",
       "Unk     0.314964\n",
       "Name: Weather.Condition, dtype: float64"
      ]
     },
     "execution_count": 55,
     "metadata": {},
     "output_type": "execute_result"
    }
   ],
   "source": [
    "#Get ditribution of data in the column\n",
    "weather_condition_percentage = df['Weather.Condition'].value_counts(normalize=True) * 100\n",
    "weather_condition_percentage"
   ]
  },
  {
   "cell_type": "markdown",
   "metadata": {},
   "source": [
    "### Analysis of Weather condition column\n",
    "\n",
    "From the above distribution we can see there four categorizations of the weather conditions, VMC,IMC,UNK and Unk.But seems like the last two categories might be reffering to the same weather condition\n",
    "\n",
    "We will replace all values containing 'Unk' to 'UNK'."
   ]
  },
  {
   "cell_type": "code",
   "execution_count": 56,
   "metadata": {},
   "outputs": [
    {
     "data": {
      "text/plain": [
       "VMC    91.898682\n",
       "IMC     6.967686\n",
       "UNK     1.133631\n",
       "Name: Weather.Condition, dtype: float64"
      ]
     },
     "execution_count": 56,
     "metadata": {},
     "output_type": "execute_result"
    }
   ],
   "source": [
    "# Replace unk with UNK\n",
    "df['Weather.Condition'] = df['Weather.Condition'].replace('Unk', 'UNK')\n",
    "\n",
    "#verifying the replacement\n",
    "df['Weather.Condition'].value_counts(normalize=True) * 100"
   ]
  },
  {
   "cell_type": "markdown",
   "metadata": {},
   "source": [
    "### Analysis of Weather condition column continued\n",
    "\n",
    "From the value counts function above, VMC weather condition seems to be taking the highest percentage of about 92%. This means that the data is skewed towards VMC, hence therefore we will fill the null values with VMC\n"
   ]
  },
  {
   "cell_type": "code",
   "execution_count": 57,
   "metadata": {},
   "outputs": [],
   "source": [
    "# Fill null values in 'Total.Fatal.Injuries' column with 0\n",
    "df['Weather.Condition'].fillna('VMC', inplace=True)"
   ]
  },
  {
   "cell_type": "code",
   "execution_count": 58,
   "metadata": {},
   "outputs": [
    {
     "data": {
      "text/plain": [
       "Event.Id                   0.000000\n",
       "Investigation.Type         0.000000\n",
       "Accident.Number            0.000000\n",
       "Event.Date                 0.000000\n",
       "Location                   0.000000\n",
       "Country                    0.000000\n",
       "Injury.Severity            0.000000\n",
       "Aircraft.damage            0.000000\n",
       "Registration.Number        0.000000\n",
       "Make                       0.000000\n",
       "Model                      0.000000\n",
       "Amateur.Built              0.000000\n",
       "Number.of.Engines          0.000000\n",
       "Engine.Type                0.000000\n",
       "Purpose.of.flight          0.000000\n",
       "Total.Fatal.Injuries       0.000000\n",
       "Total.Serious.Injuries     0.000000\n",
       "Total.Minor.Injuries       0.000000\n",
       "Total.Uninjured            0.000000\n",
       "Weather.Condition          0.000000\n",
       "Broad.phase.of.flight     29.605052\n",
       "Report.Status              7.249117\n",
       "Publication.Date          15.449503\n",
       "dtype: float64"
      ]
     },
     "execution_count": 58,
     "metadata": {},
     "output_type": "execute_result"
    }
   ],
   "source": [
    "#Verifying null values have been replaced\n",
    "df.isna().sum()/ len(df) * 100"
   ]
  },
  {
   "cell_type": "markdown",
   "metadata": {},
   "source": [
    "##  Broad.phase.of.flight column\n",
    "\n",
    "Next we will move to the `Broad.phase.of.flight` column. \n",
    "\n",
    "The column has 28.4% missing value percentage. Let's look at how the data is categorized in the column\n"
   ]
  },
  {
   "cell_type": "code",
   "execution_count": 59,
   "metadata": {},
   "outputs": [
    {
     "data": {
      "text/plain": [
       "Landing        25.033783\n",
       "Takeoff        20.229238\n",
       "Cruise         16.626235\n",
       "Maneuvering    13.210465\n",
       "Approach       10.608749\n",
       "Climb           3.287149\n",
       "Taxi            3.165041\n",
       "Descent         3.051074\n",
       "Go-around       2.199573\n",
       "Standing        1.520653\n",
       "Unknown         0.874294\n",
       "Other           0.193745\n",
       "Name: Broad.phase.of.flight, dtype: float64"
      ]
     },
     "execution_count": 59,
     "metadata": {},
     "output_type": "execute_result"
    }
   ],
   "source": [
    "#Get distribution of data in the column\n",
    "phase_flight_percentage = df['Broad.phase.of.flight'].value_counts(normalize=True) * 100\n",
    "phase_flight_percentage"
   ]
  },
  {
   "cell_type": "markdown",
   "metadata": {},
   "source": [
    "### Analysis of Broad.phase.of.flight column\n",
    "The data contained in this column does not help in objectively answering the question at hand therefore I have decided to drop the column altogether\n"
   ]
  },
  {
   "cell_type": "code",
   "execution_count": 60,
   "metadata": {},
   "outputs": [
    {
     "data": {
      "text/plain": [
       "Event.Id                   0.000000\n",
       "Investigation.Type         0.000000\n",
       "Accident.Number            0.000000\n",
       "Event.Date                 0.000000\n",
       "Location                   0.000000\n",
       "Country                    0.000000\n",
       "Injury.Severity            0.000000\n",
       "Aircraft.damage            0.000000\n",
       "Registration.Number        0.000000\n",
       "Make                       0.000000\n",
       "Model                      0.000000\n",
       "Amateur.Built              0.000000\n",
       "Number.of.Engines          0.000000\n",
       "Engine.Type                0.000000\n",
       "Purpose.of.flight          0.000000\n",
       "Total.Fatal.Injuries       0.000000\n",
       "Total.Serious.Injuries     0.000000\n",
       "Total.Minor.Injuries       0.000000\n",
       "Total.Uninjured            0.000000\n",
       "Weather.Condition          0.000000\n",
       "Report.Status              7.249117\n",
       "Publication.Date          15.449503\n",
       "dtype: float64"
      ]
     },
     "execution_count": 60,
     "metadata": {},
     "output_type": "execute_result"
    }
   ],
   "source": [
    "#Dropping Broad.phase.of.flight column\n",
    "df.drop(columns=['Broad.phase.of.flight'], inplace=True)\n",
    "\n",
    "#Verifying the result\n",
    "df.isna().sum()/ len(df) * 100"
   ]
  },
  {
   "cell_type": "markdown",
   "metadata": {},
   "source": [
    "##  Report.Status column\n",
    "\n",
    "Next we will move to the `Report.Status` column. \n",
    "\n",
    "The column has 5.7% missing value percentage. Let's look at how the data is categorized in the column"
   ]
  },
  {
   "cell_type": "code",
   "execution_count": 61,
   "metadata": {},
   "outputs": [
    {
     "data": {
      "text/plain": [
       "Probable Cause                                                                                                                                                                               75.933866\n",
       "Foreign                                                                                                                                                                                       0.910697\n",
       "<br /><br />                                                                                                                                                                                  0.206359\n",
       "Factual                                                                                                                                                                                       0.176702\n",
       "The pilot's failure to maintain directional control during the landing roll.                                                                                                                  0.069198\n",
       "                                                                                                                                                                                               ...    \n",
       "An in-flight encounter with lightning. Contributing to the incident was the damaged and displaced tailcone bulkhead frame that inhibited the full travel of the elevator during approach.     0.001236\n",
       "The pilot's failure to maintain directional control during landing.  Contributing to the accident were the wind gust and tailwind.                                                            0.001236\n",
       "The pilot's failure to maintain clearance from a tree during the landing roll.                                                                                                                0.001236\n",
       "The failure of the right hydraulic main gear down-lock actuator hose in flight.                                                                                                               0.001236\n",
       "The private pilot's incorrect manipulation of the engine mixture control which resulted in an inadvertent engine shutdown.                                                                    0.001236\n",
       "Name: Report.Status, Length: 17062, dtype: float64"
      ]
     },
     "execution_count": 61,
     "metadata": {},
     "output_type": "execute_result"
    }
   ],
   "source": [
    "#Get distribution of data in the column\n",
    "report_status_percentage = df['Report.Status'].value_counts(normalize=True) * 100\n",
    "report_status_percentage"
   ]
  },
  {
   "cell_type": "markdown",
   "metadata": {},
   "source": [
    "### Analysis of Report.Status column\n",
    "\n",
    "From the above distribution we can see there are about 16603 unique categorizations of the report status but the most common data recorded was `Probable Cause` occupying a percentage of about 76.0%. Since the data is already skewed towards this value, I will replace the null values with the value `Probable Cause`\n"
   ]
  },
  {
   "cell_type": "code",
   "execution_count": 62,
   "metadata": {},
   "outputs": [
    {
     "data": {
      "text/plain": [
       "Event.Id                   0.000000\n",
       "Investigation.Type         0.000000\n",
       "Accident.Number            0.000000\n",
       "Event.Date                 0.000000\n",
       "Location                   0.000000\n",
       "Country                    0.000000\n",
       "Injury.Severity            0.000000\n",
       "Aircraft.damage            0.000000\n",
       "Registration.Number        0.000000\n",
       "Make                       0.000000\n",
       "Model                      0.000000\n",
       "Amateur.Built              0.000000\n",
       "Number.of.Engines          0.000000\n",
       "Engine.Type                0.000000\n",
       "Purpose.of.flight          0.000000\n",
       "Total.Fatal.Injuries       0.000000\n",
       "Total.Serious.Injuries     0.000000\n",
       "Total.Minor.Injuries       0.000000\n",
       "Total.Uninjured            0.000000\n",
       "Weather.Condition          0.000000\n",
       "Report.Status              0.000000\n",
       "Publication.Date          15.449503\n",
       "dtype: float64"
      ]
     },
     "execution_count": 62,
     "metadata": {},
     "output_type": "execute_result"
    }
   ],
   "source": [
    "# Fill null values in 'Report.Status' column with Probable Cause\n",
    "df['Report.Status'].fillna('Probable Cause', inplace=True)\n",
    "\n",
    "#Verifying the result\n",
    "df.isna().sum()/ len(df) * 100"
   ]
  },
  {
   "cell_type": "markdown",
   "metadata": {},
   "source": [
    "##  Publication.Date column\n",
    "\n",
    "Finally in our data clean up, we will go to the `Publication.Date` column. \n",
    "\n",
    "From the description, the column seems to have dates when the events were published, I will drop this column since it does not objectively help us answer the problem statement"
   ]
  },
  {
   "cell_type": "code",
   "execution_count": 63,
   "metadata": {},
   "outputs": [
    {
     "data": {
      "text/plain": [
       "Event.Id                  0.0\n",
       "Investigation.Type        0.0\n",
       "Accident.Number           0.0\n",
       "Event.Date                0.0\n",
       "Location                  0.0\n",
       "Country                   0.0\n",
       "Injury.Severity           0.0\n",
       "Aircraft.damage           0.0\n",
       "Registration.Number       0.0\n",
       "Make                      0.0\n",
       "Model                     0.0\n",
       "Amateur.Built             0.0\n",
       "Number.of.Engines         0.0\n",
       "Engine.Type               0.0\n",
       "Purpose.of.flight         0.0\n",
       "Total.Fatal.Injuries      0.0\n",
       "Total.Serious.Injuries    0.0\n",
       "Total.Minor.Injuries      0.0\n",
       "Total.Uninjured           0.0\n",
       "Weather.Condition         0.0\n",
       "Report.Status             0.0\n",
       "dtype: float64"
      ]
     },
     "execution_count": 63,
     "metadata": {},
     "output_type": "execute_result"
    }
   ],
   "source": [
    "#Dropping Publication.Date Column\n",
    "df.drop(columns=['Publication.Date'], inplace=True)\n",
    "\n",
    "#Verifying the result\n",
    "df.isna().sum()/ len(df) * 100"
   ]
  },
  {
   "cell_type": "markdown",
   "metadata": {},
   "source": [
    "## Identifying the useful columns \n",
    "\n",
    "In order to answer the question above we will need to identify columns that will help us determine which aircraft are the lowest risk for the company to start this new business endeavor.The columns are \n",
    "\n",
    "* Injury.Severity \n",
    "* Aircraft.damage\n",
    "* Make\n",
    "* Model\n",
    "* Amateur.Built\n",
    "* Number.of.Engines\n",
    "* Engine.Type \n",
    "* Purpose.of.flight\n",
    "* Total.Fatal.Injuries\n",
    "* Total.Serious.Injuries\n",
    "* Total.Uninjured\n",
    "\n",
    "The first set of columns we will look at is `Injury Severity` vs `Make of Plane`"
   ]
  },
  {
   "cell_type": "markdown",
   "metadata": {},
   "source": [
    "## Injury Severity vs Make \n",
    "\n",
    "We will group the data by these two columns to find the distribution of the Make againist the injury severity reported"
   ]
  },
  {
   "cell_type": "code",
   "execution_count": 64,
   "metadata": {},
   "outputs": [
    {
     "name": "stdout",
     "output_type": "stream",
     "text": [
      "     Injury.Severity                      Make  Count\n",
      "0              Fatal  107.5 Flying Corporation      1\n",
      "1              Fatal                1st Ftr Gp      1\n",
      "2              Fatal                2000 Mccoy      1\n",
      "3              Fatal                    3XTRIM      1\n",
      "4              Fatal                85 Manista      1\n",
      "...              ...                       ...    ...\n",
      "9377     Unavailable                    Cessna      3\n",
      "9378     Unavailable              Hiller-soloy      1\n",
      "9379     Unavailable                    Hughes      1\n",
      "9380     Unavailable         Mcdonnell Douglas      3\n",
      "9381     Unavailable                     Piper      4\n",
      "\n",
      "[9382 rows x 3 columns]\n"
     ]
    }
   ],
   "source": [
    "# Group by Injury.Severity and Make\n",
    "injury_make_summary = df.groupby(['Injury.Severity', 'Make']).size().reset_index(name='Count')\n",
    "\n",
    "# Display the result\n",
    "print(injury_make_summary)"
   ]
  },
  {
   "cell_type": "markdown",
   "metadata": {},
   "source": [
    "### Injury Severity vs Make \n",
    "\n",
    "From the results above we see that there over 9392 rows, therefore we will only classify the top 10 makes whose distribution was Non-Fatal. "
   ]
  },
  {
   "cell_type": "code",
   "execution_count": 65,
   "metadata": {},
   "outputs": [
    {
     "name": "stdout",
     "output_type": "stream",
     "text": [
      "       Make  Count\n",
      "0    Cessna  22084\n",
      "1     Piper  11434\n",
      "2     Beech   3607\n",
      "3      Bell   1981\n",
      "4    Boeing   1839\n",
      "5   Grumman    967\n",
      "6    Mooney    772\n",
      "7  Robinson    725\n",
      "8  Bellanca    692\n",
      "9    Hughes    676\n"
     ]
    }
   ],
   "source": [
    "# Filter non-fatal injuries\n",
    "fatal_injuries = injury_make_summary[injury_make_summary['Injury.Severity'] == 'Non-Fatal']\n",
    "\n",
    "# Aggregate and get the top 10 makes with the highest non-fatal injuries\n",
    "top_10_non_fatal_injuries = (\n",
    "    fatal_injuries.groupby('Make')['Count']\n",
    "    .sum()\n",
    "    .nlargest(10)\n",
    "    .reset_index()\n",
    ")\n",
    "\n",
    "# Display the results\n",
    "print(top_10_non_fatal_injuries)"
   ]
  },
  {
   "cell_type": "code",
   "execution_count": 66,
   "metadata": {},
   "outputs": [
    {
     "data": {
      "image/png": "[encoded data removed]",
      "text/plain": [
       "<Figure size 864x576 with 1 Axes>"
      ]
     },
     "metadata": {
      "needs_background": "light"
     },
     "output_type": "display_data"
    }
   ],
   "source": [
    "# Filter for non-fatal injuries\n",
    "non_fatal_injuries = injury_make_summary[injury_make_summary['Injury.Severity'] == 'Non-Fatal']\n",
    "\n",
    "# Aggregate total non-fatal injuries by 'Make'\n",
    "top_non_fatal_injuries = (\n",
    "    non_fatal_injuries.groupby('Make')['Count']\n",
    "    .sum()\n",
    "    .nlargest(10)\n",
    "    .reset_index()\n",
    ")\n",
    "\n",
    "# Plot histogram\n",
    "plt.figure(figsize=(12, 8))\n",
    "plt.bar(top_non_fatal_injuries['Make'], top_non_fatal_injuries['Count'], color='lightgreen', edgecolor='black')\n",
    "\n",
    "# Add plot details\n",
    "plt.title('Top 10 Aircraft Makes by Non-Fatal Injuries', fontsize=16)\n",
    "plt.xlabel('Aircraft Make', fontsize=14)\n",
    "plt.ylabel('Count of Non-Fatal Injuries', fontsize=14)\n",
    "plt.xticks(rotation=45)\n",
    "plt.grid(axis='y', alpha=0.5)\n",
    "plt.tight_layout()\n",
    "plt.show()"
   ]
  },
  {
   "cell_type": "markdown",
   "metadata": {},
   "source": [
    "### Injury Severity vs Make Continued\n",
    "\n",
    "From the data above we can see the top 10 makes that had the highest number of non-fatal injuries. We will proceed to look at the top 10 Makes with Fatal crashes"
   ]
  },
  {
   "cell_type": "code",
   "execution_count": 67,
   "metadata": {},
   "outputs": [
    {
     "name": "stdout",
     "output_type": "stream",
     "text": [
      "       Make  Count\n",
      "0    Cessna   4427\n",
      "1     Piper   3107\n",
      "2     Beech   1521\n",
      "3      Bell    509\n",
      "4    Mooney    297\n",
      "5  Bellanca    188\n",
      "6  ROBINSON    157\n",
      "7  Robinson    142\n",
      "8    Boeing    119\n",
      "9   Grumman    109\n"
     ]
    }
   ],
   "source": [
    "# Filter non-fatal injuries\n",
    "fatal_injuries = injury_make_summary[injury_make_summary['Injury.Severity'] == 'Fatal']\n",
    "\n",
    "# Aggregate and get the top 10 makes with the highest non-fatal injuries\n",
    "top_10_non_fatal_injuries = (\n",
    "    fatal_injuries.groupby('Make')['Count']\n",
    "    .sum()\n",
    "    .nlargest(10)\n",
    "    .reset_index()\n",
    ")\n",
    "\n",
    "# Display the results\n",
    "print(top_10_non_fatal_injuries)"
   ]
  },
  {
   "cell_type": "code",
   "execution_count": 79,
   "metadata": {},
   "outputs": [
    {
     "data": {
      "image/png": "[encoded data removed]",
      "text/plain": [
       "<Figure size 864x576 with 1 Axes>"
      ]
     },
     "metadata": {
      "needs_background": "light"
     },
     "output_type": "display_data"
    }
   ],
   "source": [
    "# Aggregate total fatal injuries by 'Make' and filter top 10 makes\n",
    "top_makes = fatal_injuries.groupby('Make')['Count'].sum().nlargest(10).reset_index()\n",
    "\n",
    "# Plot histogram\n",
    "plt.figure(figsize=(12, 8))\n",
    "plt.bar(top_makes['Make'], top_makes['Count'], color='red', edgecolor='black')\n",
    "\n",
    "# Add plot details\n",
    "plt.title('Top 10 Aircraft Makes by Fatal Injuries', fontsize=16)\n",
    "plt.xlabel('Aircraft Make', fontsize=14)\n",
    "plt.ylabel('Count of Fatal Injuries', fontsize=14)\n",
    "plt.xticks(rotation=45)\n",
    "plt.grid(axis='y', alpha=0.5)\n",
    "plt.tight_layout()\n",
    "plt.show()"
   ]
  },
  {
   "cell_type": "markdown",
   "metadata": {},
   "source": [
    "#### Normalizing the data\n",
    "\n",
    "From the data above we can see some makes appear top as `fatal` and `non-fatal`. This will appear to not make sense at the moment but it could probaly mean that it was the most commonly used aircraft make hence the high number of fatal and non-fatal occurences. We normalize the data by getting all occurences of the of the make recorded againist non-fatal injuries then we will also do the same for fatal injuries"
   ]
  },
  {
   "cell_type": "code",
   "execution_count": 69,
   "metadata": {},
   "outputs": [
    {
     "name": "stdout",
     "output_type": "stream",
     "text": [
      "       Make  Non_Fatal_Injuries  Total_Incidents  Normalized_Injury_Rate\n",
      "0    Cessna               22084            26827                0.823201\n",
      "1     Piper               11434            14728                0.776344\n",
      "2     Beech                3607             5291                0.681724\n",
      "3      Bell                1981             2545                0.778389\n",
      "4    Boeing                1839             2471                0.744233\n",
      "5   Grumman                 967             1089                0.887971\n",
      "6    Mooney                 772             1086                0.710866\n",
      "7  Robinson                 725              870                0.833333\n",
      "8  Bellanca                 692              883                0.783692\n",
      "9    Hughes                 676              776                0.871134\n"
     ]
    }
   ],
   "source": [
    "# Get total incidents per Make\n",
    "total_incidents_per_make = df.groupby('Make')['Event.Id'].count()\n",
    "\n",
    "# Convert the top non-fatal injuries list into a DataFrame\n",
    "top_non_fatal_injuries_df = pd.DataFrame({\n",
    "    'Make': ['Cessna', 'Piper', 'Beech', 'Bell', 'Boeing', 'Grumman', 'Mooney', 'Robinson', 'Bellanca','Hughes'],\n",
    "    'Non_Fatal_Injuries': [22084, 11434, 3607, 1981, 1839, 967, 772, 725, 692,676]\n",
    "})\n",
    "\n",
    "# Merge with total incidents to calculate the normalized injury rate\n",
    "top_non_fatal_injuries_df['Total_Incidents'] = top_non_fatal_injuries_df['Make'].map(total_incidents_per_make)\n",
    "top_non_fatal_injuries_df['Normalized_Injury_Rate'] = (\n",
    "    top_non_fatal_injuries_df['Non_Fatal_Injuries'] / top_non_fatal_injuries_df['Total_Incidents']\n",
    ")\n",
    "\n",
    "# Display the normalized table\n",
    "print(top_non_fatal_injuries_df)\n",
    "\n",
    "\n"
   ]
  },
  {
   "cell_type": "code",
   "execution_count": 77,
   "metadata": {},
   "outputs": [
    {
     "name": "stdout",
     "output_type": "stream",
     "text": [
      "       Make  Fatal_Injuries  Total_Incidents  Normalized_Fatal_Injury_Rate\n",
      "0    Cessna            4427            26827                      0.165020\n",
      "1     Piper            3107            14728                      0.210959\n",
      "2     Beech            1192             5291                      0.225288\n",
      "3      Bell             341             2545                      0.133988\n",
      "4    Boeing             329             2471                      0.133144\n",
      "5    Mooney             297             1086                      0.273481\n",
      "6  Bellanca             188              883                      0.212911\n",
      "7  ROBINSON             157              283                      0.554770\n",
      "8  Robinson             142              870                      0.163218\n"
     ]
    }
   ],
   "source": [
    "# Data for the top 10 fatal injuries\n",
    "top_fatal_injuries_df = pd.DataFrame({\n",
    "    'Make': ['Cessna', 'Piper', 'Beech', 'Bell', 'Boeing', 'Mooney', 'Bellanca', 'ROBINSON', 'Robinson'],\n",
    "    'Fatal_Injuries': [4427, 3107, 1192, 341, 329, 297, 188, 157, 142]\n",
    "})\n",
    "\n",
    "# Calculate total incidents per make\n",
    "total_incidents_per_make = df.groupby('Make')['Event.Id'].count()\n",
    "\n",
    "# Map the total incidents to the fatal injuries DataFrame\n",
    "top_fatal_injuries_df['Total_Incidents'] = top_fatal_injuries_df['Make'].map(total_incidents_per_make)\n",
    "\n",
    "# Calculate normalized fatal injury rate\n",
    "top_fatal_injuries_df['Normalized_Fatal_Injury_Rate'] = (\n",
    "    top_fatal_injuries_df['Fatal_Injuries'] / top_fatal_injuries_df['Total_Incidents']\n",
    ")\n",
    "\n",
    "# Display the results\n",
    "print(top_fatal_injuries_df)"
   ]
  },
  {
   "cell_type": "markdown",
   "metadata": {},
   "source": [
    "#### Understanding the normalized data\n",
    "\n",
    "From the normalized data above we can Cessna had the highest non-fatal incidents percentage wise despite having the highest incidents reported and also the lowest fatality rate among the incidents recorded. We will proceed and pick Cessna based on this information and try get a deeper dive on which models of cessna had the highest fatality and non-fatality rate.\n"
   ]
  },
  {
   "cell_type": "markdown",
   "metadata": {},
   "source": [
    "## Understanding Makes under Cessna\n",
    "Now since we have established that cessna has the best injury severity categorization, we will go ahead and establish which is the best cessna model by looking at which had the best injury severity. \n",
    " \n",
    "The following steps will be carried ou\n",
    "* Get unique value of models that are cessna\n",
    "* Get distribution of the different models \n",
    "* Get top 10 fatal incidents of the makes and plot a graphical representation\n",
    "* Get top 10 non-fatal incidents of the makes and plot a graphical representation\n",
    "* Interpret data\n"
   ]
  },
  {
   "cell_type": "code",
   "execution_count": 71,
   "metadata": {},
   "outputs": [
    {
     "name": "stdout",
     "output_type": "stream",
     "text": [
      "Unique Cessna Models:\n",
      "['172M' '501' '180' '140' '401B' 'R172K' '172' '152' '150L' '414A' '210L'\n",
      " '182' 'T337G' 'TR182' 'A185F' '340' '210' 'TU206G' '172N' 'P210N'\n",
      " '305 (L-19)' '182A' 'TU206F' 'U206' '210N' '310L' '414' 'T210N' '310'\n",
      " '150M' '182P' '150' '180E' '170B' '180K' '177B' '177RG' '182E' '150H'\n",
      " '340A' '182N' '402A' '207' '172RG' '177' '182M' '152II' 'A188B' '172H'\n",
      " '182L' '172P' 'P206' '150G' 'U206G' '150J' 'T210L' '182H' '182B' 'C-172'\n",
      " '310R' '402B' '185' '172K' '421B' '401' '421' '310D' '152(II)' '172A'\n",
      " 'P206B' '404' '172L' '182Q' '421C' '210A' '310Q' '182C' '170' '320C'\n",
      " 'T210M' 'T21OL' '140A' 'A152' '182RG' '310K' 'P337H' 'T188C' '210D'\n",
      " 'U-206' 'T337C' '172G' '182J' '210G' '120' '210M' 'T210G' '402C' '180J'\n",
      " '172F' '310B' 'T182RG' '175' '150F' '182K' 'A185E' '206-F' '205' '320F'\n",
      " '206' '170A' '210-5' '182G' '411' '150K' 'A150M' '320A' '172D' '172E'\n",
      " '411A' '210B' '175A' 'A150' 'A188' 'TU-206A' '188B' '195' 'A150L' '172C'\n",
      " '180C' '185A' '188A' '188' '172B' 'R182' '182QII' 'T337B' '172XP' '180D'\n",
      " '182F' 'T210F' '320D' 'TP206A' '500' '185E' '206-5' '210-5(205)' 'T303'\n",
      " '185F' '337' '310P' '337B' 'A-152' '172P ROBERTSON STOL' '320B' '150A'\n",
      " 'T310P' '310I' '305A' 'P-210N' '150D' 'R172E' 'T-210L' 'T337H' '210K'\n",
      " '206G' 'T21OM' '180A' '310C' 'U206B' 'T207' '195A' '180H' '210J' '337D'\n",
      " '336' '152-II' 'A188A' '150-J' '152A' '190' '401A' '182R' '206B' 'T207A'\n",
      " 'TU206' '180G' '183P' 'T310R' 'U206F' '188T' '402' '310A' '207A' 'TRI82'\n",
      " '150B' '31' '150C' '205A' 'C-180J' 'U206A' '501SP' 'C-207' 'U206 G'\n",
      " 'A185' '421A' 'TR-182' '180K II' '172PII' '320E' '337G' '210E' '182D'\n",
      " '180B' 'T210' '310H' 'T337D' 'C152' '551' 'T-337C' '172J' 'P210' '195B'\n",
      " '172 RG' '177A' '550' '310F' 'T-210' 'C-182P' 'C-152' 'P-206C' '210H'\n",
      " 'C-150L' 'U2061' 'C-337C' 'T-41B (R-172E)' '210C' 'C-207A' '182 RG'\n",
      " '172 PII' '152B' '172 I' '182RII' 'TU-206' '210F' 'C-185F' 'CE-500'\n",
      " 'A-188B' 'C-172N' 'C-140' 'C-172-N' 'C-150H' '441' '172-I' '185-E' '206A'\n",
      " 'T-210N' 'C-180' 'C-188' '182-M' '185 FII' '172I' '210 NII' 'A150K'\n",
      " 'TU-206G' 'C170A' '182Q II' '337A' '305E' '188-B' 'C140' '150E'\n",
      " 'TR182RG II' 'U206E' 'TR 182' 'C-180D' '172 N' '177RGII' 'T188L' 'C-206'\n",
      " '17OA' 'A 152' 'P21O' 'T-207A' 'C-182J' '185 SKYWAGON' 'A-185F' 'C-177RG'\n",
      " 'C-402B' 'P206C' 'C-114A' '310J' 'U-206FG' '185B' 'C175A' 'C172M'\n",
      " 'TU206-G' 'C-150' 'T-210-J' '175B' '320Q' 'C-185E' '210-5 (205)'\n",
      " 'C-152-II' '152 II' 'T337E' 'A150K AEROBAT' 'TU206E' '304A' '182-RG'\n",
      " '21ON' 'C172N' 'A 188 A' 'C-185A' '425' 'P206A' '182P-SYLANE' 'C-172M'\n",
      " 'C-185-D' 'C-185' 'A-185F II' 'CE500' '310G' 'C-172P' '172 RGII'\n",
      " '182RG II' 'C-303' 'T-188' '172RGII' '185C' 'C-150K' 'C-172F' '172Q'\n",
      " '172 M' 'C172' '150-K' '310N' 'C-177B' '337E' '172 E' '180-A' 'L-19E'\n",
      " '320' 'C188' 'TP206D' 'C150' '305C' 'U-206-GII' 'C190' '182R II' 'T-206'\n",
      " '50M' '172NII' 'TU206C' '182G-460' '150K AEROBAT' '335' '182-C' 'C305A'\n",
      " '310II' '210N II' 'P172D' 'T210J' 'C-150M' 'C182' 'A185F-II' 'T-207'\n",
      " 'T206' 'R-182' 'CITATION 550' 'R172' 'T210-H' 'U-206C' '414-8' 'TR182RG'\n",
      " 'C337' 'T-210G' '402B TS' 'C-402' 'C207' '182-F' 'T-188C' '172-N-II'\n",
      " 'T210R' 'L-19' '172 P' 'T-210-NII' 'A152AEROBAT' '180-L' 'C172P'\n",
      " 'TU-206E' 'A-188-B' 'R-172-K' '31OQ' 'R-182RG' '182-R' '210MII' '172-RG'\n",
      " 'P206D' '172P II' 'T210-L' 'C-182' 'C-182K' 'L-188' 'R182RG' 'C-305A'\n",
      " 'T210-M' '150-L' '180F' '180-J' '177BII' '172R' 'C-170A' '208' 'C-377A'\n",
      " 'C206' 'C-182N' '305A(0-1A)' 'T210NII' '182P II' '404 II' 'P210R' '337F'\n",
      " '150-M' '305-L-19' '340R' 'T-210M' '182-A' '303' 'U206C' '170-B' '172-G'\n",
      " 'C-152T' '172MM' '188-A' '210P' 'T210C' 'U-206B' '172-RG II' '180-H'\n",
      " 'C-310R' 'T337HPII' '206T' '150-H' 'T188' '305/L-19' 'T-188-C' 'T210H'\n",
      " '305' 'U-206G' 'A150N' '185FII' '185-F' '182U' 'A-185E' 'P206-B' 'TU206A'\n",
      " 'P337' 'P-210' 'A-37A' '185-F II' '165' '33TC' '177XP' '185D' 'T310Q'\n",
      " '201A' '402 S/N 402B1031' '310-D' 'T182' 'C-180-H' '152C' '172-M' 'T210K'\n",
      " 'T206F' 'TU206-F' 'P210N II' 'TU206B' 'P206 S/N P206-0009' '172-N'\n",
      " 'TU206D' '188C' '208B' '205C' '175C' '150/HORTON STOL' 'TU-206F' '650'\n",
      " 'U206G II' '172PC' '208A' '337C' 'R182RG II' 'T-337H' '305A (L-19)'\n",
      " '305-A' 'CE-206' 'S550' '320-F' 'TR-182RG' '206F' 'TU-206-G' '310RII'\n",
      " '182TD' 'TP206B' '152F' 'A185H' 'A-185-F' 'TR182 II' '310E' 'C182Q'\n",
      " '210T' '150 L' '206D' '175K' '337H' '207-A' 'T-337D' 'C172R' 'T-337G-P'\n",
      " 'T172N' '145' '552' '172N II' '210-M' 'T50-A17' 'CITATION SII' 'CE-172P'\n",
      " '182-K' '421-C' '172-K' 'O337F' 'C-180E' 'C152 II' 'C205' '206U' '185-A'\n",
      " 'T 188C' 'C182A' 'C177B' '340-A' 'C-152A' 'C-T210' 'T-210-L' 'T-210-M'\n",
      " '177-A' '172-P' 'A-188' 'T303A' 'T210-F' '182-E' '152U' 'A185-F' 'C-170B'\n",
      " 'T-337-D' 'C-182A' 'C-U206B' 'C-A150L' 'T37B' 'C175' 'C182R' '402-C'\n",
      " '188/B' '172RG/A' 'C-T210N' 'A188D' 'U206-G' 'C-210L' 'C-340A' 'C-210'\n",
      " 'C-310B' 'C-172G' '180L' 'C-152 II' '337A-RG' 'T21OR' 'C-210G' '336A'\n",
      " '182-D' '150 II' '310-L' 'C-A185F' '172-H' '310-R' 'U206-F' 'F172' '310M'\n",
      " '182BTW' 'AT188B' '150-F' 'L-19A' 'U206D' '310R-II' 'TP206' 'CE-550'\n",
      " '305B' '152L' 'O-2A' 'CE-180' 'T-337E' '182-P' 'T-210J' 'T210N II'\n",
      " '210-5A' 'C 182' 'T-337-B' 'CE-421C' '206E' 'K172R' '195 B' '172-F' '525'\n",
      " '188D' '182S' 'TC206G' '180R' '182TR' '560' 'C340' 'C441' '188-230'\n",
      " 'T-310P' '21OK' '337T' 'T-210-N' 'U-206E' 'FR-172J' 'C-182E' 'U-206F'\n",
      " 'T-50' 'C-336' 'C-182Q' 'C-172R' '15OF' '206H' 'T-337 G-P' 'A188-B'\n",
      " 'R172-E' 'TU 206G' '175-235' 'U-3A' '172S' 'C-140A' 'CE-560' 'C-T188C'\n",
      " 'C310R' '560 XL' '340X' '172-B' '172SP' '172 F' 'CitationJET (525)'\n",
      " '182 P' 'T206H' '150 G' 'R172-K' '182T' '172-A' 'T-210F'\n",
      " '414 Riley Super-8' 'C-210N' '525A' 'Citation C-750' '152M' 'TU 206F'\n",
      " '182 E' 'CE-182-A' 'C180A' '182-Q' 'T182T' 'T210 L' 'M337B (O-2A)'\n",
      " '180 B' '180 A' 'FA150K' 'TU206 G' 'T207 A' '177-RG' '320-D' '402 B'\n",
      " 'Citation 525' 'C-170' '180 H' '560XL' '310-H' '172-SP' 'C195A' '150-G'\n",
      " '305 A' '750' 'C-150J' '340A-RAM VI' 'T-37B' '421C Riley Turbine E'\n",
      " '310-J' 'T-41B' '337 B' '152TW' '206C' '172 K' '172-S' 'C172F'\n",
      " 'Citation 650' 'S-550' 'C-37' 'C-172S' '0-1A' 'T-R182RG' '172 S' 'C172S'\n",
      " 'R172E (T-41C)' 'C340A' 'Citation 560' 'R172K II' '180M' 'C210P'\n",
      " 'CE-180-A' 'C-425' '402-B' 'C-150G' 'U206-C' 'Ector 305A' 'C-177' '305-C'\n",
      " '170 B' '210 D' '172 Skyhawk' '172 SP' 'Turbo Centurion T210' 'C208B'\n",
      " 'Skyhawk 172' 'Citation 510' 'C208B Caravan' 'C-172RG' '525B' '152K'\n",
      " '510' 'C-310Q' 'CE-172M' 'CE-152' '350' 'C-195' 'E162' '680' 'T337'\n",
      " '305F' '177 RG' 'LC-126C' '400' 'F172N' 'C185F' '550B' 'M337B' 'F150'\n",
      " 'LC42-550FG' 'F-150' '560 - XL' '162' 'LC41-550FG' '210 - N' '172 - N'\n",
      " 'CESSNA 525B' '305 - E' '206 - H' 'U206 - G' '180 - B' '182 - R'\n",
      " '421 - C' '172 - F' '172 - M' 'T210 - H' '182 - Q' 'TU206 - G' 'T210 - F'\n",
      " '305C (0 1E)' '170 - B' '150 - G' '205 - UNDESIGNAT' 'O1 - A' 'O 1E'\n",
      " '150 - F' '525C' '172 - R' 'F182 - Q' 'L19 - A' '182 - L' '182 - P'\n",
      " '188 - UNDESIGNAT' 'F152' '172 - P' '172 - S' '210 5(205)' 'P210 - N'\n",
      " 'T207 - A' '185 - E' 'T210 - L' '172 - H' 'T182 - T' '180 - UNDESIGNAT'\n",
      " '210 5A(205A)' 'P337G' 'C421B' 'T240' 'CE-208' '152G' 'Citation 500'\n",
      " '162 LSA' 'CESSNA U 206 G' 'L19' 'T310' 'CESSNA 152' 'CESSNA R182'\n",
      " '210 5' 'LC41' 'CJ1' 'C 680' 'CESSNA 441' 'FA150' 'FR172' 'F-172'\n",
      " 'FRA150' 'F177RG' '305C (0-1E)' 'T206G']\n"
     ]
    }
   ],
   "source": [
    "# Filter the dataset to include only rows where the 'Make' is 'Cessna'\n",
    "cessna_data = df[df['Make'].str.contains('Cessna', case=False, na=False)]\n",
    "\n",
    "# Get unique values in the 'Make' column\n",
    "unique_cessna_makes = cessna_data['Model'].unique()\n",
    "\n",
    "# Display the result\n",
    "print(\"Unique Cessna Models:\")\n",
    "print(unique_cessna_makes)\n"
   ]
  },
  {
   "cell_type": "markdown",
   "metadata": {},
   "source": [
    "#### Cessna Unique models analysis\n",
    "\n",
    "From the above cell we can see there are several plane models and therefore I will only use the top 10 cessna aircraft model which have their incidents reported. I'll start off  by categorization the models by fatal injuries"
   ]
  },
  {
   "cell_type": "code",
   "execution_count": 84,
   "metadata": {},
   "outputs": [
    {
     "name": "stdout",
     "output_type": "stream",
     "text": [
      "Top 10 Cessna Models with Most Fatal Incidents:\n",
      "Model\n",
      "152     248\n",
      "172N    200\n",
      "172     200\n",
      "172M    127\n",
      "182     109\n",
      "172P    101\n",
      "150      86\n",
      "150L     80\n",
      "182P     75\n",
      "150M     66\n",
      "dtype: int64\n"
     ]
    }
   ],
   "source": [
    "#  Filter for Cessna aircraft\n",
    "cessna_data = df[df['Make'].str.contains('Cessna', case=False, na=False)]\n",
    "\n",
    "#  Filter for fatal incidents\n",
    "fatal_cessna_data = cessna_data[cessna_data['Injury.Severity'] == 'Fatal']\n",
    "\n",
    "#  Group by 'Model' and count the incidents\n",
    "fatal_cessna_model_counts = fatal_cessna_data.groupby('Model').size()\n",
    "\n",
    "#  Sort the counts in descending order and get top 10 models\n",
    "top_10_fatal_cessna_models = fatal_cessna_model_counts.sort_values(ascending=False).head(10)\n",
    "\n",
    "#  Display the result\n",
    "print(\"Top 10 Cessna Models with Most Fatal Incidents:\")\n",
    "print(top_10_fatal_cessna_models)\n"
   ]
  },
  {
   "cell_type": "code",
   "execution_count": 78,
   "metadata": {},
   "outputs": [
    {
     "data": {
      "image/png": "[encoded data removed]",
      "text/plain": [
       "<Figure size 720x432 with 1 Axes>"
      ]
     },
     "metadata": {
      "needs_background": "light"
     },
     "output_type": "display_data"
    }
   ],
   "source": [
    "# Plot the histogram \n",
    "plt.figure(figsize=(10, 6))\n",
    "top_10_fatal_cessna_models.plot(kind='bar', color='red', edgecolor='black')\n",
    "\n",
    "# Adding titles and labels\n",
    "plt.title('Top 10 Cessna Models with Fatal Injuries', fontsize=16)\n",
    "plt.xlabel('Cessna Models', fontsize=14)\n",
    "plt.ylabel('Number of Fatal Incidents', fontsize=14)\n",
    "\n",
    "# Show the plot\n",
    "plt.xticks(rotation=45, ha='right')\n",
    "plt.tight_layout()  # To avoid label overlap\n",
    "plt.show()"
   ]
  },
  {
   "cell_type": "markdown",
   "metadata": {},
   "source": [
    "#### Plotting top 10 cessna models with highest non fatal incidences"
   ]
  },
  {
   "cell_type": "code",
   "execution_count": 74,
   "metadata": {},
   "outputs": [
    {
     "name": "stdout",
     "output_type": "stream",
     "text": [
      "Top 10 Cessna Models with Most Non-Fatal Incidents:\n",
      "Model\n",
      "152     2095\n",
      "172     1528\n",
      "172N     948\n",
      "150      734\n",
      "172M     654\n",
      "172P     581\n",
      "180      571\n",
      "182      541\n",
      "150M     514\n",
      "150L     372\n",
      "dtype: int64\n"
     ]
    }
   ],
   "source": [
    "#  Filter for fatal incidents\n",
    "non_fatal_cessna_data = cessna_data[cessna_data['Injury.Severity'] == 'Non-Fatal']\n",
    "\n",
    "#  Group by 'Model' and count the incidents\n",
    "non_fatal_cessna_model_counts = non_fatal_cessna_data.groupby('Model').size()\n",
    "\n",
    "#  Sort the counts in descending order and get top 10 models\n",
    "top_10_non_fatal_cessna_models = non_fatal_cessna_model_counts.sort_values(ascending=False).head(10)\n",
    "\n",
    "#  Display the result\n",
    "print(\"Top 10 Cessna Models with Most Non-Fatal Incidents:\")\n",
    "print(top_10_non_fatal_cessna_models)"
   ]
  },
  {
   "cell_type": "code",
   "execution_count": 80,
   "metadata": {},
   "outputs": [
    {
     "data": {
      "image/png": "[encoded data removed]",
      "text/plain": [
       "<Figure size 720x432 with 1 Axes>"
      ]
     },
     "metadata": {
      "needs_background": "light"
     },
     "output_type": "display_data"
    }
   ],
   "source": [
    "# Plot the histogram \n",
    "plt.figure(figsize=(10, 6))\n",
    "top_10_non_fatal_cessna_models.plot(kind='bar', color='skyblue', edgecolor='black')\n",
    "\n",
    "# Adding titles and labels\n",
    "plt.title('Top 10 Cessna Models with Non-Fatal Injuries', fontsize=16)\n",
    "plt.xlabel('Cessna Models', fontsize=14)\n",
    "plt.ylabel('Number of Non-Fatal Incidents', fontsize=14)\n",
    "\n",
    "# Show the plot\n",
    "plt.xticks(rotation=45, ha='right')\n",
    "\n",
    "plt.show()"
   ]
  },
  {
   "cell_type": "markdown",
   "metadata": {},
   "source": [
    "### Analysis of Cessna Models\n",
    "\n",
    "From the above analysis we see that the model 152 has the highest number fatal incidents and non-fatal incidents. This means that the Cessna 152 had the highest usage of all Cessna models. We will try and normalize data to get a better understanding"
   ]
  },
  {
   "cell_type": "code",
   "execution_count": 81,
   "metadata": {},
   "outputs": [
    {
     "name": "stdout",
     "output_type": "stream",
     "text": [
      "Model\n",
      "152     2360\n",
      "172     1740\n",
      "172N    1156\n",
      "150      825\n",
      "172M     789\n",
      "172P     685\n",
      "182      652\n",
      "180      621\n",
      "150M     583\n",
      "150L     455\n",
      "dtype: int64\n"
     ]
    }
   ],
   "source": [
    "# Filter dataset for rows where Make is 'Cessna'\n",
    "cessna_data = df[df['Make'].str.contains('Cessna', case=False, na=False)]\n",
    "\n",
    "# Group by Model and count all incidents regardless of Injury Severity\n",
    "cessna_incident_counts = (\n",
    "    cessna_data\n",
    "    .groupby('Model')\n",
    "    .size()  # Count the number of occurrences for each model\n",
    "    .sort_values(ascending=False)  # Sort by total incidents\n",
    ")\n",
    "\n",
    "# Get the top 10 models by total incidents\n",
    "top_10_cessna_models = cessna_incident_counts.head(10)\n",
    "\n",
    "# Display the result\n",
    "print(top_10_cessna_models)"
   ]
  },
  {
   "cell_type": "code",
   "execution_count": 104,
   "metadata": {},
   "outputs": [
    {
     "name": "stdout",
     "output_type": "stream",
     "text": [
      "      Non-Fatal Incidents  Total Incidents Reported  Normalized Non-Fatal Incident Rate\n",
      "152                2095.0                      2360                            0.887712\n",
      "172                1528.0                      1740                            0.878161\n",
      "172N                948.0                      1156                            0.820069\n",
      "150                 734.0                       825                            0.889697\n",
      "172M                654.0                       789                            0.828897\n",
      "172P                581.0                       685                            0.848175\n",
      "182                 541.0                       652                            0.829755\n",
      "180                 571.0                       621                            0.919485\n",
      "150M                514.0                       583                            0.881647\n",
      "150L                372.0                       455                            0.817582\n"
     ]
    }
   ],
   "source": [
    "cessna_summary = pd.DataFrame({\n",
    "    'Non-Fatal Incidents': non_fatal_cessna_model_counts,\n",
    "    'Total Incidents Reported': total_incidents\n",
    "})\n",
    "\n",
    "# Calculate normalized fatal incident rate\n",
    "cessna_summary['Normalized Non-Fatal Incident Rate'] = (\n",
    "    cessna_summary['Non-Fatal Incidents'] /cessna_summary['Total Incidents Reported']\n",
    ")\n",
    "\n",
    "# Sort by Total Incidents and select the top 10\n",
    "top_10_cessna_summary = cessna_summary.sort_values('Total Incidents Reported', ascending=False).head(10)\n",
    "\n",
    "\n",
    "pd.set_option('display.expand_frame_repr', False)  # Prevent line wrapping\n",
    "\n",
    "# Display the top 10 summary\n",
    "print(top_10_cessna_summary)"
   ]
  },
  {
   "cell_type": "code",
   "execution_count": 103,
   "metadata": {},
   "outputs": [
    {
     "name": "stdout",
     "output_type": "stream",
     "text": [
      "      Fatal Incidents  Total Incidents Reported  Normalized Fatal Incident Rate\n",
      "152             248.0                      2360                        0.105085\n",
      "172             200.0                      1740                        0.114943\n",
      "172N            200.0                      1156                        0.173010\n",
      "150              86.0                       825                        0.104242\n",
      "172M            127.0                       789                        0.160963\n",
      "172P            101.0                       685                        0.147445\n",
      "182             109.0                       652                        0.167178\n",
      "180              47.0                       621                        0.075684\n",
      "150M             66.0                       583                        0.113208\n",
      "150L             80.0                       455                        0.175824\n"
     ]
    }
   ],
   "source": [
    "\n",
    "cessna_summary = pd.DataFrame({\n",
    "    'Fatal Incidents': fatal_cessna_model_counts,\n",
    "    'Total Incidents Reported': total_incidents\n",
    "}).fillna(0)  # Fill missing values with 0\n",
    "\n",
    "# Calculate normalized fatal incident rate\n",
    "cessna_summary['Normalized Fatal Incident Rate'] = (\n",
    "    cessna_summary['Fatal Incidents'] / cessna_summary['Total Incidents Reported']\n",
    ")\n",
    "\n",
    "# Sort by Total Incidents and select the top 10\n",
    "top_10_cessna_summary = cessna_summary.sort_values('Total Incidents Reported', ascending=False).head(10)\n",
    "\n",
    "# Display the top 10 summary\n",
    "print(top_10_cessna_summary)\n"
   ]
  },
  {
   "cell_type": "markdown",
   "metadata": {},
   "source": [
    "## Summary of Model versus the Injury severity\n",
    "\n",
    "From the tabular data extracted above we can see that the Cessna 152 had the best result based on injury severity column metric. I decided to go to this column because plane crashes mostly tend to be fatal hence ehy I would encourage the head of head of the new aviation division to purchase this plane. \n",
    "\n",
    "Also another reason is it had many incidents compared to other planes meaning that it was the most comoonly used plane. This could probably mean it was trusted my many people.\n",
    "\n",
    "In conclusion the Cessna was the best make and 152 was the best model of Cessna based on Injury severity"
   ]
  },
  {
   "cell_type": "code",
   "execution_count": null,
   "metadata": {},
   "outputs": [],
   "source": []
  }
 ],
 "metadata": {
  "kernelspec": {
   "display_name": "Python (learn-env)",
   "language": "python",
   "name": "learn-env"
  },
  "language_info": {
   "codemirror_mode": {
    "name": "ipython",
    "version": 3
   },
   "file_extension": ".py",
   "mimetype": "text/x-python",
   "name": "python",
   "nbconvert_exporter": "python",
   "pygments_lexer": "ipython3",
   "version": "3.8.5"
  }
 },
 "nbformat": 4,
 "nbformat_minor": 4
}
