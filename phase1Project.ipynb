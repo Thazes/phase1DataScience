{
 "cells": [
  {
   "cell_type": "markdown",
   "metadata": {},
   "source": [
    "# Phase 1 project\n",
    "\n",
    "This note book is designed to analyse data National Transportation Safety Board that includes aviation accident data from 1962 to 2023 about civil aviation accidents and selected incidents in the United States and international waters  and identify the lowest-risk aircraft for the company to purchase and operate in the commercial and private aviation sectors, providing actionable insights to guide decision-making for the new aviation division\n",
    "\n",
    "Specifically, this will cover:\n",
    "\n",
    "* Using pandas to filter data\n",
    "* Using pandas to handle missing values\n",
    "* Using matplotlib to create a graph using data from a dataframe\n",
    "\n",
    "##  Task: Analyze Airplane Data\n",
    "\n",
    "### The following questions are to be answered from the analysis of the data:\n",
    "1. Determine which aircraft are the lowest risk for the company to start this new business endeavor.\n",
    "2. Identify actionable insights to help the head of the new aviation division decide which aircraft to purchase.\n",
    "\n",
    "### Data Understanding\n",
    "\n",
    "In this repository under the file path `AviationData.csv` there is a CSV file containing information about events that occured on various aircrafts\n",
    "\n",
    "There is also `USState_Codes.csv` which contains short form identifies of various states in the United states\n",
    "\n",
    "\n",
    "\n",
    "\n",
    "### Requirements\n",
    "\n",
    "#### 1. Filter Data to Relevant Columns\n",
    "\n",
    "#### 2. Filter Data to Relevant Rows\n",
    "\n",
    "#### 3. Drop Rows with Missing Values\n",
    "\n",
    "#### 4. Identify lowest risk plane\n",
    "\n",
    "#### 5. Plot charts to support the assement above\n",
    "\n",
    "### Setup\n",
    "\n",
    "In the cell below we import the relevant libraries\n",
    "\n"
   ]
  },
  {
   "cell_type": "code",
   "execution_count": 1,
   "metadata": {},
   "outputs": [],
   "source": [
    "import pandas as pd\n",
    "import matplotlib.pyplot as plt\n",
    "import seaborn as sns\n",
    "%matplotlib inline"
   ]
  },
  {
   "cell_type": "markdown",
   "metadata": {},
   "source": [
    "## Open up the CSV file as a dataframe called `df ` \n",
    "\n",
    "In the cell below we open the `AviationData.csv` file as a df and print the first 5 rows to get an overview of the data. The data is encoded in latin and the standard `pd.read_csv('data')`command doesn't work hence the need to add\n",
    "`encoding=latin-1` arguement and setting `low_memory=False` to stop the printing of warnings"
   ]
  },
  {
   "cell_type": "code",
   "execution_count": 2,
   "metadata": {},
   "outputs": [
    {
     "data": {
      "text/html": [
       "<div>\n",
       "<style scoped>\n",
       "    .dataframe tbody tr th:only-of-type {\n",
       "        vertical-align: middle;\n",
       "    }\n",
       "\n",
       "    .dataframe tbody tr th {\n",
       "        vertical-align: top;\n",
       "    }\n",
       "\n",
       "    .dataframe thead th {\n",
       "        text-align: right;\n",
       "    }\n",
       "</style>\n",
       "<table border=\"1\" class=\"dataframe\">\n",
       "  <thead>\n",
       "    <tr style=\"text-align: right;\">\n",
       "      <th></th>\n",
       "      <th>Event.Id</th>\n",
       "      <th>Investigation.Type</th>\n",
       "      <th>Accident.Number</th>\n",
       "      <th>Event.Date</th>\n",
       "      <th>Location</th>\n",
       "      <th>Country</th>\n",
       "      <th>Latitude</th>\n",
       "      <th>Longitude</th>\n",
       "      <th>Airport.Code</th>\n",
       "      <th>Airport.Name</th>\n",
       "      <th>...</th>\n",
       "      <th>Purpose.of.flight</th>\n",
       "      <th>Air.carrier</th>\n",
       "      <th>Total.Fatal.Injuries</th>\n",
       "      <th>Total.Serious.Injuries</th>\n",
       "      <th>Total.Minor.Injuries</th>\n",
       "      <th>Total.Uninjured</th>\n",
       "      <th>Weather.Condition</th>\n",
       "      <th>Broad.phase.of.flight</th>\n",
       "      <th>Report.Status</th>\n",
       "      <th>Publication.Date</th>\n",
       "    </tr>\n",
       "  </thead>\n",
       "  <tbody>\n",
       "    <tr>\n",
       "      <th>0</th>\n",
       "      <td>20001218X45444</td>\n",
       "      <td>Accident</td>\n",
       "      <td>SEA87LA080</td>\n",
       "      <td>1948-10-24</td>\n",
       "      <td>MOOSE CREEK, ID</td>\n",
       "      <td>United States</td>\n",
       "      <td>NaN</td>\n",
       "      <td>NaN</td>\n",
       "      <td>NaN</td>\n",
       "      <td>NaN</td>\n",
       "      <td>...</td>\n",
       "      <td>Personal</td>\n",
       "      <td>NaN</td>\n",
       "      <td>2.0</td>\n",
       "      <td>0.0</td>\n",
       "      <td>0.0</td>\n",
       "      <td>0.0</td>\n",
       "      <td>UNK</td>\n",
       "      <td>Cruise</td>\n",
       "      <td>Probable Cause</td>\n",
       "      <td>NaN</td>\n",
       "    </tr>\n",
       "    <tr>\n",
       "      <th>1</th>\n",
       "      <td>20001218X45447</td>\n",
       "      <td>Accident</td>\n",
       "      <td>LAX94LA336</td>\n",
       "      <td>1962-07-19</td>\n",
       "      <td>BRIDGEPORT, CA</td>\n",
       "      <td>United States</td>\n",
       "      <td>NaN</td>\n",
       "      <td>NaN</td>\n",
       "      <td>NaN</td>\n",
       "      <td>NaN</td>\n",
       "      <td>...</td>\n",
       "      <td>Personal</td>\n",
       "      <td>NaN</td>\n",
       "      <td>4.0</td>\n",
       "      <td>0.0</td>\n",
       "      <td>0.0</td>\n",
       "      <td>0.0</td>\n",
       "      <td>UNK</td>\n",
       "      <td>Unknown</td>\n",
       "      <td>Probable Cause</td>\n",
       "      <td>19-09-1996</td>\n",
       "    </tr>\n",
       "    <tr>\n",
       "      <th>2</th>\n",
       "      <td>20061025X01555</td>\n",
       "      <td>Accident</td>\n",
       "      <td>NYC07LA005</td>\n",
       "      <td>1974-08-30</td>\n",
       "      <td>Saltville, VA</td>\n",
       "      <td>United States</td>\n",
       "      <td>36.922223</td>\n",
       "      <td>-81.878056</td>\n",
       "      <td>NaN</td>\n",
       "      <td>NaN</td>\n",
       "      <td>...</td>\n",
       "      <td>Personal</td>\n",
       "      <td>NaN</td>\n",
       "      <td>3.0</td>\n",
       "      <td>NaN</td>\n",
       "      <td>NaN</td>\n",
       "      <td>NaN</td>\n",
       "      <td>IMC</td>\n",
       "      <td>Cruise</td>\n",
       "      <td>Probable Cause</td>\n",
       "      <td>26-02-2007</td>\n",
       "    </tr>\n",
       "    <tr>\n",
       "      <th>3</th>\n",
       "      <td>20001218X45448</td>\n",
       "      <td>Accident</td>\n",
       "      <td>LAX96LA321</td>\n",
       "      <td>1977-06-19</td>\n",
       "      <td>EUREKA, CA</td>\n",
       "      <td>United States</td>\n",
       "      <td>NaN</td>\n",
       "      <td>NaN</td>\n",
       "      <td>NaN</td>\n",
       "      <td>NaN</td>\n",
       "      <td>...</td>\n",
       "      <td>Personal</td>\n",
       "      <td>NaN</td>\n",
       "      <td>2.0</td>\n",
       "      <td>0.0</td>\n",
       "      <td>0.0</td>\n",
       "      <td>0.0</td>\n",
       "      <td>IMC</td>\n",
       "      <td>Cruise</td>\n",
       "      <td>Probable Cause</td>\n",
       "      <td>12-09-2000</td>\n",
       "    </tr>\n",
       "    <tr>\n",
       "      <th>4</th>\n",
       "      <td>20041105X01764</td>\n",
       "      <td>Accident</td>\n",
       "      <td>CHI79FA064</td>\n",
       "      <td>1979-08-02</td>\n",
       "      <td>Canton, OH</td>\n",
       "      <td>United States</td>\n",
       "      <td>NaN</td>\n",
       "      <td>NaN</td>\n",
       "      <td>NaN</td>\n",
       "      <td>NaN</td>\n",
       "      <td>...</td>\n",
       "      <td>Personal</td>\n",
       "      <td>NaN</td>\n",
       "      <td>1.0</td>\n",
       "      <td>2.0</td>\n",
       "      <td>NaN</td>\n",
       "      <td>0.0</td>\n",
       "      <td>VMC</td>\n",
       "      <td>Approach</td>\n",
       "      <td>Probable Cause</td>\n",
       "      <td>16-04-1980</td>\n",
       "    </tr>\n",
       "  </tbody>\n",
       "</table>\n",
       "<p>5 rows × 31 columns</p>\n",
       "</div>"
      ],
      "text/plain": [
       "         Event.Id Investigation.Type Accident.Number  Event.Date  \\\n",
       "0  20001218X45444           Accident      SEA87LA080  1948-10-24   \n",
       "1  20001218X45447           Accident      LAX94LA336  1962-07-19   \n",
       "2  20061025X01555           Accident      NYC07LA005  1974-08-30   \n",
       "3  20001218X45448           Accident      LAX96LA321  1977-06-19   \n",
       "4  20041105X01764           Accident      CHI79FA064  1979-08-02   \n",
       "\n",
       "          Location        Country   Latitude   Longitude Airport.Code  \\\n",
       "0  MOOSE CREEK, ID  United States        NaN         NaN          NaN   \n",
       "1   BRIDGEPORT, CA  United States        NaN         NaN          NaN   \n",
       "2    Saltville, VA  United States  36.922223  -81.878056          NaN   \n",
       "3       EUREKA, CA  United States        NaN         NaN          NaN   \n",
       "4       Canton, OH  United States        NaN         NaN          NaN   \n",
       "\n",
       "  Airport.Name  ... Purpose.of.flight Air.carrier Total.Fatal.Injuries  \\\n",
       "0          NaN  ...          Personal         NaN                  2.0   \n",
       "1          NaN  ...          Personal         NaN                  4.0   \n",
       "2          NaN  ...          Personal         NaN                  3.0   \n",
       "3          NaN  ...          Personal         NaN                  2.0   \n",
       "4          NaN  ...          Personal         NaN                  1.0   \n",
       "\n",
       "  Total.Serious.Injuries Total.Minor.Injuries Total.Uninjured  \\\n",
       "0                    0.0                  0.0             0.0   \n",
       "1                    0.0                  0.0             0.0   \n",
       "2                    NaN                  NaN             NaN   \n",
       "3                    0.0                  0.0             0.0   \n",
       "4                    2.0                  NaN             0.0   \n",
       "\n",
       "  Weather.Condition  Broad.phase.of.flight   Report.Status Publication.Date  \n",
       "0               UNK                 Cruise  Probable Cause              NaN  \n",
       "1               UNK                Unknown  Probable Cause       19-09-1996  \n",
       "2               IMC                 Cruise  Probable Cause       26-02-2007  \n",
       "3               IMC                 Cruise  Probable Cause       12-09-2000  \n",
       "4               VMC               Approach  Probable Cause       16-04-1980  \n",
       "\n",
       "[5 rows x 31 columns]"
      ]
     },
     "execution_count": 2,
     "metadata": {},
     "output_type": "execute_result"
    }
   ],
   "source": [
    "df=pd.read_csv('AviationData.csv',encoding='latin-1',low_memory=False)\n",
    "df.head()"
   ]
  },
  {
   "cell_type": "markdown",
   "metadata": {},
   "source": [
    "## Identify information about the data set\n",
    "In the cells below we identify information about the dataset such number of columns and rows and datatypes represented by each column"
   ]
  },
  {
   "cell_type": "code",
   "execution_count": 3,
   "metadata": {},
   "outputs": [
    {
     "data": {
      "text/plain": [
       "(88889, 31)"
      ]
     },
     "execution_count": 3,
     "metadata": {},
     "output_type": "execute_result"
    }
   ],
   "source": [
    "#Get datatypes of each column and number of rows and columns\n",
    "df.shape"
   ]
  },
  {
   "cell_type": "code",
   "execution_count": 4,
   "metadata": {},
   "outputs": [
    {
     "name": "stdout",
     "output_type": "stream",
     "text": [
      "<class 'pandas.core.frame.DataFrame'>\n",
      "RangeIndex: 88889 entries, 0 to 88888\n",
      "Data columns (total 31 columns):\n",
      " #   Column                  Non-Null Count  Dtype  \n",
      "---  ------                  --------------  -----  \n",
      " 0   Event.Id                88889 non-null  object \n",
      " 1   Investigation.Type      88889 non-null  object \n",
      " 2   Accident.Number         88889 non-null  object \n",
      " 3   Event.Date              88889 non-null  object \n",
      " 4   Location                88837 non-null  object \n",
      " 5   Country                 88663 non-null  object \n",
      " 6   Latitude                34382 non-null  object \n",
      " 7   Longitude               34373 non-null  object \n",
      " 8   Airport.Code            50249 non-null  object \n",
      " 9   Airport.Name            52790 non-null  object \n",
      " 10  Injury.Severity         87889 non-null  object \n",
      " 11  Aircraft.damage         85695 non-null  object \n",
      " 12  Aircraft.Category       32287 non-null  object \n",
      " 13  Registration.Number     87572 non-null  object \n",
      " 14  Make                    88826 non-null  object \n",
      " 15  Model                   88797 non-null  object \n",
      " 16  Amateur.Built           88787 non-null  object \n",
      " 17  Number.of.Engines       82805 non-null  float64\n",
      " 18  Engine.Type             81812 non-null  object \n",
      " 19  FAR.Description         32023 non-null  object \n",
      " 20  Schedule                12582 non-null  object \n",
      " 21  Purpose.of.flight       82697 non-null  object \n",
      " 22  Air.carrier             16648 non-null  object \n",
      " 23  Total.Fatal.Injuries    77488 non-null  float64\n",
      " 24  Total.Serious.Injuries  76379 non-null  float64\n",
      " 25  Total.Minor.Injuries    76956 non-null  float64\n",
      " 26  Total.Uninjured         82977 non-null  float64\n",
      " 27  Weather.Condition       84397 non-null  object \n",
      " 28  Broad.phase.of.flight   61724 non-null  object \n",
      " 29  Report.Status           82508 non-null  object \n",
      " 30  Publication.Date        75118 non-null  object \n",
      "dtypes: float64(5), object(26)\n",
      "memory usage: 21.0+ MB\n"
     ]
    }
   ],
   "source": [
    "#Get datatypes of each column and number of rows and columns\n",
    "df.info()"
   ]
  },
  {
   "cell_type": "markdown",
   "metadata": {},
   "source": [
    "## Overview analysis of the dataset \n",
    "* From the cells above, we can see that the dataset has `88889` rows and `31` columns\n",
    "* The data has various datatypes\n",
    "* Some columns seems to have null values\n",
    "\n",
    "#### In the cell below, we will try and identify the number of null values in the dataset"
   ]
  },
  {
   "cell_type": "code",
   "execution_count": 5,
   "metadata": {},
   "outputs": [
    {
     "data": {
      "text/plain": [
       "Event.Id                   0.000000\n",
       "Investigation.Type         0.000000\n",
       "Accident.Number            0.000000\n",
       "Event.Date                 0.000000\n",
       "Location                   0.058500\n",
       "Country                    0.254250\n",
       "Latitude                  61.320298\n",
       "Longitude                 61.330423\n",
       "Airport.Code              43.469946\n",
       "Airport.Name              40.611324\n",
       "Injury.Severity            1.124999\n",
       "Aircraft.damage            3.593246\n",
       "Aircraft.Category         63.677170\n",
       "Registration.Number        1.481623\n",
       "Make                       0.070875\n",
       "Model                      0.103500\n",
       "Amateur.Built              0.114750\n",
       "Number.of.Engines          6.844491\n",
       "Engine.Type                7.961615\n",
       "FAR.Description           63.974170\n",
       "Schedule                  85.845268\n",
       "Purpose.of.flight          6.965991\n",
       "Air.carrier               81.271023\n",
       "Total.Fatal.Injuries      12.826109\n",
       "Total.Serious.Injuries    14.073732\n",
       "Total.Minor.Injuries      13.424608\n",
       "Total.Uninjured            6.650992\n",
       "Weather.Condition          5.053494\n",
       "Broad.phase.of.flight     30.560587\n",
       "Report.Status              7.178616\n",
       "Publication.Date          15.492356\n",
       "dtype: float64"
      ]
     },
     "execution_count": 5,
     "metadata": {},
     "output_type": "execute_result"
    }
   ],
   "source": [
    "#Percentage of null values from each column\n",
    "df.isna().sum()/ len(df) * 100"
   ]
  },
  {
   "cell_type": "markdown",
   "metadata": {},
   "source": [
    "## Analysis of the null values in the dataset\n",
    "* From the cell above we can see almost all the cells have null values apart from 4 columns are `Event.Id`,`Investigation.Type`,`Accident.Number` and `Event.Date`\n",
    "* We will drop all columns with null percentage value of over 40 % from the data set.This columns include  `Latitude`,`Longitude`,`Airport.Code`,`Airport.Name`,`Aircraft.Category`,`FAR.Description`,`Schedule`,`Air.carrier`.\n",
    "\n",
    "We want to drop the above columns because there more or close to more missing data than available data, which makes it difficult to extract meaningful insights. Retaining such columns may introduce bias or inaccuracies in our analysis."
   ]
  },
  {
   "cell_type": "code",
   "execution_count": 6,
   "metadata": {},
   "outputs": [],
   "source": [
    "# List of columns to drop\n",
    "columns_to_drop = [\n",
    "    'Latitude', 'Longitude', 'Airport.Code', 'Airport.Name', \n",
    "    'Aircraft.Category', 'FAR.Description', 'Schedule', 'Air.carrier'\n",
    "]\n",
    "\n",
    "# Drop the columns from the DataFrame\n",
    "df = df.drop(columns=columns_to_drop)"
   ]
  },
  {
   "cell_type": "code",
   "execution_count": 7,
   "metadata": {},
   "outputs": [
    {
     "data": {
      "text/plain": [
       "Event.Id                   0.000000\n",
       "Investigation.Type         0.000000\n",
       "Accident.Number            0.000000\n",
       "Event.Date                 0.000000\n",
       "Location                   0.058500\n",
       "Country                    0.254250\n",
       "Injury.Severity            1.124999\n",
       "Aircraft.damage            3.593246\n",
       "Registration.Number        1.481623\n",
       "Make                       0.070875\n",
       "Model                      0.103500\n",
       "Amateur.Built              0.114750\n",
       "Number.of.Engines          6.844491\n",
       "Engine.Type                7.961615\n",
       "Purpose.of.flight          6.965991\n",
       "Total.Fatal.Injuries      12.826109\n",
       "Total.Serious.Injuries    14.073732\n",
       "Total.Minor.Injuries      13.424608\n",
       "Total.Uninjured            6.650992\n",
       "Weather.Condition          5.053494\n",
       "Broad.phase.of.flight     30.560587\n",
       "Report.Status              7.178616\n",
       "Publication.Date          15.492356\n",
       "dtype: float64"
      ]
     },
     "execution_count": 7,
     "metadata": {},
     "output_type": "execute_result"
    }
   ],
   "source": [
    "#Verifying the result that all columns with null percentage value of over 40% are dropped\n",
    "df.isna().sum()/ len(df) * 100"
   ]
  },
  {
   "cell_type": "markdown",
   "metadata": {},
   "source": [
    "# Dealing with remaining null values\n",
    "\n",
    "## Location column\n",
    "\n",
    "First we will start with columns that have non-numerical data such as `Location` \n",
    "We will drop all rows where column location is null. This is because the column `Location`  has a null percentage of  0.058500%. Dropping these rows means we are only losing a small portion of ourdata, which is often acceptable."
   ]
  },
  {
   "cell_type": "code",
   "execution_count": 8,
   "metadata": {},
   "outputs": [],
   "source": [
    "# Drop rows where 'Location' is null\n",
    "df.dropna(subset=['Location'], inplace=True)"
   ]
  },
  {
   "cell_type": "code",
   "execution_count": 9,
   "metadata": {},
   "outputs": [
    {
     "data": {
      "text/plain": [
       "Event.Id                   0.000000\n",
       "Investigation.Type         0.000000\n",
       "Accident.Number            0.000000\n",
       "Event.Date                 0.000000\n",
       "Location                   0.000000\n",
       "Country                    0.253273\n",
       "Injury.Severity            1.125657\n",
       "Aircraft.damage            3.587469\n",
       "Registration.Number        1.457726\n",
       "Make                       0.070916\n",
       "Model                      0.103560\n",
       "Amateur.Built              0.110314\n",
       "Number.of.Engines          6.815854\n",
       "Engine.Type                7.959521\n",
       "Purpose.of.flight          6.958812\n",
       "Total.Fatal.Injuries      12.817857\n",
       "Total.Serious.Injuries    14.061709\n",
       "Total.Minor.Injuries      13.411079\n",
       "Total.Uninjured            6.642503\n",
       "Weather.Condition          5.050823\n",
       "Broad.phase.of.flight     30.535700\n",
       "Report.Status              7.182818\n",
       "Publication.Date          15.487916\n",
       "dtype: float64"
      ]
     },
     "execution_count": 9,
     "metadata": {},
     "output_type": "execute_result"
    }
   ],
   "source": [
    "# Verify the result\n",
    "df.isna().sum()/ len(df) * 100"
   ]
  },
  {
   "cell_type": "markdown",
   "metadata": {},
   "source": [
    "## Country column\n",
    "\n",
    "Next we will move to the `Country` column. \n",
    "\n",
    "Similar to the Location column, We will drop all rows where column `country` is null. This is because the column `Location`  has a null percentage of  0.253273%. Dropping these rows means we are only losing a small portion of ourdata, which is often acceptable."
   ]
  },
  {
   "cell_type": "code",
   "execution_count": 10,
   "metadata": {},
   "outputs": [],
   "source": [
    "# Drop rows where 'Country' is null\n",
    "df.dropna(subset=['Country'], inplace=True)"
   ]
  },
  {
   "cell_type": "code",
   "execution_count": 11,
   "metadata": {},
   "outputs": [
    {
     "data": {
      "text/plain": [
       "Event.Id                   0.000000\n",
       "Investigation.Type         0.000000\n",
       "Accident.Number            0.000000\n",
       "Event.Date                 0.000000\n",
       "Location                   0.000000\n",
       "Country                    0.000000\n",
       "Injury.Severity            1.128515\n",
       "Aircraft.damage            3.578522\n",
       "Registration.Number        1.455785\n",
       "Make                       0.069968\n",
       "Model                      0.102695\n",
       "Amateur.Built              0.110595\n",
       "Number.of.Engines          6.825261\n",
       "Engine.Type                7.972961\n",
       "Purpose.of.flight          6.968582\n",
       "Total.Fatal.Injuries      12.837990\n",
       "Total.Serious.Injuries    14.086128\n",
       "Total.Minor.Injuries      13.433846\n",
       "Total.Uninjured            6.649212\n",
       "Weather.Condition          5.058006\n",
       "Broad.phase.of.flight     30.601950\n",
       "Report.Status              7.201056\n",
       "Publication.Date          15.462917\n",
       "dtype: float64"
      ]
     },
     "execution_count": 11,
     "metadata": {},
     "output_type": "execute_result"
    }
   ],
   "source": [
    "# Verify the result\n",
    "df.isna().sum()/ len(df) * 100"
   ]
  },
  {
   "cell_type": "markdown",
   "metadata": {},
   "source": [
    "## Injury.Severity column\n",
    "\n",
    "Next we will move to the `Injury.Severity` column. \n",
    "\n",
    "Let's look at the type of data we are dealing with:"
   ]
  },
  {
   "cell_type": "code",
   "execution_count": 12,
   "metadata": {},
   "outputs": [
    {
     "data": {
      "text/plain": [
       "Non-Fatal     76.696115\n",
       "Fatal(1)       7.004748\n",
       "Fatal          6.006027\n",
       "Fatal(2)       4.210610\n",
       "Incident       2.496233\n",
       "                ...    \n",
       "Fatal(156)     0.001141\n",
       "Fatal(115)     0.001141\n",
       "Fatal(60)      0.001141\n",
       "Fatal(31)      0.001141\n",
       "Fatal(256)     0.001141\n",
       "Name: Injury.Severity, Length: 109, dtype: float64"
      ]
     },
     "execution_count": 12,
     "metadata": {},
     "output_type": "execute_result"
    }
   ],
   "source": [
    "injury_severity_percentage = df['Injury.Severity'].value_counts(normalize=True) * 100\n",
    "injury_severity_percentage"
   ]
  },
  {
   "cell_type": "markdown",
   "metadata": {},
   "source": [
    "Seems like the data should have two categories which are `fatal` and `non-fatal`. But the way data has been stored the rows categorised as `fatal` have an integer placed in brackets making it seem like there more than two categories yet they referring to the same thing. We will clean up the rows by replacing all rows categorised as `fatal(int)` to `fatal`"
   ]
  },
  {
   "cell_type": "code",
   "execution_count": 13,
   "metadata": {},
   "outputs": [
    {
     "data": {
      "text/plain": [
       "Non-Fatal      76.696115\n",
       "Fatal          20.256358\n",
       "Incident        2.496233\n",
       "Minor           0.248824\n",
       "Serious         0.197462\n",
       "Unavailable     0.105008\n",
       "Name: Injury.Severity, dtype: float64"
      ]
     },
     "execution_count": 13,
     "metadata": {},
     "output_type": "execute_result"
    }
   ],
   "source": [
    "# Replace 'Fatal(number)' with 'Fatal'\n",
    "df['Injury.Severity'] = df['Injury.Severity'].str.replace(r'Fatal\\(\\d+\\)', 'Fatal', regex=True)\n",
    "\n",
    "# Verify the replacement\n",
    "df['Injury.Severity'].value_counts(normalize=True) * 100"
   ]
  },
  {
   "cell_type": "markdown",
   "metadata": {},
   "source": [
    "### Analysis of `Injury.Severity` column\n",
    "From the above verification we see that most injuries are Non-fatal then Followed by Fatal and we have unavailable which represents the null values. We will drop all rows that have null values since we are only losing a small portion of ourdata, which is often acceptable."
   ]
  },
  {
   "cell_type": "code",
   "execution_count": 14,
   "metadata": {},
   "outputs": [],
   "source": [
    "# Drop rows where 'Injury.Severity' is null\n",
    "df.dropna(subset=['Injury.Severity'], inplace=True)"
   ]
  },
  {
   "cell_type": "code",
   "execution_count": 15,
   "metadata": {},
   "outputs": [
    {
     "data": {
      "text/plain": [
       "Event.Id                   0.000000\n",
       "Investigation.Type         0.000000\n",
       "Accident.Number            0.000000\n",
       "Event.Date                 0.000000\n",
       "Location                   0.000000\n",
       "Country                    0.000000\n",
       "Injury.Severity            0.000000\n",
       "Aircraft.damage            3.042962\n",
       "Registration.Number        1.446149\n",
       "Make                       0.051363\n",
       "Model                      0.081039\n",
       "Amateur.Built              0.111857\n",
       "Number.of.Engines          6.080217\n",
       "Engine.Type                7.143999\n",
       "Purpose.of.flight          5.964936\n",
       "Total.Fatal.Injuries      12.984523\n",
       "Total.Serious.Injuries    14.246907\n",
       "Total.Minor.Injuries      13.587180\n",
       "Total.Uninjured            6.725106\n",
       "Weather.Condition          4.074784\n",
       "Broad.phase.of.flight     29.809843\n",
       "Report.Status              6.245720\n",
       "Publication.Date          15.330092\n",
       "dtype: float64"
      ]
     },
     "execution_count": 15,
     "metadata": {},
     "output_type": "execute_result"
    }
   ],
   "source": [
    "# Verify the result\n",
    "df.isna().sum()/ len(df) * 100"
   ]
  },
  {
   "cell_type": "markdown",
   "metadata": {},
   "source": [
    "## Aircraft.damage column\n",
    "\n",
    "Next we will move to the `Aircraft.damage` column. \n",
    "\n",
    "The column has 3% missing value percentage. Let's look at how the data is categorised in this column"
   ]
  },
  {
   "cell_type": "code",
   "execution_count": 16,
   "metadata": {},
   "outputs": [
    {
     "data": {
      "text/plain": [
       "Substantial    75.148918\n",
       "Destroyed      21.726744\n",
       "Minor           3.016034\n",
       "Unknown         0.108304\n",
       "Name: Aircraft.damage, dtype: float64"
      ]
     },
     "execution_count": 16,
     "metadata": {},
     "output_type": "execute_result"
    }
   ],
   "source": [
    "aircraft_damage_percentage = df['Aircraft.damage'].value_counts(normalize=True) * 100\n",
    "aircraft_damage_percentage"
   ]
  },
  {
   "cell_type": "markdown",
   "metadata": {},
   "source": [
    "### Analysis of `Aircraft.damage` column\n",
    "\n",
    "The data seems to be categorical where we have three categories which are Substantial, Destroyed,Unknown and Minor \n"
   ]
  },
  {
   "cell_type": "code",
   "execution_count": 17,
   "metadata": {},
   "outputs": [],
   "source": [
    "# Drop rows where 'Aircraft.damage' is null\n",
    "df.dropna(subset=['Aircraft.damage'], inplace=True)"
   ]
  },
  {
   "cell_type": "code",
   "execution_count": 18,
   "metadata": {},
   "outputs": [
    {
     "data": {
      "text/plain": [
       "Event.Id                   0.000000\n",
       "Investigation.Type         0.000000\n",
       "Accident.Number            0.000000\n",
       "Event.Date                 0.000000\n",
       "Location                   0.000000\n",
       "Country                    0.000000\n",
       "Injury.Severity            0.000000\n",
       "Aircraft.damage            0.000000\n",
       "Registration.Number        1.299649\n",
       "Make                       0.042380\n",
       "Model                      0.072988\n",
       "Amateur.Built              0.096532\n",
       "Number.of.Engines          5.323382\n",
       "Engine.Type                6.407600\n",
       "Purpose.of.flight          4.823064\n",
       "Total.Fatal.Injuries      12.826972\n",
       "Total.Serious.Injuries    14.320863\n",
       "Total.Minor.Injuries      13.486215\n",
       "Total.Uninjured            6.826690\n",
       "Weather.Condition          3.404516\n",
       "Broad.phase.of.flight     29.305677\n",
       "Report.Status              5.750712\n",
       "Publication.Date          15.330916\n",
       "dtype: float64"
      ]
     },
     "execution_count": 18,
     "metadata": {},
     "output_type": "execute_result"
    }
   ],
   "source": [
    "# Verify the result\n",
    "df.isna().sum()/ len(df) * 100"
   ]
  },
  {
   "cell_type": "markdown",
   "metadata": {},
   "source": [
    "## Registration.Number column\n",
    "\n",
    "Next we will move to the `Registration.Number` column. \n",
    "\n",
    "The column has 1.2% missing value percentage. Let's look at how the data is categorised in this column"
   ]
  },
  {
   "cell_type": "code",
   "execution_count": 19,
   "metadata": {},
   "outputs": [
    {
     "data": {
      "text/plain": [
       "NONE      0.404332\n",
       "UNREG     0.145512\n",
       "None      0.077527\n",
       "N20752    0.008349\n",
       "N8402K    0.007156\n",
       "            ...   \n",
       "N106Q     0.001193\n",
       "N5017X    0.001193\n",
       "N80510    0.001193\n",
       "N242AT    0.001193\n",
       "N90840    0.001193\n",
       "Name: Registration.Number, Length: 75884, dtype: float64"
      ]
     },
     "execution_count": 19,
     "metadata": {},
     "output_type": "execute_result"
    }
   ],
   "source": [
    "registration_number_percentage = df['Registration.Number'].value_counts(normalize=True) * 100\n",
    "registration_number_percentage"
   ]
  },
  {
   "cell_type": "markdown",
   "metadata": {},
   "source": [
    "### Analysis of `Registration.Number` column\n",
    "\n",
    "The data seems to be unique such that each aircraft had a unique registration number and since almost all the rows had the registration number filled apart from 1.2%, we will drop the null values"
   ]
  },
  {
   "cell_type": "code",
   "execution_count": 20,
   "metadata": {},
   "outputs": [],
   "source": [
    "# Drop rows where 'Registration.Number' is null\n",
    "df.dropna(subset=['Registration.Number'], inplace=True)"
   ]
  },
  {
   "cell_type": "code",
   "execution_count": 21,
   "metadata": {},
   "outputs": [
    {
     "data": {
      "text/plain": [
       "Event.Id                   0.000000\n",
       "Investigation.Type         0.000000\n",
       "Accident.Number            0.000000\n",
       "Event.Date                 0.000000\n",
       "Location                   0.000000\n",
       "Country                    0.000000\n",
       "Injury.Severity            0.000000\n",
       "Aircraft.damage            0.000000\n",
       "Registration.Number        0.000000\n",
       "Make                       0.025047\n",
       "Model                      0.056058\n",
       "Amateur.Built              0.033396\n",
       "Number.of.Engines          4.170941\n",
       "Engine.Type                5.586699\n",
       "Purpose.of.flight          4.388016\n",
       "Total.Fatal.Injuries      12.533098\n",
       "Total.Serious.Injuries    13.655447\n",
       "Total.Minor.Injuries      12.733475\n",
       "Total.Uninjured            6.119844\n",
       "Weather.Condition          3.105842\n",
       "Broad.phase.of.flight     28.378378\n",
       "Report.Status              5.815701\n",
       "Publication.Date          15.295437\n",
       "dtype: float64"
      ]
     },
     "execution_count": 21,
     "metadata": {},
     "output_type": "execute_result"
    }
   ],
   "source": [
    "# Verify the result\n",
    "df.isna().sum()/ len(df) * 100"
   ]
  },
  {
   "cell_type": "markdown",
   "metadata": {},
   "source": [
    "## Make column\n",
    "\n",
    "Next we will move to the `Make` column. \n",
    "\n",
    "The column has 0.02% missing value percentage. Let's look at how the data is categorised in this column"
   ]
  },
  {
   "cell_type": "code",
   "execution_count": 22,
   "metadata": {},
   "outputs": [
    {
     "data": {
      "text/plain": [
       "Cessna                     25.970819\n",
       "Piper                      14.094320\n",
       "CESSNA                      5.663259\n",
       "Beech                       5.016643\n",
       "PIPER                       3.303468\n",
       "                             ...    \n",
       "Padelt                      0.001193\n",
       "Ultralight Flight, Inc.     0.001193\n",
       "Labarge                     0.001193\n",
       "Popehn Arthur J.            0.001193\n",
       "ZWICKER MURRAY R            0.001193\n",
       "Name: Make, Length: 8136, dtype: float64"
      ]
     },
     "execution_count": 22,
     "metadata": {},
     "output_type": "execute_result"
    }
   ],
   "source": [
    "make_number_percentage = df['Make'].value_counts(normalize=True) * 100\n",
    "make_number_percentage"
   ]
  },
  {
   "cell_type": "markdown",
   "metadata": {},
   "source": [
    "### Analysis of `Make` column\n",
    "The data seems to be categorised well with no data not looking ot of place\n",
    "\n",
    "\n",
    "We will drop all rows where column `make` is null. This is because the column `make`  has a null percentage of  0.02%. Dropping these rows means we are only losing a small portion of ourdata, which is often acceptable. "
   ]
  },
  {
   "cell_type": "code",
   "execution_count": 23,
   "metadata": {},
   "outputs": [],
   "source": [
    "# Drop rows where 'Make' is null\n",
    "df.dropna(subset=['Make'], inplace=True)"
   ]
  },
  {
   "cell_type": "code",
   "execution_count": 24,
   "metadata": {},
   "outputs": [
    {
     "data": {
      "text/plain": [
       "Event.Id                   0.000000\n",
       "Investigation.Type         0.000000\n",
       "Accident.Number            0.000000\n",
       "Event.Date                 0.000000\n",
       "Location                   0.000000\n",
       "Country                    0.000000\n",
       "Injury.Severity            0.000000\n",
       "Aircraft.damage            0.000000\n",
       "Registration.Number        0.000000\n",
       "Make                       0.000000\n",
       "Model                      0.047721\n",
       "Amateur.Built              0.032211\n",
       "Number.of.Engines          4.162441\n",
       "Engine.Type                5.576168\n",
       "Purpose.of.flight          4.384343\n",
       "Total.Fatal.Injuries      12.533852\n",
       "Total.Serious.Injuries    13.656482\n",
       "Total.Minor.Injuries      12.733086\n",
       "Total.Uninjured            6.118992\n",
       "Weather.Condition          3.098269\n",
       "Broad.phase.of.flight     28.373558\n",
       "Report.Status              5.807614\n",
       "Publication.Date          15.299269\n",
       "dtype: float64"
      ]
     },
     "execution_count": 24,
     "metadata": {},
     "output_type": "execute_result"
    }
   ],
   "source": [
    "# Verify the result\n",
    "df.isna().sum()/ len(df) * 100"
   ]
  },
  {
   "cell_type": "markdown",
   "metadata": {},
   "source": [
    "## Model column\n",
    "\n",
    "Next we will move to the `Model` column. \n",
    "\n",
    "The column has 0.04% missing value percentage. Let's look at how the data is categorised in this column"
   ]
  },
  {
   "cell_type": "code",
   "execution_count": 25,
   "metadata": {},
   "outputs": [
    {
     "data": {
      "text/plain": [
       "152                  2.796577\n",
       "172                  2.039842\n",
       "172N                 1.363078\n",
       "PA-28-140            1.101682\n",
       "150                  0.971581\n",
       "                       ...   \n",
       "E 33                 0.001194\n",
       "BABY ACE CM-1        0.001194\n",
       "Christian Eagle I    0.001194\n",
       "R-22 MARINER         0.001194\n",
       "582 FIB              0.001194\n",
       "Name: Model, Length: 11544, dtype: float64"
      ]
     },
     "execution_count": 25,
     "metadata": {},
     "output_type": "execute_result"
    }
   ],
   "source": [
    "model_number_percentage = df['Model'].value_counts(normalize=True) * 100\n",
    "model_number_percentage"
   ]
  },
  {
   "cell_type": "code",
   "execution_count": 26,
   "metadata": {},
   "outputs": [
    {
     "name": "stdout",
     "output_type": "stream",
     "text": [
      "['108-3' 'PA24-180' '172M' ... 'ROTORWAY EXEC 162-F' 'KITFOX S5'\n",
      " 'M-8 EAGLE']\n"
     ]
    }
   ],
   "source": [
    "# Find unique values in the 'Model' column\n",
    "unique_model = df['Model'].unique()\n",
    "\n",
    "# Display the unique values\n",
    "print(unique_model)"
   ]
  },
  {
   "cell_type": "markdown",
   "metadata": {},
   "source": [
    "### Analysis of `Model` column\n",
    "The data seems to be categorised well with no data not looking ot of place\n",
    "\n",
    "\n",
    "We will drop all rows where column `model` is null. This is because the column `model`  has a null percentage of  0.04%. Dropping these rows means we are only losing a small portion of ourdata, which is often acceptable. "
   ]
  },
  {
   "cell_type": "code",
   "execution_count": 27,
   "metadata": {},
   "outputs": [],
   "source": [
    "# Drop rows where 'Make' is null\n",
    "df.dropna(subset=['Model'], inplace=True)"
   ]
  },
  {
   "cell_type": "code",
   "execution_count": 28,
   "metadata": {},
   "outputs": [
    {
     "data": {
      "text/plain": [
       "Event.Id                   0.000000\n",
       "Investigation.Type         0.000000\n",
       "Accident.Number            0.000000\n",
       "Event.Date                 0.000000\n",
       "Location                   0.000000\n",
       "Country                    0.000000\n",
       "Injury.Severity            0.000000\n",
       "Aircraft.damage            0.000000\n",
       "Registration.Number        0.000000\n",
       "Make                       0.000000\n",
       "Model                      0.000000\n",
       "Amateur.Built              0.032227\n",
       "Number.of.Engines          4.158461\n",
       "Engine.Type                5.562120\n",
       "Purpose.of.flight          4.379275\n",
       "Total.Fatal.Injuries      12.532674\n",
       "Total.Serious.Injuries    13.654647\n",
       "Total.Minor.Injuries      12.733197\n",
       "Total.Uninjured            6.118332\n",
       "Weather.Condition          3.090199\n",
       "Broad.phase.of.flight     28.373975\n",
       "Report.Status              5.799644\n",
       "Publication.Date          15.304186\n",
       "dtype: float64"
      ]
     },
     "execution_count": 28,
     "metadata": {},
     "output_type": "execute_result"
    }
   ],
   "source": [
    "# Verify the result\n",
    "df.isna().sum()/ len(df) * 100"
   ]
  },
  {
   "cell_type": "markdown",
   "metadata": {},
   "source": [
    "## Amateur.Built column\n",
    "\n",
    "Next we will move to the `Amateur.Built` column. \n",
    "\n",
    "The column has 0.03% missing value percentage. Let's look at how the data is categorised in this column"
   ]
  },
  {
   "cell_type": "code",
   "execution_count": 29,
   "metadata": {},
   "outputs": [
    {
     "name": "stdout",
     "output_type": "stream",
     "text": [
      "['No' 'Yes' nan]\n"
     ]
    }
   ],
   "source": [
    "# Find unique values in the 'Amateur.Built' column\n",
    "unique_amateur_built = df['Amateur.Built'].unique()\n",
    "\n",
    "# Display the unique values\n",
    "print(unique_amateur_built)"
   ]
  },
  {
   "cell_type": "code",
   "execution_count": 30,
   "metadata": {},
   "outputs": [
    {
     "data": {
      "text/plain": [
       "No     90.006447\n",
       "Yes     9.993553\n",
       "Name: Amateur.Built, dtype: float64"
      ]
     },
     "execution_count": 30,
     "metadata": {},
     "output_type": "execute_result"
    }
   ],
   "source": [
    "amateur_built_percentage = df['Amateur.Built'].value_counts(normalize=True) * 100\n",
    "amateur_built_percentage"
   ]
  },
  {
   "cell_type": "markdown",
   "metadata": {},
   "source": [
    "### Analysis of `Amateur.Built` column\n",
    "The data seems to be categorised well with no data not looking ot of place\n",
    "\n",
    "We will fill the null values with no since it won't skew the data any further"
   ]
  },
  {
   "cell_type": "code",
   "execution_count": 31,
   "metadata": {},
   "outputs": [],
   "source": [
    "# Fill null values in 'Amateur.Built' column with 'No'\n",
    "df['Amateur.Built'].fillna('No', inplace=True)"
   ]
  },
  {
   "cell_type": "code",
   "execution_count": 32,
   "metadata": {},
   "outputs": [
    {
     "data": {
      "text/plain": [
       "Event.Id                   0.000000\n",
       "Investigation.Type         0.000000\n",
       "Accident.Number            0.000000\n",
       "Event.Date                 0.000000\n",
       "Location                   0.000000\n",
       "Country                    0.000000\n",
       "Injury.Severity            0.000000\n",
       "Aircraft.damage            0.000000\n",
       "Registration.Number        0.000000\n",
       "Make                       0.000000\n",
       "Model                      0.000000\n",
       "Amateur.Built              0.000000\n",
       "Number.of.Engines          4.158461\n",
       "Engine.Type                5.562120\n",
       "Purpose.of.flight          4.379275\n",
       "Total.Fatal.Injuries      12.532674\n",
       "Total.Serious.Injuries    13.654647\n",
       "Total.Minor.Injuries      12.733197\n",
       "Total.Uninjured            6.118332\n",
       "Weather.Condition          3.090199\n",
       "Broad.phase.of.flight     28.373975\n",
       "Report.Status              5.799644\n",
       "Publication.Date          15.304186\n",
       "dtype: float64"
      ]
     },
     "execution_count": 32,
     "metadata": {},
     "output_type": "execute_result"
    }
   ],
   "source": [
    "# Verify the result\n",
    "df.isna().sum()/ len(df) * 100"
   ]
  },
  {
   "cell_type": "markdown",
   "metadata": {},
   "source": [
    "## Number.of.Engines column\n",
    "\n",
    "Next we will move to the `Number.of.Engines` column. \n",
    "\n",
    "The column has 4.1% missing value percentage. Let's look at how the data is categorised in this column"
   ]
  },
  {
   "cell_type": "code",
   "execution_count": 33,
   "metadata": {},
   "outputs": [
    {
     "name": "stdout",
     "output_type": "stream",
     "text": [
      "[ 1. nan  2.  0.  4.  3.  8.  6.]\n"
     ]
    }
   ],
   "source": [
    "# Find unique values in the 'Number.of.Engines' column\n",
    "unique_number_engines = df['Number.of.Engines'].unique()\n",
    "\n",
    "# Display the unique values\n",
    "print(unique_number_engines)"
   ]
  },
  {
   "cell_type": "code",
   "execution_count": 34,
   "metadata": {},
   "outputs": [
    {
     "data": {
      "text/plain": [
       "1.0    85.869958\n",
       "2.0    12.039055\n",
       "0.0     1.322590\n",
       "3.0     0.394784\n",
       "4.0     0.369877\n",
       "8.0     0.002491\n",
       "6.0     0.001245\n",
       "Name: Number.of.Engines, dtype: float64"
      ]
     },
     "execution_count": 34,
     "metadata": {},
     "output_type": "execute_result"
    }
   ],
   "source": [
    "number_engine_percentage = df['Number.of.Engines'].value_counts(normalize=True) * 100\n",
    "number_engine_percentage"
   ]
  },
  {
   "cell_type": "code",
   "execution_count": 35,
   "metadata": {},
   "outputs": [
    {
     "name": "stdout",
     "output_type": "stream",
     "text": [
      "Mean: 1.1263932650036739\n",
      "Median: 1.0\n"
     ]
    }
   ],
   "source": [
    "# Calculate mean and median of 'Number.of.Engines'\n",
    "mean_engines = df['Number.of.Engines'].mean()\n",
    "median_engines = df['Number.of.Engines'].median()\n",
    "\n",
    "# Display the results\n",
    "print(f\"Mean: {mean_engines}\")\n",
    "print(f\"Median: {median_engines}\")"
   ]
  },
  {
   "cell_type": "markdown",
   "metadata": {},
   "source": [
    "### Analysis of `Number.of.Engines` column\n",
    "\n",
    "The data has 6 categories of engines in which 1-engine aircraft is 85.89% followed by 2-engine aircraft with a percentage of 12%.\n",
    "\n",
    "The mean of the engine is 1.12 and the median is 1.\n",
    "\n",
    "From the above we will fill the null values with 1 which will not skew the data in any way since 1 engine aircraft are already majority\n"
   ]
  },
  {
   "cell_type": "code",
   "execution_count": 36,
   "metadata": {},
   "outputs": [],
   "source": [
    "# Fill null values in 'Number.of.Engines' column with 1'\n",
    "df['Number.of.Engines'].fillna(1, inplace=True)"
   ]
  },
  {
   "cell_type": "code",
   "execution_count": 37,
   "metadata": {},
   "outputs": [
    {
     "data": {
      "text/plain": [
       "Event.Id                   0.000000\n",
       "Investigation.Type         0.000000\n",
       "Accident.Number            0.000000\n",
       "Event.Date                 0.000000\n",
       "Location                   0.000000\n",
       "Country                    0.000000\n",
       "Injury.Severity            0.000000\n",
       "Aircraft.damage            0.000000\n",
       "Registration.Number        0.000000\n",
       "Make                       0.000000\n",
       "Model                      0.000000\n",
       "Amateur.Built              0.000000\n",
       "Number.of.Engines          0.000000\n",
       "Engine.Type                5.562120\n",
       "Purpose.of.flight          4.379275\n",
       "Total.Fatal.Injuries      12.532674\n",
       "Total.Serious.Injuries    13.654647\n",
       "Total.Minor.Injuries      12.733197\n",
       "Total.Uninjured            6.118332\n",
       "Weather.Condition          3.090199\n",
       "Broad.phase.of.flight     28.373975\n",
       "Report.Status              5.799644\n",
       "Publication.Date          15.304186\n",
       "dtype: float64"
      ]
     },
     "execution_count": 37,
     "metadata": {},
     "output_type": "execute_result"
    }
   ],
   "source": [
    "#verification of replacement\n",
    "df.isna().sum()/ len(df) * 100"
   ]
  },
  {
   "cell_type": "markdown",
   "metadata": {},
   "source": [
    "## Engine.Type column\n",
    "\n",
    "Next we will move to the `Engine.Type` column. \n",
    "\n",
    "The column has 5.1% missing value percentage. Let's look at how the data is categorised in this column"
   ]
  },
  {
   "cell_type": "code",
   "execution_count": 38,
   "metadata": {},
   "outputs": [
    {
     "name": "stdout",
     "output_type": "stream",
     "text": [
      "['Reciprocating' nan 'Turbo Fan' 'Turbo Shaft' 'Unknown' 'Turbo Prop'\n",
      " 'Turbo Jet' 'None' 'Electric' 'Hybrid Rocket' 'Geared Turbofan' 'LR'\n",
      " 'NONE' 'UNK']\n"
     ]
    }
   ],
   "source": [
    "# Find unique values in the 'Number.of.Engines' column\n",
    "unique_engine_type = df['Engine.Type'].unique()\n",
    "\n",
    "# Display the unique values\n",
    "print(unique_engine_type)"
   ]
  },
  {
   "cell_type": "code",
   "execution_count": 39,
   "metadata": {},
   "outputs": [
    {
     "data": {
      "text/plain": [
       "Reciprocating      87.204408\n",
       "Turbo Shaft         4.328813\n",
       "Turbo Prop          3.944591\n",
       "Turbo Fan           1.932483\n",
       "Unknown             1.881928\n",
       "Turbo Jet           0.669860\n",
       "None                0.020222\n",
       "Electric            0.010111\n",
       "NONE                0.002528\n",
       "Geared Turbofan     0.001264\n",
       "LR                  0.001264\n",
       "Hybrid Rocket       0.001264\n",
       "UNK                 0.001264\n",
       "Name: Engine.Type, dtype: float64"
      ]
     },
     "execution_count": 39,
     "metadata": {},
     "output_type": "execute_result"
    }
   ],
   "source": [
    "#Find value counts in percentage form of each engine type\n",
    "engine_type_percentage = df['Engine.Type'].value_counts(normalize=True) * 100\n",
    "engine_type_percentage"
   ]
  },
  {
   "cell_type": "markdown",
   "metadata": {},
   "source": [
    "### Analysis of `Engine.Type` column\n",
    "\n",
    "From the analysis the engine type, the engine type with highest percentage is Reciprocating engines at 87% followed by Turbo Shaft, Turbo prop.\n",
    "\n",
    "From the analysis we seem to be having two categories having `NONE` and `none` engine types. I assumed that the they are referring to the same engine type first thing is will replace all `NONE` with `none`"
   ]
  },
  {
   "cell_type": "code",
   "execution_count": 40,
   "metadata": {},
   "outputs": [
    {
     "name": "stdout",
     "output_type": "stream",
     "text": [
      "Reciprocating      68997\n",
      "Turbo Shaft         3425\n",
      "Turbo Prop          3121\n",
      "Turbo Fan           1529\n",
      "Unknown             1489\n",
      "Turbo Jet            530\n",
      "None                  16\n",
      "Electric               8\n",
      "none                   2\n",
      "Geared Turbofan        1\n",
      "LR                     1\n",
      "Hybrid Rocket          1\n",
      "UNK                    1\n",
      "Name: Engine.Type, dtype: int64\n"
     ]
    }
   ],
   "source": [
    "# Replace 'NONE' with 'none' in the 'Engine.Type' column\n",
    "df['Engine.Type'] = df['Engine.Type'].replace('NONE', 'none')\n",
    "\n",
    "# Verify the replacement\n",
    "print(df['Engine.Type'].value_counts())"
   ]
  },
  {
   "cell_type": "markdown",
   "metadata": {},
   "source": [
    "### Analysis of `Engine.Type` column continued\n",
    "\n",
    "Since the percentage of null values is 5.5% we will replace the null values with Reciprocating engine type since the data is already skewed towards the engine type"
   ]
  },
  {
   "cell_type": "code",
   "execution_count": 41,
   "metadata": {},
   "outputs": [],
   "source": [
    "# Fill null values in 'Engine.Type' column with Reciprocating\n",
    "df['Engine.Type'].fillna('Reciprocating', inplace=True)"
   ]
  },
  {
   "cell_type": "code",
   "execution_count": 42,
   "metadata": {},
   "outputs": [
    {
     "data": {
      "text/plain": [
       "Event.Id                   0.000000\n",
       "Investigation.Type         0.000000\n",
       "Accident.Number            0.000000\n",
       "Event.Date                 0.000000\n",
       "Location                   0.000000\n",
       "Country                    0.000000\n",
       "Injury.Severity            0.000000\n",
       "Aircraft.damage            0.000000\n",
       "Registration.Number        0.000000\n",
       "Make                       0.000000\n",
       "Model                      0.000000\n",
       "Amateur.Built              0.000000\n",
       "Number.of.Engines          0.000000\n",
       "Engine.Type                0.000000\n",
       "Purpose.of.flight          4.379275\n",
       "Total.Fatal.Injuries      12.532674\n",
       "Total.Serious.Injuries    13.654647\n",
       "Total.Minor.Injuries      12.733197\n",
       "Total.Uninjured            6.118332\n",
       "Weather.Condition          3.090199\n",
       "Broad.phase.of.flight     28.373975\n",
       "Report.Status              5.799644\n",
       "Publication.Date          15.304186\n",
       "dtype: float64"
      ]
     },
     "execution_count": 42,
     "metadata": {},
     "output_type": "execute_result"
    }
   ],
   "source": [
    "df.isna().sum()/ len(df) * 100"
   ]
  },
  {
   "cell_type": "markdown",
   "metadata": {},
   "source": [
    "## Purpose.of.flight column\n",
    "\n",
    "Next we will move to the `Purpose.of.flight` column. \n",
    "\n",
    "The column has 4.3% missing value percentage. Let's look at how the data is categorised in this column"
   ]
  },
  {
   "cell_type": "code",
   "execution_count": 43,
   "metadata": {},
   "outputs": [
    {
     "name": "stdout",
     "output_type": "stream",
     "text": [
      "['Personal' nan 'Business' 'Instructional' 'Unknown' 'Ferry'\n",
      " 'Executive/corporate' 'Aerial Observation' 'Aerial Application'\n",
      " 'Public Aircraft' 'Skydiving' 'Other Work Use' 'Positioning'\n",
      " 'Flight Test' 'Air Race/show' 'Air Drop' 'Public Aircraft - Federal'\n",
      " 'Glider Tow' 'Public Aircraft - Local' 'External Load'\n",
      " 'Public Aircraft - State' 'Banner Tow' 'Firefighting' 'Air Race show'\n",
      " 'PUBS' 'ASHO' 'PUBL']\n"
     ]
    }
   ],
   "source": [
    "# Find unique values in the 'Purpose.of.flight' column\n",
    "unique_purpose_flight = df['Purpose.of.flight'].unique()\n",
    "\n",
    "# Display the unique values\n",
    "print(unique_purpose_flight)"
   ]
  },
  {
   "cell_type": "code",
   "execution_count": 44,
   "metadata": {},
   "outputs": [
    {
     "data": {
      "text/plain": [
       "Personal                     60.930947\n",
       "Instructional                13.055472\n",
       "Unknown                       6.942780\n",
       "Aerial Application            5.833084\n",
       "Business                      4.815758\n",
       "Positioning                   1.956012\n",
       "Other Work Use                1.477931\n",
       "Ferry                         0.987368\n",
       "Aerial Observation            0.927452\n",
       "Public Aircraft               0.866287\n",
       "Executive/corporate           0.629119\n",
       "Flight Test                   0.484322\n",
       "Skydiving                     0.219692\n",
       "External Load                 0.141053\n",
       "Banner Tow                    0.126073\n",
       "Public Aircraft - Federal     0.124825\n",
       "Air Race show                 0.112343\n",
       "Public Aircraft - Local       0.087378\n",
       "Public Aircraft - State       0.074895\n",
       "Air Race/show                 0.069902\n",
       "Glider Tow                    0.066157\n",
       "Firefighting                  0.044937\n",
       "Air Drop                      0.012483\n",
       "ASHO                          0.007490\n",
       "PUBS                          0.004993\n",
       "PUBL                          0.001248\n",
       "Name: Purpose.of.flight, dtype: float64"
      ]
     },
     "execution_count": 44,
     "metadata": {},
     "output_type": "execute_result"
    }
   ],
   "source": [
    "#Find value counts of each unique purpose\n",
    "purpose_flight_percentage = df['Purpose.of.flight'].value_counts(normalize=True) * 100\n",
    "purpose_flight_percentage"
   ]
  },
  {
   "cell_type": "markdown",
   "metadata": {},
   "source": [
    "### Analysis of `Purpose.of.flight` column \n",
    "\n",
    "The data in this column seems to be skeweed towards Personal as the purpose of the flight and the null values percentage is 4.3%. I have decided to replace null data values with the value `Personal` since it won't have an effect on general skeweness of data"
   ]
  },
  {
   "cell_type": "code",
   "execution_count": 45,
   "metadata": {},
   "outputs": [
    {
     "data": {
      "text/plain": [
       "Personal                     62.641888\n",
       "Instructional                12.483737\n",
       "Unknown                       6.638737\n",
       "Aerial Application            5.577637\n",
       "Business                      4.604863\n",
       "Positioning                   1.870352\n",
       "Other Work Use                1.413208\n",
       "Ferry                         0.944128\n",
       "Aerial Observation            0.886836\n",
       "Public Aircraft               0.828350\n",
       "Executive/corporate           0.601568\n",
       "Flight Test                   0.463112\n",
       "Skydiving                     0.210071\n",
       "External Load                 0.134875\n",
       "Banner Tow                    0.120552\n",
       "Public Aircraft - Federal     0.119359\n",
       "Air Race show                 0.107423\n",
       "Public Aircraft - Local       0.083551\n",
       "Public Aircraft - State       0.071615\n",
       "Air Race/show                 0.066841\n",
       "Glider Tow                    0.063260\n",
       "Firefighting                  0.042969\n",
       "Air Drop                      0.011936\n",
       "ASHO                          0.007162\n",
       "PUBS                          0.004774\n",
       "PUBL                          0.001194\n",
       "Name: Purpose.of.flight, dtype: float64"
      ]
     },
     "execution_count": 45,
     "metadata": {},
     "output_type": "execute_result"
    }
   ],
   "source": [
    "# Fill null values in 'Purpose.of.flight' column with Reciprocating\n",
    "df['Purpose.of.flight'].fillna('Personal', inplace=True)\n",
    "# Verify the replacement\n",
    "df['Purpose.of.flight'].value_counts(normalize=True) * 100"
   ]
  },
  {
   "cell_type": "code",
   "execution_count": 46,
   "metadata": {},
   "outputs": [
    {
     "data": {
      "text/plain": [
       "Event.Id                   0.000000\n",
       "Investigation.Type         0.000000\n",
       "Accident.Number            0.000000\n",
       "Event.Date                 0.000000\n",
       "Location                   0.000000\n",
       "Country                    0.000000\n",
       "Injury.Severity            0.000000\n",
       "Aircraft.damage            0.000000\n",
       "Registration.Number        0.000000\n",
       "Make                       0.000000\n",
       "Model                      0.000000\n",
       "Amateur.Built              0.000000\n",
       "Number.of.Engines          0.000000\n",
       "Engine.Type                0.000000\n",
       "Purpose.of.flight          0.000000\n",
       "Total.Fatal.Injuries      12.532674\n",
       "Total.Serious.Injuries    13.654647\n",
       "Total.Minor.Injuries      12.733197\n",
       "Total.Uninjured            6.118332\n",
       "Weather.Condition          3.090199\n",
       "Broad.phase.of.flight     28.373975\n",
       "Report.Status              5.799644\n",
       "Publication.Date          15.304186\n",
       "dtype: float64"
      ]
     },
     "execution_count": 46,
     "metadata": {},
     "output_type": "execute_result"
    }
   ],
   "source": [
    "#Verify whether the percentage of null values is now zero\n",
    "df.isna().sum()/ len(df) * 100"
   ]
  },
  {
   "cell_type": "markdown",
   "metadata": {},
   "source": [
    "## Injuries column\n",
    "\n",
    "We will move to the next four columns which deal with injuries. The columns are `Total.Fatal.Injuries`, `Total.Serious.Injuries`,`Total.Minor.Injuries`and `Total.Uninjured` \n",
    "\n",
    "The Distribution of null values for each of the above columns is listed below:\n",
    "\n",
    "* Total.Fatal.Injuries - 12.532674%\n",
    "* Total.Serious.Injuries - 13.654647%\n",
    "* Total.Minor.Injuries - 12.733197%\n",
    "* Total.Uninjured - 6.118332%\n",
    "\n",
    "We will first get identify the datatypes stored on each of the above 4 listed columns in order to proceed with our analysis. I will create function to handle the above in order to prevent code repetition"
   ]
  },
  {
   "cell_type": "code",
   "execution_count": 47,
   "metadata": {},
   "outputs": [],
   "source": [
    "#Function to identify data types \n",
    "\n",
    "def print_column_dtype(df, column_name):\n",
    "    \"\"\"\n",
    "    Prints the name of the column and its data type.\n",
    "    \n",
    "    Parameters:\n",
    "        df (pd.DataFrame): The DataFrame containing the column.\n",
    "        column_name (str): The name of the column.\n",
    "    \"\"\"\n",
    "    if column_name in df.columns:\n",
    "        dtype = df[column_name].dtype\n",
    "        print(f\"The column '{column_name}' has data type: {dtype}\")\n",
    "    else:\n",
    "        print(f\"Column '{column_name}' does not exist in the DataFrame.\")\n"
   ]
  },
  {
   "cell_type": "code",
   "execution_count": 48,
   "metadata": {},
   "outputs": [
    {
     "name": "stdout",
     "output_type": "stream",
     "text": [
      "The column 'Total.Fatal.Injuries' has data type: float64\n",
      "The column 'Total.Serious.Injuries' has data type: float64\n",
      "The column 'Total.Minor.Injuries' has data type: float64\n",
      "The column 'Total.Uninjured' has data type: float64\n"
     ]
    }
   ],
   "source": [
    "#Identiying data types in each of the four Injury columns\n",
    "print_column_dtype(df, 'Total.Fatal.Injuries')\n",
    "print_column_dtype(df, 'Total.Serious.Injuries')\n",
    "print_column_dtype(df, 'Total.Minor.Injuries')\n",
    "print_column_dtype(df, 'Total.Uninjured')"
   ]
  },
  {
   "cell_type": "markdown",
   "metadata": {},
   "source": [
    "### Analysis of Injuries columns\n",
    "First we can see that data type of all listed columns above is float. This means that we are dealing with numerical data. We can therefore calculate measures of central tendency.\n",
    "\n",
    "We will then do the mean and median of all the four columns together to avoid repeating the same code"
   ]
  },
  {
   "cell_type": "code",
   "execution_count": 49,
   "metadata": {},
   "outputs": [],
   "source": [
    "#Function to get the mean and median based on column passed\n",
    "def print_column_stats(df, column_name):\n",
    "    \"\"\"\n",
    "    Prints the mean and median of a specified column in a DataFrame.\n",
    "    \n",
    "    Parameters:\n",
    "        df (pd.DataFrame): The DataFrame containing the column.\n",
    "        column_name (str): The name of the column.\n",
    "    \"\"\"\n",
    "    if column_name in df.columns:\n",
    "        mean_value = df[column_name].mean()\n",
    "        median_value = df[column_name].median()\n",
    "        print(f\"The column '{column_name}' has:\")\n",
    "        print(f\"Mean: {mean_value}\")\n",
    "        print(f\"Median: {median_value}\")\n",
    "    else:\n",
    "        print(f\"Column '{column_name}' does not exist in the DataFrame.\")"
   ]
  },
  {
   "cell_type": "code",
   "execution_count": 50,
   "metadata": {},
   "outputs": [
    {
     "name": "stdout",
     "output_type": "stream",
     "text": [
      "The column 'Total.Fatal.Injuries' has:\n",
      "Mean: 0.558494016184277\n",
      "Median: 0.0\n",
      "The column 'Total.Serious.Injuries' has:\n",
      "Mean: 0.25812471489197\n",
      "Median: 0.0\n",
      "The column 'Total.Minor.Injuries' has:\n",
      "Mean: 0.33096713306799064\n",
      "Median: 0.0\n",
      "The column 'Total.Uninjured' has:\n",
      "Mean: 3.309554383065285\n",
      "Median: 1.0\n"
     ]
    }
   ],
   "source": [
    "#Identiying mean and median in each of the four Injury columns\n",
    "\n",
    "print_column_stats(df, 'Total.Fatal.Injuries')\n",
    "print_column_stats(df, 'Total.Serious.Injuries')\n",
    "print_column_stats(df, 'Total.Minor.Injuries')\n",
    "print_column_stats(df, 'Total.Uninjured')"
   ]
  },
  {
   "cell_type": "markdown",
   "metadata": {},
   "source": [
    "### Analysis of Injuries columns continued\n",
    "\n",
    "#### `Total.Fatal.Injuries`\n",
    "From the above function we can see that the mean and median of the Fatal Injuries is 0.5584 and 0 respectively.\n",
    "\n",
    "#### `Total.Serious.Injuries`\n",
    "The mean and median of the Serious Injuries is 0.2581 and 0 respectively.\n",
    "\n",
    "#### `Total.Minor.Injuries`\n",
    "The mean and median of the Minor Injuries is 0.3309 and 0 respectively.\n",
    "\n",
    "#### `Total.Uninjured`\n",
    "The mean and median of the Uninjured is 3.3095 and 0 respectively.\n",
    "\n",
    "This does not guide us on how to deal with the null values.We will plot Histogram to view how the data is skewed for each of the four columns"
   ]
  },
  {
   "cell_type": "code",
   "execution_count": 51,
   "metadata": {},
   "outputs": [
    {
     "data": {
      "image/png": "[encoded data removed]",
      "text/plain": [
       "<Figure size 1152x864 with 4 Axes>"
      ]
     },
     "metadata": {
      "needs_background": "light"
     },
     "output_type": "display_data"
    }
   ],
   "source": [
    "# Define the columns and corresponding colors\n",
    "columns = ['Total.Fatal.Injuries', 'Total.Serious.Injuries', 'Total.Minor.Injuries', 'Total.Uninjured']\n",
    "colors = ['skyblue', 'lightgreen', 'orange', 'pink']\n",
    "\n",
    "# Set up the figure and axes\n",
    "fig, axes = plt.subplots(2, 2, figsize=(16, 12))  # Create a 2x2 grid\n",
    "axes = axes.flatten()  # Flatten the array of axes for easy iteration\n",
    "\n",
    "# Plot each column\n",
    "for i, col in enumerate(columns):\n",
    "    axes[i].hist(df[col].dropna(), bins=range(0, 10), \n",
    "                 color=colors[i], edgecolor='black', align='left')\n",
    "    axes[i].set_title(f'Histogram of {col}', fontsize=14)\n",
    "    axes[i].set_xlabel(col, fontsize=12)\n",
    "    axes[i].set_ylabel('Frequency', fontsize=12)\n",
    "    axes[i].grid(axis='y', alpha=0.75)\n",
    "\n",
    "# Adjust layout\n",
    "plt.tight_layout()\n",
    "plt.show()"
   ]
  },
  {
   "cell_type": "markdown",
   "metadata": {},
   "source": [
    "### Analysis of Injuries column continued\n",
    "\n",
    "From the histogram above, looking at the `Total Fatal Injuries`, `Total Serious Injuries` and `Total Minor Injuries`. The data seems to skewed towards 0 which is all the above three columns have a median of zero. Therefore we will fill all null values with 0 since the data is already and it won't have an effect on the data\n",
    "\n",
    "For the last remaining column, `Total Uninjured`, the mean is 3.3 but looking at the data, is skewed towards 0 and since our median is 1, we will fill all null values with 1\n",
    "\n",
    "Below I will fill fill all the columns above with respective median value as discussed above\n"
   ]
  },
  {
   "cell_type": "code",
   "execution_count": 52,
   "metadata": {},
   "outputs": [],
   "source": [
    "# Fill null values in 'Total.Fatal.Injuries' column with 0\n",
    "df['Total.Fatal.Injuries'].fillna(0, inplace=True)\n",
    "\n",
    "# Fill null values in 'Total Serious Injuries' column with 0\n",
    "df['Total.Serious.Injuries'].fillna(0, inplace=True)\n",
    "\n",
    "# Fill null values in 'Total.Fatal.Injuries' column with 0\n",
    "df['Total.Minor.Injuries'].fillna(0, inplace=True)\n",
    "\n",
    "# Fill null values in 'Total.Fatal.Injuries' column with 0\n",
    "df['Total.Uninjured'].fillna(1, inplace=True)"
   ]
  },
  {
   "cell_type": "code",
   "execution_count": 53,
   "metadata": {},
   "outputs": [
    {
     "data": {
      "text/plain": [
       "Event.Id                   0.000000\n",
       "Investigation.Type         0.000000\n",
       "Accident.Number            0.000000\n",
       "Event.Date                 0.000000\n",
       "Location                   0.000000\n",
       "Country                    0.000000\n",
       "Injury.Severity            0.000000\n",
       "Aircraft.damage            0.000000\n",
       "Registration.Number        0.000000\n",
       "Make                       0.000000\n",
       "Model                      0.000000\n",
       "Amateur.Built              0.000000\n",
       "Number.of.Engines          0.000000\n",
       "Engine.Type                0.000000\n",
       "Purpose.of.flight          0.000000\n",
       "Total.Fatal.Injuries       0.000000\n",
       "Total.Serious.Injuries     0.000000\n",
       "Total.Minor.Injuries       0.000000\n",
       "Total.Uninjured            0.000000\n",
       "Weather.Condition          3.090199\n",
       "Broad.phase.of.flight     28.373975\n",
       "Report.Status              5.799644\n",
       "Publication.Date          15.304186\n",
       "dtype: float64"
      ]
     },
     "execution_count": 53,
     "metadata": {},
     "output_type": "execute_result"
    }
   ],
   "source": [
    "#Verifying null values have been replaced\n",
    "df.isna().sum()/ len(df) * 100"
   ]
  },
  {
   "cell_type": "markdown",
   "metadata": {},
   "source": [
    "##  Weather condition column\n",
    "Next we will move to the `Weather.Condition` column. \n",
    "\n",
    "The column has 3.09% missing value percentage. Let's look at how the data is categorized in the column"
   ]
  },
  {
   "cell_type": "code",
   "execution_count": 54,
   "metadata": {},
   "outputs": [
    {
     "data": {
      "text/plain": [
       "VMC    92.085427\n",
       "IMC     6.884915\n",
       "UNK     0.790718\n",
       "Unk     0.238940\n",
       "Name: Weather.Condition, dtype: float64"
      ]
     },
     "execution_count": 54,
     "metadata": {},
     "output_type": "execute_result"
    }
   ],
   "source": [
    "#Get ditribution of data in the column\n",
    "weather_condition_percentage = df['Weather.Condition'].value_counts(normalize=True) * 100\n",
    "weather_condition_percentage"
   ]
  },
  {
   "cell_type": "markdown",
   "metadata": {},
   "source": [
    "### Analysis of Weather condition column\n",
    "\n",
    "From the above distribution we can see there four categorizations of the weather conditions, VMC,IMC,UNK and Unk.But seems like the last two categories might be reffering to the same weather condition\n",
    "\n",
    "We will replace all values containing 'Unk' to 'UNK'."
   ]
  },
  {
   "cell_type": "code",
   "execution_count": 55,
   "metadata": {},
   "outputs": [
    {
     "data": {
      "text/plain": [
       "VMC    92.085427\n",
       "IMC     6.884915\n",
       "UNK     1.029658\n",
       "Name: Weather.Condition, dtype: float64"
      ]
     },
     "execution_count": 55,
     "metadata": {},
     "output_type": "execute_result"
    }
   ],
   "source": [
    "# Replace unk with UNK\n",
    "df['Weather.Condition'] = df['Weather.Condition'].replace('Unk', 'UNK')\n",
    "\n",
    "#verifying the replacement\n",
    "df['Weather.Condition'].value_counts(normalize=True) * 100"
   ]
  },
  {
   "cell_type": "markdown",
   "metadata": {},
   "source": [
    "### Analysis of Weather condition column continued\n",
    "\n",
    "From the value counts function above, VMC weather condition seems to be taking the highest percentage of about 92%. This means that the data is skewed towards VMC, hence therefore we will fill the null values with VMC\n"
   ]
  },
  {
   "cell_type": "code",
   "execution_count": 56,
   "metadata": {},
   "outputs": [],
   "source": [
    "# Fill null values in 'Total.Fatal.Injuries' column with 0\n",
    "df['Weather.Condition'].fillna('VMC', inplace=True)"
   ]
  },
  {
   "cell_type": "code",
   "execution_count": 57,
   "metadata": {},
   "outputs": [
    {
     "data": {
      "text/plain": [
       "Event.Id                   0.000000\n",
       "Investigation.Type         0.000000\n",
       "Accident.Number            0.000000\n",
       "Event.Date                 0.000000\n",
       "Location                   0.000000\n",
       "Country                    0.000000\n",
       "Injury.Severity            0.000000\n",
       "Aircraft.damage            0.000000\n",
       "Registration.Number        0.000000\n",
       "Make                       0.000000\n",
       "Model                      0.000000\n",
       "Amateur.Built              0.000000\n",
       "Number.of.Engines          0.000000\n",
       "Engine.Type                0.000000\n",
       "Purpose.of.flight          0.000000\n",
       "Total.Fatal.Injuries       0.000000\n",
       "Total.Serious.Injuries     0.000000\n",
       "Total.Minor.Injuries       0.000000\n",
       "Total.Uninjured            0.000000\n",
       "Weather.Condition          0.000000\n",
       "Broad.phase.of.flight     28.373975\n",
       "Report.Status              5.799644\n",
       "Publication.Date          15.304186\n",
       "dtype: float64"
      ]
     },
     "execution_count": 57,
     "metadata": {},
     "output_type": "execute_result"
    }
   ],
   "source": [
    "#Verifying null values have been replaced\n",
    "df.isna().sum()/ len(df) * 100"
   ]
  },
  {
   "cell_type": "markdown",
   "metadata": {},
   "source": [
    "##  Broad.phase.of.flight column\n",
    "\n",
    "Next we will move to the `Broad.phase.of.flight` column. \n",
    "\n",
    "The column has 28.4% missing value percentage. Let's look at how the data is categorized in the column\n"
   ]
  },
  {
   "cell_type": "code",
   "execution_count": 58,
   "metadata": {},
   "outputs": [
    {
     "data": {
      "text/plain": [
       "Landing        25.244547\n",
       "Takeoff        20.480261\n",
       "Cruise         16.480861\n",
       "Maneuvering    13.451316\n",
       "Approach       10.675065\n",
       "Climb           3.169525\n",
       "Taxi            3.087870\n",
       "Descent         2.852905\n",
       "Go-around       2.239664\n",
       "Standing        1.241480\n",
       "Unknown         0.888200\n",
       "Other           0.188305\n",
       "Name: Broad.phase.of.flight, dtype: float64"
      ]
     },
     "execution_count": 58,
     "metadata": {},
     "output_type": "execute_result"
    }
   ],
   "source": [
    "#Get distribution of data in the column\n",
    "phase_flight_percentage = df['Broad.phase.of.flight'].value_counts(normalize=True) * 100\n",
    "phase_flight_percentage"
   ]
  },
  {
   "cell_type": "markdown",
   "metadata": {},
   "source": [
    "### Analysis of Broad.phase.of.flight column\n",
    "The data contained in this column does not help in objectively answering the question at hand therefore I have decided to drop the column altogether\n"
   ]
  },
  {
   "cell_type": "code",
   "execution_count": 59,
   "metadata": {},
   "outputs": [
    {
     "data": {
      "text/plain": [
       "Event.Id                   0.000000\n",
       "Investigation.Type         0.000000\n",
       "Accident.Number            0.000000\n",
       "Event.Date                 0.000000\n",
       "Location                   0.000000\n",
       "Country                    0.000000\n",
       "Injury.Severity            0.000000\n",
       "Aircraft.damage            0.000000\n",
       "Registration.Number        0.000000\n",
       "Make                       0.000000\n",
       "Model                      0.000000\n",
       "Amateur.Built              0.000000\n",
       "Number.of.Engines          0.000000\n",
       "Engine.Type                0.000000\n",
       "Purpose.of.flight          0.000000\n",
       "Total.Fatal.Injuries       0.000000\n",
       "Total.Serious.Injuries     0.000000\n",
       "Total.Minor.Injuries       0.000000\n",
       "Total.Uninjured            0.000000\n",
       "Weather.Condition          0.000000\n",
       "Report.Status              5.799644\n",
       "Publication.Date          15.304186\n",
       "dtype: float64"
      ]
     },
     "execution_count": 59,
     "metadata": {},
     "output_type": "execute_result"
    }
   ],
   "source": [
    "#Dropping Broad.phase.of.flight \n",
    "df.drop(columns=['Broad.phase.of.flight'], inplace=True)\n",
    "\n",
    "#Verifying the result\n",
    "df.isna().sum()/ len(df) * 100"
   ]
  },
  {
   "cell_type": "markdown",
   "metadata": {},
   "source": [
    "##  Report.Status column\n",
    "\n",
    "Next we will move to the `Report.Status` column. \n",
    "\n",
    "The column has 5.7% missing value percentage. Let's look at how the data is categorized in the column"
   ]
  },
  {
   "cell_type": "code",
   "execution_count": 60,
   "metadata": {},
   "outputs": [
    {
     "data": {
      "text/plain": [
       "Probable Cause                                                                                                                                                                                                                                         76.072578\n",
       "Foreign                                                                                                                                                                                                                                                 0.867946\n",
       "Factual                                                                                                                                                                                                                                                 0.178657\n",
       "<br /><br />                                                                                                                                                                                                                                            0.153316\n",
       "The pilot's failure to maintain directional control during the landing roll.                                                                                                                                                                            0.070956\n",
       "                                                                                                                                                                                                                                                         ...    \n",
       "An in-flight fire and subsequent total loss of engine power for reasons that could not be determined due to extensive impact and fire damage, followed by a loss of airplane control.                                                                   0.001267\n",
       "The flight instructor's failure to maintain aircraft control during landing as a result of his failure to adjust the electric trim to the proper position for landing.                                                                                  0.001267\n",
       "The pilots inadequate preflight inspection, during which he failed to ensure the landing gear handle in the down position which resulted in the landing gear retracting during takeoff, a loss of directional control, and a runway excursion.\\r     0.001267\n",
       "The student pilot's failure to maintain directional control during landing. A factor contributing to the accident was a nose wheel vibration.                                                                                                           0.001267\n",
       "The failure of maintenance personnel to properly torque an air tube fitting, which resulted in a total loss of engine power.                                                                                                                            0.001267\n",
       "Name: Report.Status, Length: 16603, dtype: float64"
      ]
     },
     "execution_count": 60,
     "metadata": {},
     "output_type": "execute_result"
    }
   ],
   "source": [
    "#Get distribution of data in the column\n",
    "report_status_percentage = df['Report.Status'].value_counts(normalize=True) * 100\n",
    "report_status_percentage"
   ]
  },
  {
   "cell_type": "markdown",
   "metadata": {},
   "source": [
    "### Analysis of Report.Status column\n",
    "\n",
    "From the above distribution we can see there are about 16603 unique categorizations of the report status but the most common data recorded was `Probable Cause` occupying a percentage of about 76.0%. Since the data is already skewed towards this value, I will replace the null values with the value `Probable Cause`\n"
   ]
  },
  {
   "cell_type": "code",
   "execution_count": 62,
   "metadata": {},
   "outputs": [
    {
     "data": {
      "text/plain": [
       "Event.Id                   0.000000\n",
       "Investigation.Type         0.000000\n",
       "Accident.Number            0.000000\n",
       "Event.Date                 0.000000\n",
       "Location                   0.000000\n",
       "Country                    0.000000\n",
       "Injury.Severity            0.000000\n",
       "Aircraft.damage            0.000000\n",
       "Registration.Number        0.000000\n",
       "Make                       0.000000\n",
       "Model                      0.000000\n",
       "Amateur.Built              0.000000\n",
       "Number.of.Engines          0.000000\n",
       "Engine.Type                0.000000\n",
       "Purpose.of.flight          0.000000\n",
       "Total.Fatal.Injuries       0.000000\n",
       "Total.Serious.Injuries     0.000000\n",
       "Total.Minor.Injuries       0.000000\n",
       "Total.Uninjured            0.000000\n",
       "Weather.Condition          0.000000\n",
       "Report.Status              0.000000\n",
       "Publication.Date          15.304186\n",
       "dtype: float64"
      ]
     },
     "execution_count": 62,
     "metadata": {},
     "output_type": "execute_result"
    }
   ],
   "source": [
    "# Fill null values in 'Report.Status' column with Probable Cause\n",
    "df['Report.Status'].fillna('Probable Cause', inplace=True)\n",
    "\n",
    "#Verifying the result\n",
    "df.isna().sum()/ len(df) * 100"
   ]
  },
  {
   "cell_type": "code",
   "execution_count": null,
   "metadata": {},
   "outputs": [],
   "source": []
  }
 ],
 "metadata": {
  "kernelspec": {
   "display_name": "Python (learn-env)",
   "language": "python",
   "name": "learn-env"
  },
  "language_info": {
   "codemirror_mode": {
    "name": "ipython",
    "version": 3
   },
   "file_extension": ".py",
   "mimetype": "text/x-python",
   "name": "python",
   "nbconvert_exporter": "python",
   "pygments_lexer": "ipython3",
   "version": "3.8.5"
  }
 },
 "nbformat": 4,
 "nbformat_minor": 4
}
